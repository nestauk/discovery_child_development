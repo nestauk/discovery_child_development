{
 "cells": [
  {
   "cell_type": "markdown",
   "metadata": {},
   "source": [
    "# Dealing with imbalanced datasets"
   ]
  },
  {
   "cell_type": "code",
   "execution_count": null,
   "metadata": {},
   "outputs": [],
   "source": [
    "from sklearn.datasets import make_classification\n",
    "X, y = make_classification(n_samples=5000, n_features=2, n_informative=2,\n",
    "                           n_redundant=0, n_repeated=0, n_classes=3,\n",
    "                           n_clusters_per_class=1,\n",
    "                           weights=[0.01, 0.05, 0.94],\n",
    "                           class_sep=0.8, random_state=0)\n",
    "from imblearn.over_sampling import RandomOverSampler\n",
    "ros = RandomOverSampler(random_state=0)\n",
    "X_resampled, y_resampled = ros.fit_resample(X, y)\n",
    "from collections import Counter\n",
    "print(sorted(Counter(y_resampled).items()))"
   ]
  },
  {
   "cell_type": "markdown",
   "metadata": {},
   "source": [
    "# Testing training"
   ]
  },
  {
   "cell_type": "code",
   "execution_count": 23,
   "metadata": {},
   "outputs": [],
   "source": [
    "from discovery_child_development.getters.labels import (\n",
    "    get_detection_management_labels,\n",
    "    get_relevance_labels\n",
    ")\n"
   ]
  },
  {
   "cell_type": "code",
   "execution_count": 24,
   "metadata": {},
   "outputs": [
    {
     "name": "stdout",
     "output_type": "stream",
     "text": [
      "2024-01-18 14:21:41,900 - root - INFO - File data/labels/child_development/detection_management_labels.jsonl downloaded from discovery-iss to /Users/karlis.kanders/Documents/code/discovery_child_development/outputs/labels/detection_management/detection_management_labels.jsonl\n"
     ]
    },
    {
     "data": {
      "text/html": [
       "<div>\n",
       "<style scoped>\n",
       "    .dataframe tbody tr th:only-of-type {\n",
       "        vertical-align: middle;\n",
       "    }\n",
       "\n",
       "    .dataframe tbody tr th {\n",
       "        vertical-align: top;\n",
       "    }\n",
       "\n",
       "    .dataframe thead th {\n",
       "        text-align: right;\n",
       "    }\n",
       "</style>\n",
       "<table border=\"1\" class=\"dataframe\">\n",
       "  <thead>\n",
       "    <tr style=\"text-align: right;\">\n",
       "      <th></th>\n",
       "      <th>counts</th>\n",
       "    </tr>\n",
       "    <tr>\n",
       "      <th>prediction</th>\n",
       "      <th></th>\n",
       "    </tr>\n",
       "  </thead>\n",
       "  <tbody>\n",
       "    <tr>\n",
       "      <th>Both</th>\n",
       "      <td>169</td>\n",
       "    </tr>\n",
       "    <tr>\n",
       "      <th>Detection</th>\n",
       "      <td>440</td>\n",
       "    </tr>\n",
       "    <tr>\n",
       "      <th>Management</th>\n",
       "      <td>1181</td>\n",
       "    </tr>\n",
       "    <tr>\n",
       "      <th>None</th>\n",
       "      <td>85</td>\n",
       "    </tr>\n",
       "  </tbody>\n",
       "</table>\n",
       "</div>"
      ],
      "text/plain": [
       "            counts\n",
       "prediction        \n",
       "Both           169\n",
       "Detection      440\n",
       "Management    1181\n",
       "None            85"
      ]
     },
     "execution_count": 24,
     "metadata": {},
     "output_type": "execute_result"
    }
   ],
   "source": [
    "labelled_text_df = get_detection_management_labels()\n",
    "(\n",
    "    labelled_text_df\n",
    "    .groupby(\"prediction\")\n",
    "    .agg(counts=(\"prediction\", \"count\"))\n",
    ")"
   ]
  },
  {
   "cell_type": "code",
   "execution_count": 20,
   "metadata": {},
   "outputs": [
    {
     "name": "stdout",
     "output_type": "stream",
     "text": [
      "2024-01-18 13:25:27,668 - root - INFO - File data/labels/child_development/relevance_labels.jsonl downloaded from discovery-iss to /Users/karlis.kanders/Documents/code/discovery_child_development/outputs/labels/relevance/relevance_labels.jsonl\n"
     ]
    },
    {
     "data": {
      "text/html": [
       "<div>\n",
       "<style scoped>\n",
       "    .dataframe tbody tr th:only-of-type {\n",
       "        vertical-align: middle;\n",
       "    }\n",
       "\n",
       "    .dataframe tbody tr th {\n",
       "        vertical-align: top;\n",
       "    }\n",
       "\n",
       "    .dataframe thead th {\n",
       "        text-align: right;\n",
       "    }\n",
       "</style>\n",
       "<table border=\"1\" class=\"dataframe\">\n",
       "  <thead>\n",
       "    <tr style=\"text-align: right;\">\n",
       "      <th></th>\n",
       "      <th>counts</th>\n",
       "    </tr>\n",
       "    <tr>\n",
       "      <th>prediction</th>\n",
       "      <th></th>\n",
       "    </tr>\n",
       "  </thead>\n",
       "  <tbody>\n",
       "    <tr>\n",
       "      <th>Not-relevant</th>\n",
       "      <td>1629</td>\n",
       "    </tr>\n",
       "    <tr>\n",
       "      <th>Not-specified</th>\n",
       "      <td>1292</td>\n",
       "    </tr>\n",
       "    <tr>\n",
       "      <th>Relevant</th>\n",
       "      <td>1875</td>\n",
       "    </tr>\n",
       "  </tbody>\n",
       "</table>\n",
       "</div>"
      ],
      "text/plain": [
       "               counts\n",
       "prediction           \n",
       "Not-relevant     1629\n",
       "Not-specified    1292\n",
       "Relevant         1875"
      ]
     },
     "execution_count": 20,
     "metadata": {},
     "output_type": "execute_result"
    }
   ],
   "source": [
    "(\n",
    "    get_relevance_labels()\n",
    "    .groupby(\"prediction\")\n",
    "    .agg(counts=(\"prediction\", \"count\"))\n",
    ")"
   ]
  },
  {
   "cell_type": "code",
   "execution_count": 5,
   "metadata": {},
   "outputs": [
    {
     "data": {
      "text/html": [
       "<div>\n",
       "<style scoped>\n",
       "    .dataframe tbody tr th:only-of-type {\n",
       "        vertical-align: middle;\n",
       "    }\n",
       "\n",
       "    .dataframe tbody tr th {\n",
       "        vertical-align: top;\n",
       "    }\n",
       "\n",
       "    .dataframe thead th {\n",
       "        text-align: right;\n",
       "    }\n",
       "</style>\n",
       "<table border=\"1\" class=\"dataframe\">\n",
       "  <thead>\n",
       "    <tr style=\"text-align: right;\">\n",
       "      <th></th>\n",
       "      <th>Unnamed: 0</th>\n",
       "      <th>labels</th>\n",
       "      <th>id</th>\n",
       "      <th>source</th>\n",
       "      <th>text</th>\n",
       "      <th>model</th>\n",
       "      <th>timestamp</th>\n",
       "    </tr>\n",
       "  </thead>\n",
       "  <tbody>\n",
       "    <tr>\n",
       "      <th>0</th>\n",
       "      <td>970</td>\n",
       "      <td>Management</td>\n",
       "      <td>CN-210542349-U</td>\n",
       "      <td>patents</td>\n",
       "      <td>Jet-assisted walking equipment. The utility mo...</td>\n",
       "      <td>gpt-3.5-turbo-1106</td>\n",
       "      <td>20240116173714</td>\n",
       "    </tr>\n",
       "    <tr>\n",
       "      <th>1</th>\n",
       "      <td>162</td>\n",
       "      <td>Management</td>\n",
       "      <td>CN-114501362-A</td>\n",
       "      <td>patents</td>\n",
       "      <td>A child safety monitoring system based on NBIO...</td>\n",
       "      <td>gpt-3.5-turbo-1106</td>\n",
       "      <td>20240116120724</td>\n",
       "    </tr>\n",
       "    <tr>\n",
       "      <th>2</th>\n",
       "      <td>151</td>\n",
       "      <td>Management</td>\n",
       "      <td>CN-216571513-U</td>\n",
       "      <td>patents</td>\n",
       "      <td>A Conversational Doll for Object Recognition f...</td>\n",
       "      <td>gpt-3.5-turbo-1106</td>\n",
       "      <td>20240116120711</td>\n",
       "    </tr>\n",
       "    <tr>\n",
       "      <th>3</th>\n",
       "      <td>426</td>\n",
       "      <td>Both</td>\n",
       "      <td>CN-208301643-U</td>\n",
       "      <td>patents</td>\n",
       "      <td>All-in-one pediatric physical examination devi...</td>\n",
       "      <td>gpt-3.5-turbo-1106</td>\n",
       "      <td>20240116121949</td>\n",
       "    </tr>\n",
       "    <tr>\n",
       "      <th>4</th>\n",
       "      <td>641</td>\n",
       "      <td>Detection</td>\n",
       "      <td>CN-110222713-A</td>\n",
       "      <td>patents</td>\n",
       "      <td>System and method for image classification and...</td>\n",
       "      <td>gpt-3.5-turbo-1106</td>\n",
       "      <td>20240116123133</td>\n",
       "    </tr>\n",
       "  </tbody>\n",
       "</table>\n",
       "</div>"
      ],
      "text/plain": [
       "   Unnamed: 0      labels              id   source  \\\n",
       "0         970  Management  CN-210542349-U  patents   \n",
       "1         162  Management  CN-114501362-A  patents   \n",
       "2         151  Management  CN-216571513-U  patents   \n",
       "3         426        Both  CN-208301643-U  patents   \n",
       "4         641   Detection  CN-110222713-A  patents   \n",
       "\n",
       "                                                text               model  \\\n",
       "0  Jet-assisted walking equipment. The utility mo...  gpt-3.5-turbo-1106   \n",
       "1  A child safety monitoring system based on NBIO...  gpt-3.5-turbo-1106   \n",
       "2  A Conversational Doll for Object Recognition f...  gpt-3.5-turbo-1106   \n",
       "3  All-in-one pediatric physical examination devi...  gpt-3.5-turbo-1106   \n",
       "4  System and method for image classification and...  gpt-3.5-turbo-1106   \n",
       "\n",
       "        timestamp  \n",
       "0  20240116173714  \n",
       "1  20240116120724  \n",
       "2  20240116120711  \n",
       "3  20240116121949  \n",
       "4  20240116123133  "
      ]
     },
     "execution_count": 5,
     "metadata": {},
     "output_type": "execute_result"
    }
   ],
   "source": [
    "from nesta_ds_utils.loading_saving import S3\n",
    "from discovery_child_development import PROJECT_DIR, S3_BUCKET\n",
    "\n",
    "df = S3.download_obj(bucket=S3_BUCKET, path_from=\"data/labels/detection_management_classifier/processed/gpt_labelled_test.csv\", download_as=\"dataframe\")\n",
    "\n",
    "df.head()"
   ]
  },
  {
   "cell_type": "code",
   "execution_count": 124,
   "metadata": {},
   "outputs": [
    {
     "name": "stdout",
     "output_type": "stream",
     "text": [
      "2024-01-18 14:57:48,456 - root - INFO - Loading in the data...\n",
      "2024-01-18 14:57:48,720 - root - INFO - File data/labels/child_development/detection_management_labels.jsonl downloaded from discovery-iss to /Users/karlis.kanders/Documents/code/discovery_child_development/outputs/labels/detection_management/detection_management_labels.jsonl\n",
      "2024-01-18 14:57:48,732 - root - INFO - Creating test set...\n",
      "2024-01-18 14:57:48,735 - root - INFO - Uploading test data to S3...\n",
      "2024-01-18 14:57:48,836 - root - INFO - Splitting into a training/validation sets...\n",
      "2024-01-18 14:57:48,837 - root - INFO - Beginning train-validation split...\n"
     ]
    }
   ],
   "source": [
    "import pandas as pd\n",
    "from sklearn.model_selection import train_test_split\n",
    "from nesta_ds_utils.loading_saving import S3\n",
    "from discovery_child_development import logging, config, S3_BUCKET\n",
    "from discovery_child_development.getters.labels import get_detection_management_labels\n",
    "\n",
    "OUT_PATH = \"data/labels/detection_management_classifier/processed/\"\n",
    "\n",
    "# needed for train-validation split\n",
    "SEED = config[\"seed\"]\n",
    "\n",
    "# Loading in the data\n",
    "logging.info(\"Loading in the data...\")\n",
    "labelled_data = (\n",
    "    get_detection_management_labels()\n",
    "    # Rename the prediction column to labels\n",
    "    .rename(columns={\"prediction\": \"labels\"})\n",
    ")\n",
    "\n",
    "# Create test set for the classifier\n",
    "logging.info(\"Creating test set...\")\n",
    "# 50/50 split of EY seed list and broader concepts\n",
    "test_data = pd.concat(\n",
    "    [\n",
    "        labelled_data.query(\"source=='patents'\").sample(25, random_state=SEED),\n",
    "        labelled_data.query(\"source=='openalex'\").sample(25, random_state=SEED),\n",
    "    ]\n",
    ")\n",
    "\n",
    "# Upload test data to S3\n",
    "logging.info(\"Uploading test data to S3...\")\n",
    "S3.upload_obj(\n",
    "    test_data,\n",
    "    S3_BUCKET,\n",
    "    f\"{OUT_PATH}gpt_labelled_test.csv\",\n",
    ")\n",
    "# Remove test data from the training data\n",
    "labelled_data = labelled_data[~labelled_data[\"id\"].isin(test_data[\"id\"].unique())]\n",
    "\n",
    "# Training/Validation sets for the classifier\n",
    "logging.info(\"Splitting into a training/validation sets...\")\n",
    "\n",
    "# 1. Create a training/validation set\n",
    "# Split IDs into random train and validation subsets for each of the 3 datasets\n",
    "logging.info(\"Beginning train-validation split...\")\n",
    "unique_ids = labelled_data[\"id\"].unique()\n",
    "train_ids, validation_ids = train_test_split(\n",
    "    unique_ids, test_size=0.3, random_state=SEED\n",
    ")\n",
    "\n",
    "# Retain only the train and validation data, remove works with no text\n",
    "train_df = (\n",
    "    labelled_data[labelled_data[\"id\"].isin(train_ids)]\n",
    "    .dropna(subset=[\"text\"])\n",
    "    .reset_index(drop=True)\n",
    ")\n",
    "validation_df = (\n",
    "    labelled_data[labelled_data[\"id\"].isin(validation_ids)]\n",
    "    .dropna(subset=[\"text\"])\n",
    "    .reset_index(drop=True)\n",
    ")"
   ]
  },
  {
   "cell_type": "code",
   "execution_count": 245,
   "metadata": {},
   "outputs": [],
   "source": [
    "# Import packages\n",
    "import argparse\n",
    "from dotenv import load_dotenv\n",
    "import numpy as np\n",
    "import pandas as pd\n",
    "from sklearn.ensemble import RandomForestClassifier\n",
    "from sklearn.linear_model import LogisticRegression\n",
    "from sklearn.linear_model import SGDClassifier\n",
    "from sklearn.neighbors import KNeighborsClassifier\n",
    "from sklearn.svm import LinearSVC\n",
    "import wandb\n",
    "\n",
    "## Nesta DS utils\n",
    "from nesta_ds_utils.loading_saving import S3\n",
    "\n",
    "## Import from project\n",
    "from discovery_child_development import PROJECT_DIR, logging, config, S3_BUCKET\n",
    "from discovery_child_development.utils import classification_utils\n",
    "from discovery_child_development.utils.general_utils import replace_binary_labels\n",
    "from discovery_child_development.getters.detection_management_classifier import (\n",
    "    get_training_data,\n",
    ")\n",
    "from discovery_child_development.getters import get_sentence_embeddings\n",
    "from discovery_child_development.utils import wandb as wb\n",
    "\n",
    "load_dotenv()\n",
    "\n",
    "MODEL_PATH = PROJECT_DIR / \"outputs/models/\"\n",
    "S3_PATH = \"models/detection_management_classifier/\"\n",
    "\n",
    "PATH_FROM = \"data/labels/detection_management_classifier/processed/\"\n",
    "VECTORS_PATH = \"data/labels/detection_management_classifier/vectors/\"\n",
    "VECTORS_FILE = \"sentence_vectors_384_labelled.parquet\"\n",
    "\n",
    "# Setting the seed\n",
    "SEED = config[\"seed\"]\n",
    "np.random.seed(SEED)\n",
    "\n",
    "# labelled_text_training = get_training_data(\n",
    "#     set_type=\"train\", path_from=PATH_FROM\n",
    "# )\n",
    "# labelled_text_validation = get_training_data(\n",
    "#     set_type=\"validation\", path_from=PATH_FROM\n",
    "# )\n",
    "\n",
    "labelled_text_training = train_df\n",
    "labelled_text_validation = validation_df\n",
    "\n",
    "# Embeddings from all-MiniLM-L6-v2\n",
    "# Not relevant\n",
    "embeddings_all = get_sentence_embeddings(\n",
    "    s3_bucket=S3_BUCKET, filepath=VECTORS_PATH, filename=VECTORS_FILE\n",
    ")\n",
    "\n",
    "# Create training and validation sets\n",
    "training_set = labelled_text_training.merge(embeddings_all, on=\"id\", how=\"left\")\n",
    "validation_set = labelled_text_validation.merge(embeddings_all, on=\"id\", how=\"left\")\n",
    "\n",
    "# Setting up the training and validation sets\n",
    "X_train = training_set[\"miniLM_384_vector\"].apply(pd.Series).values\n",
    "X_val = validation_set[\"miniLM_384_vector\"].apply(pd.Series).values\n",
    "\n",
    "Y_train = training_set[\"labels\"].astype(\"category\")\n",
    "Y_val = validation_set[\"labels\"].astype(\"category\")"
   ]
  },
  {
   "cell_type": "code",
   "execution_count": 235,
   "metadata": {},
   "outputs": [
    {
     "name": "stdout",
     "output_type": "stream",
     "text": [
      "[('Both', 104), ('Detection', 297), ('Management', 821), ('None', 55)]\n"
     ]
    }
   ],
   "source": [
    "print(sorted(Counter(Y_train).items()))"
   ]
  },
  {
   "cell_type": "code",
   "execution_count": 246,
   "metadata": {},
   "outputs": [],
   "source": [
    "# ros = RandomOverSampler(random_state=0)\n",
    "# X_train, Y_train = ros.fit_resample(X_train, Y_train)\n",
    "\n",
    "from imblearn.over_sampling import SMOTE, ADASYN\n",
    "X_train, Y_train = SMOTE(random_state=0).fit_resample(X_train, Y_train)\n",
    "\n",
    "# from imblearn.under_sampling import RandomUnderSampler\n",
    "# rus = RandomUnderSampler(random_state=0)\n",
    "# X_train, Y_train = rus.fit_resample(X_train, Y_train)\n",
    "\n",
    "# from imblearn.combine import SMOTETomek\n",
    "# smote_tomek = SMOTETomek(random_state=5)\n",
    "# X_train, Y_train = smote_tomek.fit_resample(X_train, Y_train)\n",
    "\n",
    "# from imblearn.combine import SMOTEENN\n",
    "# smote_tomek = SMOTEENN(random_state=0)\n",
    "# X_train, Y_train = smote_tomek.fit_resample(X_train, Y_train)"
   ]
  },
  {
   "cell_type": "code",
   "execution_count": 247,
   "metadata": {},
   "outputs": [
    {
     "name": "stdout",
     "output_type": "stream",
     "text": [
      "[('Both', 821), ('Detection', 821), ('Management', 821), ('None', 821)]\n"
     ]
    }
   ],
   "source": [
    "print(sorted(Counter(Y_train).items()))"
   ]
  },
  {
   "cell_type": "code",
   "execution_count": 248,
   "metadata": {},
   "outputs": [
    {
     "name": "stdout",
     "output_type": "stream",
     "text": [
      "2024-01-18 17:33:26,662 - root - INFO - {'accuracy': 0.7481751824817519, 'precision': 0.5999328275364676, 'recall': 0.6612215344896067, 'f1': 0.6193488371611544, 'hamming': 0.2518248175182482, 'jaccard': 0.4758519705646933}\n"
     ]
    }
   ],
   "source": [
    "classifier = LogisticRegression(penalty=\"l2\", random_state=SEED, multi_class='multinomial')   \n",
    "\n",
    "# Fitting the model\n",
    "classifier.fit(X_train, Y_train)\n",
    "# Predicting on the validation set\n",
    "predictions = classifier.predict(X_val)\n",
    "\n",
    "# Creating metrics\n",
    "metrics = classification_utils.create_average_metrics(\n",
    "    Y_val, predictions, average=\"macro\"\n",
    ")\n",
    "logging.info(metrics)"
   ]
  },
  {
   "cell_type": "code",
   "execution_count": 249,
   "metadata": {},
   "outputs": [
    {
     "name": "stdout",
     "output_type": "stream",
     "text": [
      "              precision    recall  f1-score   support\n",
      "\n",
      "        Both       0.42      0.48      0.45        56\n",
      "   Detection       0.77      0.76      0.76       130\n",
      "  Management       0.89      0.80      0.84       332\n",
      "        None       0.33      0.60      0.42        30\n",
      "\n",
      "    accuracy                           0.75       548\n",
      "   macro avg       0.60      0.66      0.62       548\n",
      "weighted avg       0.78      0.75      0.76       548\n",
      "\n"
     ]
    }
   ],
   "source": [
    "from sklearn.metrics import classification_report\n",
    "report = classification_report(Y_val, predictions)\n",
    "print(report)"
   ]
  },
  {
   "cell_type": "code",
   "execution_count": 250,
   "metadata": {},
   "outputs": [
    {
     "name": "stdout",
     "output_type": "stream",
     "text": [
      "              precision    recall  f1-score   support\n",
      "\n",
      "        Both       0.90      0.95      0.92       821\n",
      "   Detection       0.92      0.91      0.92       821\n",
      "  Management       0.90      0.79      0.84       821\n",
      "        None       0.91      0.98      0.94       821\n",
      "\n",
      "    accuracy                           0.91      3284\n",
      "   macro avg       0.91      0.91      0.91      3284\n",
      "weighted avg       0.91      0.91      0.91      3284\n",
      "\n"
     ]
    }
   ],
   "source": [
    "report = classification_report(Y_train, classifier.predict(X_train))\n",
    "print(report)"
   ]
  },
  {
   "cell_type": "code",
   "execution_count": 41,
   "metadata": {},
   "outputs": [
    {
     "name": "stdout",
     "output_type": "stream",
     "text": [
      "2024-01-18 14:29:14,257 - root - INFO - log_regression -- {'accuracy': 0.6916058394160584, 'precision': 0.5539307637880696, 'recall': 0.6302978397104904, 'f1': 0.5713236500316521, 'hamming': 0.3083941605839416, 'jaccard': 0.42641106066727474}\n",
      "2024-01-18 14:29:14,642 - root - INFO - log_regression_balanced -- {'accuracy': 0.718978102189781, 'precision': 0.5679480352071062, 'recall': 0.6291313606072643, 'f1': 0.5863445178744379, 'hamming': 0.28102189781021897, 'jaccard': 0.44276971941981624}\n",
      "2024-01-18 14:29:14,705 - root - INFO - knn -- {'accuracy': 0.6332116788321168, 'precision': 0.4984485041491171, 'recall': 0.520585363431749, 'f1': 0.49714844856830964, 'hamming': 0.36678832116788324, 'jaccard': 0.3565773262562267}\n",
      "2024-01-18 14:29:16,484 - root - INFO - random_forest -- {'accuracy': 0.7445255474452555, 'precision': 0.5392650710302438, 'recall': 0.4141069773599894, 'f1': 0.40148334672839436, 'hamming': 0.25547445255474455, 'jaccard': 0.3239808145395504}\n"
     ]
    },
    {
     "name": "stderr",
     "output_type": "stream",
     "text": [
      "/opt/homebrew/Caskroom/miniconda/base/envs/discovery_child_development/lib/python3.10/site-packages/sklearn/metrics/_classification.py:1471: UndefinedMetricWarning: Precision is ill-defined and being set to 0.0 in labels with no predicted samples. Use `zero_division` parameter to control this behavior.\n",
      "  _warn_prf(average, modifier, msg_start, len(result))\n"
     ]
    },
    {
     "name": "stdout",
     "output_type": "stream",
     "text": [
      "2024-01-18 14:29:16,682 - root - INFO - sgd -- {'accuracy': 0.6605839416058394, 'precision': 0.5111245546817235, 'recall': 0.5690211395030672, 'f1': 0.5274036735784932, 'hamming': 0.33941605839416056, 'jaccard': 0.38397848397848394}\n"
     ]
    },
    {
     "name": "stderr",
     "output_type": "stream",
     "text": [
      "/opt/homebrew/Caskroom/miniconda/base/envs/discovery_child_development/lib/python3.10/site-packages/sklearn/svm/_classes.py:32: FutureWarning: The default value of `dual` will change from `True` to `'auto'` in 1.5. Set the value of `dual` explicitly to suppress the warning.\n",
      "  warnings.warn(\n"
     ]
    },
    {
     "name": "stdout",
     "output_type": "stream",
     "text": [
      "2024-01-18 14:29:17,018 - root - INFO - svm -- {'accuracy': 0.6861313868613139, 'precision': 0.5305528608156878, 'recall': 0.5819034379275343, 'f1': 0.5481762822745608, 'hamming': 0.31386861313868614, 'jaccard': 0.40415491029635625}\n"
     ]
    }
   ],
   "source": [
    "# ros = RandomOverSampler(random_state=0)\n",
    "from imblearn.over_sampling import SMOTE, ADASYN\n",
    "\n",
    "# from imblearn.under_sampling import RandomUnderSampler\n",
    "# rus = RandomUnderSampler(random_state=0)\n",
    "# X_train, Y_train = rus.fit_resample(X_train, Y_train)\n",
    "\n",
    "# from imblearn.combine import SMOTETomek\n",
    "# smote_tomek = SMOTETomek(random_state=5)\n",
    "# X_train, Y_train = smote_tomek.fit_resample(X_train, Y_train)\n",
    "\n",
    "# from imblearn.combine import SMOTEENN\n",
    "# smote_tomek = SMOTEENN(random_state=0)\n",
    "# X_train, Y_train = smote_tomek.fit_resample(X_train, Y_train)\n",
    "\n",
    "\n",
    "for model in [\"log_regression\", \"log_regression_balanced\", \"knn\", \"random_forest\", \"sgd\", \"svm\"]:\n",
    "    for resampling in [\"random\", \"smote\", \"adasyn\", \"random\", \"smote_tomek\", \"smote_enn\"]:\n",
    "        if resampling == \"random\":\n",
    "            X_train_resampled, Y_train_resampled =)\n",
    "\n",
    "\n",
    "        X_train, Y_train = SMOTE(random_state=0).fit_resample(X_train, Y_train)\n",
    "\n",
    "    # Creating the classifier\n",
    "    if model == \"log_regression\":\n",
    "        classifier = LogisticRegression(penalty=\"l2\", random_state=SEED, multi_class='multinomial')        \n",
    "    if model == \"log_regression_balanced\":\n",
    "        classifier = LogisticRegression(penalty=\"l2\", random_state=SEED, multi_class='multinomial', class_weight='balanced')\n",
    "    elif model == \"knn\":\n",
    "        classifier = KNeighborsClassifier()\n",
    "    elif model == \"random_forest\":\n",
    "        classifier = RandomForestClassifier(random_state=SEED)\n",
    "    elif model == \"sgd\":\n",
    "        classifier = SGDClassifier(random_state=SEED)\n",
    "    elif model == \"svm\":\n",
    "        classifier = LinearSVC(random_state=SEED)\n",
    "\n",
    "    # Fitting the model\n",
    "    classifier.fit(X_train_resampled, Y_train_resampled)\n",
    "    # Predicting on the validation set\n",
    "    predictions = classifier.predict(X_val)\n",
    "\n",
    "    # Creating metrics\n",
    "    metrics = classification_utils.create_average_metrics(\n",
    "        Y_val, predictions, average=\"macro\"\n",
    "    )\n",
    "    logging.info(f\"{model} -- {metrics}\")"
   ]
  },
  {
   "cell_type": "code",
   "execution_count": 11,
   "metadata": {},
   "outputs": [
    {
     "name": "stdout",
     "output_type": "stream",
     "text": [
      "[[ 4  2  6  0]\n",
      " [ 6 24  5  0]\n",
      " [ 1  3 84  1]\n",
      " [ 0  0  1  1]]\n"
     ]
    }
   ],
   "source": [
    "from sklearn.metrics import confusion_matrix\n",
    "confusion = confusion_matrix(Y_val, predictions)\n",
    "print(confusion)"
   ]
  },
  {
   "cell_type": "code",
   "execution_count": 15,
   "metadata": {},
   "outputs": [
    {
     "data": {
      "text/plain": [
       "array(['Both', 'Detection', 'Management', 'None'], dtype=object)"
      ]
     },
     "execution_count": 15,
     "metadata": {},
     "output_type": "execute_result"
    }
   ],
   "source": []
  },
  {
   "cell_type": "code",
   "execution_count": 16,
   "metadata": {},
   "outputs": [
    {
     "data": {
      "image/png": "[encoded data removed]",
      "text/plain": [
       "<Figure size 800x600 with 1 Axes>"
      ]
     },
     "metadata": {},
     "output_type": "display_data"
    }
   ],
   "source": [
    "import matplotlib.pyplot as plt\n",
    "import seaborn as sns\n",
    "\n",
    "plt.figure(figsize=(8, 6))\n",
    "sns.heatmap(confusion, annot=True, fmt=\"d\", cmap=\"Blues\", cbar=False, xticklabels=classifier.classes_, yticklabels=classifier.classes_)\n",
    "plt.xlabel(\"Predicted\")\n",
    "plt.ylabel(\"Actual\")\n",
    "plt.title(\"Confusion Matrix\")\n",
    "plt.show()"
   ]
  },
  {
   "cell_type": "code",
   "execution_count": null,
   "metadata": {},
   "outputs": [],
   "source": [
    "\n",
    "\n",
    "for model in [\"log_regression\", \"log_regression_balanced\", \"knn\", \"random_forest\", \"sgd\", \"svm\"]:\n",
    "    # Initialise wandb run\n",
    "    \n",
    "    # Creating the classifier\n",
    "    if model == \"log_regression\":\n",
    "        classifier = LogisticRegression(penalty=\"l2\", random_state=SEED, multi_class='multinomial')        \n",
    "    if model == \"log_regression_balanced\":\n",
    "        classifier = LogisticRegression(penalty=\"l2\", random_state=SEED, multi_class='multinomial', class_weight='balanced')\n",
    "    elif model == \"knn\":\n",
    "        classifier = KNeighborsClassifier()\n",
    "    elif model == \"random_forest\":\n",
    "        classifier = RandomForestClassifier(random_state=SEED)\n",
    "    elif model == \"sgd\":\n",
    "        classifier = SGDClassifier(random_state=SEED)\n",
    "    elif model == \"svm\":\n",
    "        classifier = LinearSVC(random_state=SEED)\n",
    "\n",
    "    # Fitting the model\n",
    "    classifier.fit(X_train, Y_train)\n",
    "    # Predicting on the validation set\n",
    "    predictions = classifier.predict(X_val)\n",
    "\n",
    "    # Creating metrics\n",
    "    metrics = classification_utils.create_average_metrics(\n",
    "        Y_val, predictions, average=\"micro\"\n",
    "    )\n",
    "    logging.info(metrics)\n",
    "\n",
    "    # # Creating confusion matrix\n",
    "    # confusion_matrix = classification_utils.plot_confusion_matrix(\n",
    "    #     Y_val, predictions, None, \"Relevant works\"\n",
    "    # )\n",
    "\n",
    "    # Save model to S3\n",
    "    S3.upload_obj(\n",
    "        obj=classifier,\n",
    "        bucket=S3_BUCKET,\n",
    "        path_to=f\"{S3_PATH}gpt_labelled_detection_management_classifier_{model}.pkl\",\n",
    "    )\n",
    "\n",
    "    if args.wandb:\n",
    "        # Log metrics\n",
    "        wandb.run.summary[\"f1\"] = metrics[\"f1\"]\n",
    "        wandb.run.summary[\"accuracy\"] = metrics[\"accuracy\"]\n",
    "        wandb.run.summary[\"precision\"] = metrics[\"precision\"]\n",
    "        wandb.run.summary[\"recall\"] = metrics[\"recall\"]\n",
    "\n",
    "        # Adding reference to this model in wandb\n",
    "        wb.add_ref_to_data(\n",
    "            run=run,\n",
    "            name=f\"detection_management_classifier_{model}\",\n",
    "            description=f\"{model} model for classifying detection-management\",\n",
    "            bucket=S3_BUCKET,\n",
    "            filepath=f\"{S3_PATH}gpt_labelled_detection_management_classifier_{model}.pkl\",\n",
    "        )\n",
    "\n",
    "        # # Log confusion matrix\n",
    "        # wb_confusion_matrix = wandb.Table(\n",
    "        #     data=confusion_matrix, columns=confusion_matrix.columns\n",
    "        # )\n",
    "        # run.log({\"confusion_matrix\": wb_confusion_matrix})\n",
    "\n",
    "        # End the weights and biases run\n",
    "        wandb.finish()\n"
   ]
  },
  {
   "cell_type": "code",
   "execution_count": 21,
   "metadata": {},
   "outputs": [
    {
     "name": "stdout",
     "output_type": "stream",
     "text": [
      "[(0, 4674), (1, 4674), (2, 4674)]\n"
     ]
    }
   ],
   "source": []
  },
  {
   "cell_type": "code",
   "execution_count": 22,
   "metadata": {},
   "outputs": [
    {
     "name": "stdout",
     "output_type": "stream",
     "text": [
      "[(0, 64), (1, 262), (2, 4674)]\n"
     ]
    }
   ],
   "source": [
    "print(sorted(Counter(y).items()))"
   ]
  }
 ],
 "metadata": {
  "kernelspec": {
   "display_name": "discovery_child_development",
   "language": "python",
   "name": "python3"
  },
  "language_info": {
   "codemirror_mode": {
    "name": "ipython",
    "version": 3
   },
   "file_extension": ".py",
   "mimetype": "text/x-python",
   "name": "python",
   "nbconvert_exporter": "python",
   "pygments_lexer": "ipython3",
   "version": "3.10.13"
  }
 },
 "nbformat": 4,
 "nbformat_minor": 2
}
