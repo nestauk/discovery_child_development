{
 "cells": [
  {
   "cell_type": "code",
   "execution_count": 1,
   "metadata": {},
   "outputs": [],
   "source": [
    "import pandas as pd\n",
    "from nesta_ds_utils.loading_saving import S3\n",
    "\n",
    "from discovery_child_development import PROJECT_DIR, S3_BUCKET\n",
    "from discovery_child_development.utils.utils import get_yaml_config"
   ]
  },
  {
   "cell_type": "code",
   "execution_count": 2,
   "metadata": {},
   "outputs": [],
   "source": [
    "CONFIG = get_yaml_config(PROJECT_DIR / \"discovery_child_development/pipeline/labelling/taxonomy_v2/config.yaml\")"
   ]
  },
  {
   "cell_type": "code",
   "execution_count": 27,
   "metadata": {},
   "outputs": [],
   "source": [
    "df = S3.download_obj(\n",
    "    bucket=S3_BUCKET,\n",
    "    path_from=CONFIG[\"s3_directory\"] + \"testing_uptoten\" + \".parquet\",\n",
    "    download_as=\"dataframe\"\n",
    ")"
   ]
  },
  {
   "cell_type": "code",
   "execution_count": 28,
   "metadata": {},
   "outputs": [],
   "source": [
    "i = -1"
   ]
  },
  {
   "cell_type": "code",
   "execution_count": 70,
   "metadata": {},
   "outputs": [
    {
     "ename": "IndexError",
     "evalue": "single positional indexer is out-of-bounds",
     "output_type": "error",
     "traceback": [
      "\u001b[0;31m---------------------------------------------------------------------------\u001b[0m",
      "\u001b[0;31mIndexError\u001b[0m                                Traceback (most recent call last)",
      "\u001b[1;32m/Users/karlis.kanders/Documents/code/discovery_child_development/discovery_child_development/pipeline/labelling/taxonomy_v2/testing.ipynb Cell 5\u001b[0m line \u001b[0;36m2\n\u001b[1;32m      <a href='vscode-notebook-cell:/Users/karlis.kanders/Documents/code/discovery_child_development/discovery_child_development/pipeline/labelling/taxonomy_v2/testing.ipynb#W4sZmlsZQ%3D%3D?line=0'>1</a>\u001b[0m i \u001b[39m=\u001b[39m i\u001b[39m+\u001b[39m\u001b[39m1\u001b[39m\n\u001b[0;32m----> <a href='vscode-notebook-cell:/Users/karlis.kanders/Documents/code/discovery_child_development/discovery_child_development/pipeline/labelling/taxonomy_v2/testing.ipynb#W4sZmlsZQ%3D%3D?line=1'>2</a>\u001b[0m \u001b[39mprint\u001b[39m(df\u001b[39m.\u001b[39;49miloc[i][\u001b[39m\"\u001b[39m\u001b[39mprediction\u001b[39m\u001b[39m\"\u001b[39m])\n\u001b[1;32m      <a href='vscode-notebook-cell:/Users/karlis.kanders/Documents/code/discovery_child_development/discovery_child_development/pipeline/labelling/taxonomy_v2/testing.ipynb#W4sZmlsZQ%3D%3D?line=2'>3</a>\u001b[0m \u001b[39mprint\u001b[39m(df\u001b[39m.\u001b[39miloc[i][\u001b[39m\"\u001b[39m\u001b[39mtext\u001b[39m\u001b[39m\"\u001b[39m])\n",
      "File \u001b[0;32m/opt/homebrew/Caskroom/miniconda/base/envs/discovery_child_development/lib/python3.10/site-packages/pandas/core/indexing.py:1073\u001b[0m, in \u001b[0;36m_LocationIndexer.__getitem__\u001b[0;34m(self, key)\u001b[0m\n\u001b[1;32m   1070\u001b[0m axis \u001b[39m=\u001b[39m \u001b[39mself\u001b[39m\u001b[39m.\u001b[39maxis \u001b[39mor\u001b[39;00m \u001b[39m0\u001b[39m\n\u001b[1;32m   1072\u001b[0m maybe_callable \u001b[39m=\u001b[39m com\u001b[39m.\u001b[39mapply_if_callable(key, \u001b[39mself\u001b[39m\u001b[39m.\u001b[39mobj)\n\u001b[0;32m-> 1073\u001b[0m \u001b[39mreturn\u001b[39;00m \u001b[39mself\u001b[39;49m\u001b[39m.\u001b[39;49m_getitem_axis(maybe_callable, axis\u001b[39m=\u001b[39;49maxis)\n",
      "File \u001b[0;32m/opt/homebrew/Caskroom/miniconda/base/envs/discovery_child_development/lib/python3.10/site-packages/pandas/core/indexing.py:1625\u001b[0m, in \u001b[0;36m_iLocIndexer._getitem_axis\u001b[0;34m(self, key, axis)\u001b[0m\n\u001b[1;32m   1622\u001b[0m     \u001b[39mraise\u001b[39;00m \u001b[39mTypeError\u001b[39;00m(\u001b[39m\"\u001b[39m\u001b[39mCannot index by location index with a non-integer key\u001b[39m\u001b[39m\"\u001b[39m)\n\u001b[1;32m   1624\u001b[0m \u001b[39m# validate the location\u001b[39;00m\n\u001b[0;32m-> 1625\u001b[0m \u001b[39mself\u001b[39;49m\u001b[39m.\u001b[39;49m_validate_integer(key, axis)\n\u001b[1;32m   1627\u001b[0m \u001b[39mreturn\u001b[39;00m \u001b[39mself\u001b[39m\u001b[39m.\u001b[39mobj\u001b[39m.\u001b[39m_ixs(key, axis\u001b[39m=\u001b[39maxis)\n",
      "File \u001b[0;32m/opt/homebrew/Caskroom/miniconda/base/envs/discovery_child_development/lib/python3.10/site-packages/pandas/core/indexing.py:1557\u001b[0m, in \u001b[0;36m_iLocIndexer._validate_integer\u001b[0;34m(self, key, axis)\u001b[0m\n\u001b[1;32m   1555\u001b[0m len_axis \u001b[39m=\u001b[39m \u001b[39mlen\u001b[39m(\u001b[39mself\u001b[39m\u001b[39m.\u001b[39mobj\u001b[39m.\u001b[39m_get_axis(axis))\n\u001b[1;32m   1556\u001b[0m \u001b[39mif\u001b[39;00m key \u001b[39m>\u001b[39m\u001b[39m=\u001b[39m len_axis \u001b[39mor\u001b[39;00m key \u001b[39m<\u001b[39m \u001b[39m-\u001b[39mlen_axis:\n\u001b[0;32m-> 1557\u001b[0m     \u001b[39mraise\u001b[39;00m \u001b[39mIndexError\u001b[39;00m(\u001b[39m\"\u001b[39m\u001b[39msingle positional indexer is out-of-bounds\u001b[39m\u001b[39m\"\u001b[39m)\n",
      "\u001b[0;31mIndexError\u001b[0m: single positional indexer is out-of-bounds"
     ]
    }
   ],
   "source": [
    "i = i+1\n",
    "print(df.iloc[i][\"prediction\"])\n",
    "print(df.iloc[i][\"text\"])"
   ]
  },
  {
   "cell_type": "code",
   "execution_count": 4,
   "metadata": {},
   "outputs": [],
   "source": [
    "from discovery_child_development.utils.labelling_utils import (\n",
    "    create_category_description_string,\n",
    ")"
   ]
  },
  {
   "cell_type": "code",
   "execution_count": 13,
   "metadata": {},
   "outputs": [
    {
     "name": "stdout",
     "output_type": "stream",
     "text": [
      "RCTs: randomised controlled trial\n",
      "Communication and language: language acquisition, language development, communication skills, speech\n",
      "Prenatal: prenatal development, maternal health, fetal development, pregnancy, birth\n",
      "Literacy: reading, writing, letters, handwriting, literacy development, phonics\n",
      "Child protection: safeguarding, child abuse, child protection policies\n",
      "Cognitive development: cognition, memory, problem-solving, executive function\n",
      "Health: child health, well-being, healthcare\n",
      "Education setting: preschool, pre-primary, kindergarten\n",
      "Statistical methods: statistics, statistical analysis\n",
      "Social media: social media, social networking, online communities\n",
      "Assessment (general): assessments, evaluation, measurement, monitoring, evaluation\n",
      "Income: family income, socioeconomic status, economic factors, cash transfers\n",
      "Non-tech assessments: non-technical assessment, questionnaire, survey, diagnostic tool\n",
      "Data science and AI: data science, data analysis, artificial intelligence, machine learning, automated speech recognition, computer vision\n",
      "Sleep: sleep patterns, sleep quality, sleep duration, bedtime routines\n",
      "Technology (general): technology, digital, ICT, edtech, tech\n",
      "Media: media influence, media literacy, screen time\n",
      "Mental health: child mental health, emotional well-being, mental health interventions\n",
      "Internet: internet usage, online safety, digital literacy, online learning\n",
      "Robotics: robotics\n",
      "Special needs: special needs, disabilities, learning difficulties, autism, spectrum disorder, dyslexia, attention-deficit hyperactivity disorder\n",
      "Inequalities: educational inequalities, socio-economic disparities\n",
      "Mathematics: math, numbers, numeracy, mathematical skills\n",
      "Physical: motor skills, physical development, spatial awareness\n",
      "Infancy: age 0-2, infancy, newborns, early infancy\n",
      "AR VR: augmented reality, virtual reality, immersive technology\n",
      "Nutrition and weight: nutrition, weight, dietary habits, breastfeeding, obesity, malnutrition\n",
      "Operations: program operations, logistics, program management, administrative tasks, paperwork, childcare setting software platform\n",
      "Expressive arts and design: creativity, arts, design, imagination, singing, music\n",
      "Inclusion: cultural diversity, multiculturalism, inclusion, equity, equality, diversity, ethnicity, race, racism, colonialism\n",
      "Wearables: wearable technology, wearable device, smart watch\n",
      "Labour market: parental employment, work-life balance, parental leave, gender pay gap\n",
      "Mobile: mobile device, mobile learning, app for children or parents, tablet\n",
      "Games: educational games, learning through play, game-based learning\n",
      "Neuroscience: neuroscience, brain development, cognitive neuroscience, brain imaging\n",
      "Social services: social services, support programs\n",
      "Policy: early childhood education policy, child development policy, government policy\n",
      "Personal social emotional: social development, emotional development, self-awareness, relationships\n",
      "Community: community involvement, community support, peer support, peer group\n",
      "Oral health: oral health, dental care, dental hygiene\n",
      "Genetics: genetics, heredity, genetic factor\n",
      "Data: data collection, research data, database\n",
      "Family environment: family dynamics, parenting, family support, home learning environment\n",
      "\n"
     ]
    }
   ],
   "source": [
    "from discovery_child_development import PROJECT_DIR\n",
    "from discovery_child_development.utils import taxonomy_labelling_utils as tlu\n",
    "\n",
    "PATH_TO_CATEGORIES = PROJECT_DIR / \"discovery_child_development/pipeline/labelling/taxonomy_v2/prompts/categories.json\"\n",
    "\n",
    "categories = tlu.load_categories(PATH_TO_CATEGORIES)\n",
    "\n",
    "print(create_category_description_string(categories, randomise=True))"
   ]
  },
  {
   "cell_type": "code",
   "execution_count": 76,
   "metadata": {},
   "outputs": [
    {
     "name": "stdout",
     "output_type": "stream",
     "text": [
      "File /Users/karlis.kanders/Documents/code/discovery_child_development/outputs/labels/taxonomy/taxonomy_labels_raw.jsonl uploaded to discovery-iss/data/labels/child_development/taxonomy_labels_raw.jsonl\n"
     ]
    }
   ],
   "source": [
    "from discovery_child_development.utils import jsonl_utils\n",
    "\n",
    "jsonl_utils.upload_file_to_s3(\n",
    "    local_file=str(PROJECT_DIR / \"outputs/labels/taxonomy/taxonomy_labels_raw.jsonl\"),\n",
    "    bucket_name=S3_BUCKET,\n",
    "    s3_file_name=\"data/labels/child_development/taxonomy_labels_raw.jsonl\",\n",
    ")"
   ]
  },
  {
   "cell_type": "code",
   "execution_count": 84,
   "metadata": {},
   "outputs": [
    {
     "name": "stdout",
     "output_type": "stream",
     "text": [
      "2024-01-09 09:32:44,398 - root - INFO - File data/labels/child_development/taxonomy_labels_raw.jsonl downloaded from discovery-iss to /Users/karlis.kanders/Documents/code/discovery_child_development/outputs/labels/taxonomy/taxonomy_labels_raw.jsonl\n"
     ]
    }
   ],
   "source": [
    "from discovery_child_development.getters import labels\n",
    "import importlib; importlib.reload(labels);\n",
    "\n",
    "df = labels.get_taxonomy_labels(raw=True)"
   ]
  },
  {
   "cell_type": "code",
   "execution_count": 82,
   "metadata": {},
   "outputs": [
    {
     "data": {
      "text/html": [
       "<div>\n",
       "<style scoped>\n",
       "    .dataframe tbody tr th:only-of-type {\n",
       "        vertical-align: middle;\n",
       "    }\n",
       "\n",
       "    .dataframe tbody tr th {\n",
       "        vertical-align: top;\n",
       "    }\n",
       "\n",
       "    .dataframe thead th {\n",
       "        text-align: right;\n",
       "    }\n",
       "</style>\n",
       "<table border=\"1\" class=\"dataframe\">\n",
       "  <thead>\n",
       "    <tr style=\"text-align: right;\">\n",
       "      <th></th>\n",
       "      <th>prediction</th>\n",
       "      <th>id</th>\n",
       "      <th>source</th>\n",
       "      <th>text</th>\n",
       "      <th>model</th>\n",
       "      <th>timestamp</th>\n",
       "    </tr>\n",
       "  </thead>\n",
       "  <tbody>\n",
       "    <tr>\n",
       "      <th>0</th>\n",
       "      <td>[Inclusion, Policy, Community, Inequalities]</td>\n",
       "      <td>W4380887492</td>\n",
       "      <td>openalex</td>\n",
       "      <td>A Critical Content Analysis of Racial and Cult...</td>\n",
       "      <td>gpt-3.5-turbo-1106</td>\n",
       "      <td>20240108142254</td>\n",
       "    </tr>\n",
       "    <tr>\n",
       "      <th>1</th>\n",
       "      <td>[Health, Data, Assessment (general)]</td>\n",
       "      <td>W4285014002</td>\n",
       "      <td>openalex</td>\n",
       "      <td>Predictive Scores for Late-Onset Neonatal Seps...</td>\n",
       "      <td>gpt-3.5-turbo-1106</td>\n",
       "      <td>20240108142254</td>\n",
       "    </tr>\n",
       "    <tr>\n",
       "      <th>2</th>\n",
       "      <td>[Inequalities, Mental health, Neuroscience, Ch...</td>\n",
       "      <td>W4310281878</td>\n",
       "      <td>openalex</td>\n",
       "      <td>Poverty, Cortical Structure, and Psychopatholo...</td>\n",
       "      <td>gpt-3.5-turbo-1106</td>\n",
       "      <td>20240108142254</td>\n",
       "    </tr>\n",
       "    <tr>\n",
       "      <th>3</th>\n",
       "      <td>[Technology (general), Internet, Robotics, Mob...</td>\n",
       "      <td>JP-1659267-S</td>\n",
       "      <td>patents</td>\n",
       "      <td>robot. The article according to the design of ...</td>\n",
       "      <td>gpt-3.5-turbo-1106</td>\n",
       "      <td>20240108142254</td>\n",
       "    </tr>\n",
       "    <tr>\n",
       "      <th>4</th>\n",
       "      <td>[Prenatal, Child protection, Mental health, Co...</td>\n",
       "      <td>W3010579471</td>\n",
       "      <td>openalex</td>\n",
       "      <td>Prenatal Identification of Risk for Later Disr...</td>\n",
       "      <td>gpt-3.5-turbo-1106</td>\n",
       "      <td>20240108142254</td>\n",
       "    </tr>\n",
       "    <tr>\n",
       "      <th>...</th>\n",
       "      <td>...</td>\n",
       "      <td>...</td>\n",
       "      <td>...</td>\n",
       "      <td>...</td>\n",
       "      <td>...</td>\n",
       "      <td>...</td>\n",
       "    </tr>\n",
       "    <tr>\n",
       "      <th>8833</th>\n",
       "      <td>[Preschool, Mathematics, Technology (general),...</td>\n",
       "      <td>CN-213904654-U</td>\n",
       "      <td>patents</td>\n",
       "      <td>A kind of early childhood educational applianc...</td>\n",
       "      <td>gpt-3.5-turbo-1106</td>\n",
       "      <td>20240108192746</td>\n",
       "    </tr>\n",
       "    <tr>\n",
       "      <th>8834</th>\n",
       "      <td>[Genetics, Health, Technology (general)]</td>\n",
       "      <td>CN-112080560-A</td>\n",
       "      <td>patents</td>\n",
       "      <td>Application of CD177 in the preparation of pro...</td>\n",
       "      <td>gpt-3.5-turbo-1106</td>\n",
       "      <td>20240108192746</td>\n",
       "    </tr>\n",
       "    <tr>\n",
       "      <th>8835</th>\n",
       "      <td>[Cognitive development, Expressive arts and de...</td>\n",
       "      <td>CN-112365754-A</td>\n",
       "      <td>patents</td>\n",
       "      <td>Emotion analysis display system. The invention...</td>\n",
       "      <td>gpt-3.5-turbo-1106</td>\n",
       "      <td>20240108192746</td>\n",
       "    </tr>\n",
       "    <tr>\n",
       "      <th>8836</th>\n",
       "      <td>[Policy, Community, Inequalities, Child protec...</td>\n",
       "      <td>W2975313231</td>\n",
       "      <td>openalex</td>\n",
       "      <td>Actualizing children’s rights through early ch...</td>\n",
       "      <td>gpt-3.5-turbo-1106</td>\n",
       "      <td>20240108192800</td>\n",
       "    </tr>\n",
       "    <tr>\n",
       "      <th>8837</th>\n",
       "      <td>[Preschool, Cognitive development, Assessment ...</td>\n",
       "      <td>W4379472037</td>\n",
       "      <td>openalex</td>\n",
       "      <td>A study on the outcomes of Montessori educatio...</td>\n",
       "      <td>gpt-3.5-turbo-1106</td>\n",
       "      <td>20240108192801</td>\n",
       "    </tr>\n",
       "  </tbody>\n",
       "</table>\n",
       "<p>8838 rows × 6 columns</p>\n",
       "</div>"
      ],
      "text/plain": [
       "                                             prediction              id  \\\n",
       "0          [Inclusion, Policy, Community, Inequalities]     W4380887492   \n",
       "1                  [Health, Data, Assessment (general)]     W4285014002   \n",
       "2     [Inequalities, Mental health, Neuroscience, Ch...     W4310281878   \n",
       "3     [Technology (general), Internet, Robotics, Mob...    JP-1659267-S   \n",
       "4     [Prenatal, Child protection, Mental health, Co...     W3010579471   \n",
       "...                                                 ...             ...   \n",
       "8833  [Preschool, Mathematics, Technology (general),...  CN-213904654-U   \n",
       "8834           [Genetics, Health, Technology (general)]  CN-112080560-A   \n",
       "8835  [Cognitive development, Expressive arts and de...  CN-112365754-A   \n",
       "8836  [Policy, Community, Inequalities, Child protec...     W2975313231   \n",
       "8837  [Preschool, Cognitive development, Assessment ...     W4379472037   \n",
       "\n",
       "        source                                               text  \\\n",
       "0     openalex  A Critical Content Analysis of Racial and Cult...   \n",
       "1     openalex  Predictive Scores for Late-Onset Neonatal Seps...   \n",
       "2     openalex  Poverty, Cortical Structure, and Psychopatholo...   \n",
       "3      patents  robot. The article according to the design of ...   \n",
       "4     openalex  Prenatal Identification of Risk for Later Disr...   \n",
       "...        ...                                                ...   \n",
       "8833   patents  A kind of early childhood educational applianc...   \n",
       "8834   patents  Application of CD177 in the preparation of pro...   \n",
       "8835   patents  Emotion analysis display system. The invention...   \n",
       "8836  openalex  Actualizing children’s rights through early ch...   \n",
       "8837  openalex  A study on the outcomes of Montessori educatio...   \n",
       "\n",
       "                   model       timestamp  \n",
       "0     gpt-3.5-turbo-1106  20240108142254  \n",
       "1     gpt-3.5-turbo-1106  20240108142254  \n",
       "2     gpt-3.5-turbo-1106  20240108142254  \n",
       "3     gpt-3.5-turbo-1106  20240108142254  \n",
       "4     gpt-3.5-turbo-1106  20240108142254  \n",
       "...                  ...             ...  \n",
       "8833  gpt-3.5-turbo-1106  20240108192746  \n",
       "8834  gpt-3.5-turbo-1106  20240108192746  \n",
       "8835  gpt-3.5-turbo-1106  20240108192746  \n",
       "8836  gpt-3.5-turbo-1106  20240108192800  \n",
       "8837  gpt-3.5-turbo-1106  20240108192801  \n",
       "\n",
       "[8838 rows x 6 columns]"
      ]
     },
     "execution_count": 82,
     "metadata": {},
     "output_type": "execute_result"
    }
   ],
   "source": [
    "df"
   ]
  },
  {
   "cell_type": "code",
   "execution_count": null,
   "metadata": {},
   "outputs": [],
   "source": []
  }
 ],
 "metadata": {
  "kernelspec": {
   "display_name": "discovery_child_development",
   "language": "python",
   "name": "python3"
  },
  "language_info": {
   "codemirror_mode": {
    "name": "ipython",
    "version": 3
   },
   "file_extension": ".py",
   "mimetype": "text/x-python",
   "name": "python",
   "nbconvert_exporter": "python",
   "pygments_lexer": "ipython3",
   "version": "3.10.13"
  }
 },
 "nbformat": 4,
 "nbformat_minor": 2
}
