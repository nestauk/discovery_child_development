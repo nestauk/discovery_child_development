{
 "cells": [
  {
   "cell_type": "code",
   "execution_count": 2,
   "metadata": {},
   "outputs": [
    {
     "name": "stdout",
     "output_type": "stream",
     "text": [
      "2024-01-16 10:58:36,066 - botocore.credentials - INFO - Found credentials in environment variables.\n",
      "2024-01-16 10:58:37,718 - root - INFO - File data/labels/child_development/testing_dm2.jsonl downloaded from discovery-iss to /Users/karlis.kanders/Documents/code/discovery_child_development/outputs/labels/detection_management/testing_dm2.jsonl\n"
     ]
    }
   ],
   "source": [
    "from discovery_child_development.getters import labels\n",
    "\n",
    "data = (\n",
    "    labels.get_detection_management_labels()\n",
    ")"
   ]
  },
  {
   "cell_type": "code",
   "execution_count": 3,
   "metadata": {},
   "outputs": [
    {
     "data": {
      "text/html": [
       "<div>\n",
       "<style scoped>\n",
       "    .dataframe tbody tr th:only-of-type {\n",
       "        vertical-align: middle;\n",
       "    }\n",
       "\n",
       "    .dataframe tbody tr th {\n",
       "        vertical-align: top;\n",
       "    }\n",
       "\n",
       "    .dataframe thead th {\n",
       "        text-align: right;\n",
       "    }\n",
       "</style>\n",
       "<table border=\"1\" class=\"dataframe\">\n",
       "  <thead>\n",
       "    <tr style=\"text-align: right;\">\n",
       "      <th></th>\n",
       "      <th>prediction</th>\n",
       "      <th>id</th>\n",
       "      <th>source</th>\n",
       "      <th>text</th>\n",
       "      <th>model</th>\n",
       "      <th>timestamp</th>\n",
       "    </tr>\n",
       "  </thead>\n",
       "  <tbody>\n",
       "    <tr>\n",
       "      <th>0</th>\n",
       "      <td>Management</td>\n",
       "      <td>https://openalex.org/W4385265922</td>\n",
       "      <td>openalex</td>\n",
       "      <td>Pentingnya Pelayanan Bimbingan dan Konseling P...</td>\n",
       "      <td>gpt-3.5-turbo-1106</td>\n",
       "      <td>20240109122831</td>\n",
       "    </tr>\n",
       "    <tr>\n",
       "      <th>1</th>\n",
       "      <td>Management</td>\n",
       "      <td>CN-210354049-U</td>\n",
       "      <td>patents</td>\n",
       "      <td>Walk-learning cart with hand push handle. The ...</td>\n",
       "      <td>gpt-3.5-turbo-1106</td>\n",
       "      <td>20240109122832</td>\n",
       "    </tr>\n",
       "    <tr>\n",
       "      <th>2</th>\n",
       "      <td>Detection</td>\n",
       "      <td>https://openalex.org/W4378194093</td>\n",
       "      <td>openalex</td>\n",
       "      <td>Falling: An existential experience in early ch...</td>\n",
       "      <td>gpt-3.5-turbo-1106</td>\n",
       "      <td>20240109122832</td>\n",
       "    </tr>\n",
       "    <tr>\n",
       "      <th>3</th>\n",
       "      <td>Management</td>\n",
       "      <td>US-2022386672-A1</td>\n",
       "      <td>patents</td>\n",
       "      <td>Infant formula with special lipid architecture...</td>\n",
       "      <td>gpt-3.5-turbo-1106</td>\n",
       "      <td>20240109122833</td>\n",
       "    </tr>\n",
       "    <tr>\n",
       "      <th>4</th>\n",
       "      <td>Detection</td>\n",
       "      <td>https://openalex.org/W4388282813</td>\n",
       "      <td>openalex</td>\n",
       "      <td>Bridging the Gap: Parents’ Knowledge of Childh...</td>\n",
       "      <td>gpt-3.5-turbo-1106</td>\n",
       "      <td>20240109122833</td>\n",
       "    </tr>\n",
       "  </tbody>\n",
       "</table>\n",
       "</div>"
      ],
      "text/plain": [
       "   prediction                                id    source  \\\n",
       "0  Management  https://openalex.org/W4385265922  openalex   \n",
       "1  Management                    CN-210354049-U   patents   \n",
       "2   Detection  https://openalex.org/W4378194093  openalex   \n",
       "3  Management                  US-2022386672-A1   patents   \n",
       "4   Detection  https://openalex.org/W4388282813  openalex   \n",
       "\n",
       "                                                text               model  \\\n",
       "0  Pentingnya Pelayanan Bimbingan dan Konseling P...  gpt-3.5-turbo-1106   \n",
       "1  Walk-learning cart with hand push handle. The ...  gpt-3.5-turbo-1106   \n",
       "2  Falling: An existential experience in early ch...  gpt-3.5-turbo-1106   \n",
       "3  Infant formula with special lipid architecture...  gpt-3.5-turbo-1106   \n",
       "4  Bridging the Gap: Parents’ Knowledge of Childh...  gpt-3.5-turbo-1106   \n",
       "\n",
       "        timestamp  \n",
       "0  20240109122831  \n",
       "1  20240109122832  \n",
       "2  20240109122832  \n",
       "3  20240109122833  \n",
       "4  20240109122833  "
      ]
     },
     "execution_count": 3,
     "metadata": {},
     "output_type": "execute_result"
    }
   ],
   "source": [
    "data.head(5)"
   ]
  },
  {
   "cell_type": "code",
   "execution_count": 6,
   "metadata": {},
   "outputs": [
    {
     "data": {
      "text/html": [
       "<div>\n",
       "<style scoped>\n",
       "    .dataframe tbody tr th:only-of-type {\n",
       "        vertical-align: middle;\n",
       "    }\n",
       "\n",
       "    .dataframe tbody tr th {\n",
       "        vertical-align: top;\n",
       "    }\n",
       "\n",
       "    .dataframe thead th {\n",
       "        text-align: right;\n",
       "    }\n",
       "</style>\n",
       "<table border=\"1\" class=\"dataframe\">\n",
       "  <thead>\n",
       "    <tr style=\"text-align: right;\">\n",
       "      <th></th>\n",
       "      <th>prediction</th>\n",
       "      <th>counts</th>\n",
       "      <th>percentage</th>\n",
       "    </tr>\n",
       "  </thead>\n",
       "  <tbody>\n",
       "    <tr>\n",
       "      <th>2</th>\n",
       "      <td>Management</td>\n",
       "      <td>136</td>\n",
       "      <td>0.68</td>\n",
       "    </tr>\n",
       "    <tr>\n",
       "      <th>1</th>\n",
       "      <td>Detection</td>\n",
       "      <td>40</td>\n",
       "      <td>0.20</td>\n",
       "    </tr>\n",
       "    <tr>\n",
       "      <th>0</th>\n",
       "      <td>Both</td>\n",
       "      <td>18</td>\n",
       "      <td>0.09</td>\n",
       "    </tr>\n",
       "    <tr>\n",
       "      <th>3</th>\n",
       "      <td>None</td>\n",
       "      <td>6</td>\n",
       "      <td>0.03</td>\n",
       "    </tr>\n",
       "  </tbody>\n",
       "</table>\n",
       "</div>"
      ],
      "text/plain": [
       "   prediction  counts  percentage\n",
       "2  Management     136        0.68\n",
       "1   Detection      40        0.20\n",
       "0        Both      18        0.09\n",
       "3        None       6        0.03"
      ]
     },
     "execution_count": 6,
     "metadata": {},
     "output_type": "execute_result"
    }
   ],
   "source": [
    "n_data = len(data)\n",
    "(\n",
    "    data\n",
    "    .groupby(\"prediction\")\n",
    "    .agg(counts=(\"id\", \"count\"))\n",
    "    .reset_index()\n",
    "    .assign(percentage=lambda df: df[\"counts\"] / n_data)\n",
    "    .sort_values(\"percentage\", ascending=False)\n",
    ")"
   ]
  },
  {
   "cell_type": "code",
   "execution_count": 37,
   "metadata": {},
   "outputs": [
    {
     "name": "stdout",
     "output_type": "stream",
     "text": [
      "A kind of visual eyeglass of novel infant trachea cannula. A kind of visual eyeglass of novel infant trachea cannula, it is made of the lock of visual eyeglass, the fixing seat of visual eyeglass, visual eyeglass casing, pick-up lens window, the integrated molding of arc spatula, arc spatula is located at the front end of visual eyeglass, and the angle of the arc spatula and pick-up lens axis is 5-20 degree；For the infant of different age group, the specification of visual eyeglass are as follows: M-1: spatula length: 40 ± 5mm；Spatula width: 15 ± 5mm；Casing height: 10 ± 5mm；Casing length: 50 ± 5mm；M-0: spatula length: 30 ± 5mm；Spatula width: 15 ± 5mm；Casing height: 10 ± 5mm；Casing length: 50 ± 5mm；M-00: spatula length: 20 ± 5mm；Spatula width: 15 ± 5mm；Casing height: 10 ± 5mm；Casing length: 50 ± 5mm.When medical staff carries out trachea cannula in the glottis developmental state for observing infant or when needed for it, using this visual eyeglass, the injury to infant&#39;s throat is reduced.\n"
     ]
    }
   ],
   "source": [
    "s = (\n",
    "    data.query(\"prediction == 'None'\")\n",
    "    .sample(1)\n",
    "    .text\n",
    "    .iloc[0]\n",
    ")\n",
    "print(s)"
   ]
  },
  {
   "cell_type": "code",
   "execution_count": null,
   "metadata": {},
   "outputs": [],
   "source": []
  }
 ],
 "metadata": {
  "kernelspec": {
   "display_name": "discovery_child_development",
   "language": "python",
   "name": "python3"
  },
  "language_info": {
   "codemirror_mode": {
    "name": "ipython",
    "version": 3
   },
   "file_extension": ".py",
   "mimetype": "text/x-python",
   "name": "python",
   "nbconvert_exporter": "python",
   "pygments_lexer": "ipython3",
   "version": "3.10.13"
  }
 },
 "nbformat": 4,
 "nbformat_minor": 2
}
