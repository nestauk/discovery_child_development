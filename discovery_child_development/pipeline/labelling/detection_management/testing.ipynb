{
 "cells": [
  {
   "cell_type": "code",
   "execution_count": 11,
   "metadata": {},
   "outputs": [
    {
     "name": "stdout",
     "output_type": "stream",
     "text": [
      "2024-01-16 18:27:29,519 - root - INFO - File data/labels/child_development/detection_management_labels.jsonl downloaded from discovery-iss to /Users/karlis.kanders/Documents/code/discovery_child_development/outputs/labels/detection_management/detection_management_labels.jsonl\n"
     ]
    }
   ],
   "source": [
    "from discovery_child_development.getters import labels\n",
    "\n",
    "data = (\n",
    "    labels.get_detection_management_labels()\n",
    ")"
   ]
  },
  {
   "cell_type": "code",
   "execution_count": 12,
   "metadata": {},
   "outputs": [
    {
     "data": {
      "text/html": [
       "<div>\n",
       "<style scoped>\n",
       "    .dataframe tbody tr th:only-of-type {\n",
       "        vertical-align: middle;\n",
       "    }\n",
       "\n",
       "    .dataframe tbody tr th {\n",
       "        vertical-align: top;\n",
       "    }\n",
       "\n",
       "    .dataframe thead th {\n",
       "        text-align: right;\n",
       "    }\n",
       "</style>\n",
       "<table border=\"1\" class=\"dataframe\">\n",
       "  <thead>\n",
       "    <tr style=\"text-align: right;\">\n",
       "      <th></th>\n",
       "      <th>prediction</th>\n",
       "      <th>id</th>\n",
       "      <th>source</th>\n",
       "      <th>text</th>\n",
       "      <th>model</th>\n",
       "      <th>timestamp</th>\n",
       "    </tr>\n",
       "  </thead>\n",
       "  <tbody>\n",
       "    <tr>\n",
       "      <th>0</th>\n",
       "      <td>Management</td>\n",
       "      <td>CN-113081572-A</td>\n",
       "      <td>patents</td>\n",
       "      <td>Premature infant position management air mattr...</td>\n",
       "      <td>gpt-3.5-turbo-1106</td>\n",
       "      <td>20240116114841</td>\n",
       "    </tr>\n",
       "    <tr>\n",
       "      <th>1</th>\n",
       "      <td>Management</td>\n",
       "      <td>CN-217090144-U</td>\n",
       "      <td>patents</td>\n",
       "      <td>A simple folding baby care table. The utility ...</td>\n",
       "      <td>gpt-3.5-turbo-1106</td>\n",
       "      <td>20240116114841</td>\n",
       "    </tr>\n",
       "    <tr>\n",
       "      <th>2</th>\n",
       "      <td>Both</td>\n",
       "      <td>KR-20210020305-A</td>\n",
       "      <td>patents</td>\n",
       "      <td>Customized child&amp;#39;s development test system...</td>\n",
       "      <td>gpt-3.5-turbo-1106</td>\n",
       "      <td>20240116114841</td>\n",
       "    </tr>\n",
       "    <tr>\n",
       "      <th>3</th>\n",
       "      <td>Management</td>\n",
       "      <td>CN-218943743-U</td>\n",
       "      <td>patents</td>\n",
       "      <td>A multifunctional sleeping pad suitable for ne...</td>\n",
       "      <td>gpt-3.5-turbo-1106</td>\n",
       "      <td>20240116114841</td>\n",
       "    </tr>\n",
       "    <tr>\n",
       "      <th>4</th>\n",
       "      <td>Detection</td>\n",
       "      <td>https://openalex.org/W4233996479</td>\n",
       "      <td>openalex</td>\n",
       "      <td>The Social Brain. A range of empirical and the...</td>\n",
       "      <td>gpt-3.5-turbo-1106</td>\n",
       "      <td>20240116114841</td>\n",
       "    </tr>\n",
       "  </tbody>\n",
       "</table>\n",
       "</div>"
      ],
      "text/plain": [
       "   prediction                                id    source  \\\n",
       "0  Management                    CN-113081572-A   patents   \n",
       "1  Management                    CN-217090144-U   patents   \n",
       "2        Both                  KR-20210020305-A   patents   \n",
       "3  Management                    CN-218943743-U   patents   \n",
       "4   Detection  https://openalex.org/W4233996479  openalex   \n",
       "\n",
       "                                                text               model  \\\n",
       "0  Premature infant position management air mattr...  gpt-3.5-turbo-1106   \n",
       "1  A simple folding baby care table. The utility ...  gpt-3.5-turbo-1106   \n",
       "2  Customized child&#39;s development test system...  gpt-3.5-turbo-1106   \n",
       "3  A multifunctional sleeping pad suitable for ne...  gpt-3.5-turbo-1106   \n",
       "4  The Social Brain. A range of empirical and the...  gpt-3.5-turbo-1106   \n",
       "\n",
       "        timestamp  \n",
       "0  20240116114841  \n",
       "1  20240116114841  \n",
       "2  20240116114841  \n",
       "3  20240116114841  \n",
       "4  20240116114841  "
      ]
     },
     "execution_count": 12,
     "metadata": {},
     "output_type": "execute_result"
    }
   ],
   "source": [
    "data.head(5)"
   ]
  },
  {
   "cell_type": "code",
   "execution_count": 13,
   "metadata": {},
   "outputs": [
    {
     "data": {
      "text/html": [
       "<div>\n",
       "<style scoped>\n",
       "    .dataframe tbody tr th:only-of-type {\n",
       "        vertical-align: middle;\n",
       "    }\n",
       "\n",
       "    .dataframe tbody tr th {\n",
       "        vertical-align: top;\n",
       "    }\n",
       "\n",
       "    .dataframe thead th {\n",
       "        text-align: right;\n",
       "    }\n",
       "</style>\n",
       "<table border=\"1\" class=\"dataframe\">\n",
       "  <thead>\n",
       "    <tr style=\"text-align: right;\">\n",
       "      <th></th>\n",
       "      <th>prediction</th>\n",
       "      <th>counts</th>\n",
       "      <th>percentage</th>\n",
       "    </tr>\n",
       "  </thead>\n",
       "  <tbody>\n",
       "    <tr>\n",
       "      <th>2</th>\n",
       "      <td>Management</td>\n",
       "      <td>937</td>\n",
       "      <td>0.636549</td>\n",
       "    </tr>\n",
       "    <tr>\n",
       "      <th>1</th>\n",
       "      <td>Detection</td>\n",
       "      <td>340</td>\n",
       "      <td>0.230978</td>\n",
       "    </tr>\n",
       "    <tr>\n",
       "      <th>0</th>\n",
       "      <td>Both</td>\n",
       "      <td>130</td>\n",
       "      <td>0.088315</td>\n",
       "    </tr>\n",
       "    <tr>\n",
       "      <th>3</th>\n",
       "      <td>None</td>\n",
       "      <td>65</td>\n",
       "      <td>0.044158</td>\n",
       "    </tr>\n",
       "  </tbody>\n",
       "</table>\n",
       "</div>"
      ],
      "text/plain": [
       "   prediction  counts  percentage\n",
       "2  Management     937    0.636549\n",
       "1   Detection     340    0.230978\n",
       "0        Both     130    0.088315\n",
       "3        None      65    0.044158"
      ]
     },
     "execution_count": 13,
     "metadata": {},
     "output_type": "execute_result"
    }
   ],
   "source": [
    "n_data = len(data)\n",
    "(\n",
    "    data\n",
    "    .groupby(\"prediction\")\n",
    "    .agg(counts=(\"id\", \"count\"))\n",
    "    .reset_index()\n",
    "    .assign(percentage=lambda df: df[\"counts\"] / n_data)\n",
    "    .sort_values(\"percentage\", ascending=False)\n",
    ")"
   ]
  },
  {
   "cell_type": "code",
   "execution_count": 14,
   "metadata": {},
   "outputs": [
    {
     "name": "stdout",
     "output_type": "stream",
     "text": [
      "Decolonising theorising on children: Moving towards African-centred childhood studies pedadogy of sexual violence and trauma. Background: In Africa, remnants of colonisation and the effects of coloniality have influenced childhood in ways dissimilar to those in other parts of the world. Objectives: This article contests against universalised theorising of children, advocates for Afrocentric approaches to childhood studies on African children, and makes a case for Afrocentric pedagogy in the psychology of child sexual violence and childhood trauma. Methodology: The arguments in this article are informed by a rapid review of doctoral research on the history of violence in South Africa and developmental theory to understand how children make meaning of the experience of sexual violence-related trauma. Results: South Africa’s history of colonisation and Apartheid significantly contributes to child outcomes. Decolonial thought and African-centered theorising must be applied to childhood studies in Africa for a contextual understanding of African childhoods. They must centre on the needs and worldviews of Africans. Conclusion: Education is an instrument of enculturation; therefore, pedagogy should reflect the people it studies. The methods and practice in teaching childhood studies in psychology in Africa must humanise both children and professionals. Contribution: The article addresses the questions of relevance in childhood studies in Africa and advances recommendations for how academics and practitioners in childhood sexual violence and psychology should work with complex knowledge in childhood studies pedagogy.\n"
     ]
    }
   ],
   "source": [
    "s = (\n",
    "    data.query(\"prediction == 'None'\")\n",
    "    .sample(1)\n",
    "    .text\n",
    "    .iloc[0]\n",
    ")\n",
    "print(s)"
   ]
  },
  {
   "cell_type": "code",
   "execution_count": 6,
   "metadata": {},
   "outputs": [],
   "source": [
    "from nesta_ds_utils.loading_saving import S3\n",
    "from discovery_child_development import PROJECT_DIR, S3_BUCKET\n",
    "\n",
    "S3.upload_file(\n",
    "    path_from=str(PROJECT_DIR / \"outputs/labels/detection_management/detection_management_labels.jsonl\"),\n",
    "    bucket=S3_BUCKET,\n",
    "    path_to=\"data/labels/child_development/detection_management_labels.jsonl\"\n",
    ")"
   ]
  },
  {
   "cell_type": "code",
   "execution_count": 7,
   "metadata": {},
   "outputs": [],
   "source": [
    "from nesta_ds_utils.loading_saving import S3\n",
    "from discovery_child_development import PROJECT_DIR, S3_BUCKET\n",
    "\n",
    "S3.upload_file(\n",
    "    path_from=str(PROJECT_DIR / \"outputs/labels/relevance/relevance_labels.jsonl\"),\n",
    "    bucket=S3_BUCKET,\n",
    "    path_to=\"data/labels/child_development/relevance_labels.jsonl\"\n",
    ")"
   ]
  }
 ],
 "metadata": {
  "kernelspec": {
   "display_name": "discovery_child_development",
   "language": "python",
   "name": "python3"
  },
  "language_info": {
   "codemirror_mode": {
    "name": "ipython",
    "version": 3
   },
   "file_extension": ".py",
   "mimetype": "text/x-python",
   "name": "python",
   "nbconvert_exporter": "python",
   "pygments_lexer": "ipython3",
   "version": "3.10.13"
  }
 },
 "nbformat": 4,
 "nbformat_minor": 2
}
