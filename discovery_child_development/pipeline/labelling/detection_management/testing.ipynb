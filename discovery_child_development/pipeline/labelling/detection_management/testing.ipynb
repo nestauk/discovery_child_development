{
 "cells": [
  {
   "cell_type": "code",
   "execution_count": 10,
   "metadata": {},
   "outputs": [
    {
     "name": "stdout",
     "output_type": "stream",
     "text": [
      "2024-01-09 11:53:11,590 - root - INFO - File data/labels/child_development/testing_dm.jsonl downloaded from discovery-iss to outputs/labels/detection_management/testing_dm.jsonl\n"
     ]
    }
   ],
   "source": [
    "from discovery_child_development.getters import labels\n",
    "\n",
    "data = (\n",
    "    labels.get_detection_management_labels()\n",
    "    .assign(label=lambda df: df.prediction.apply(lambda x: x[0] if len(x) == 1 else 'both'))\n",
    ")"
   ]
  },
  {
   "cell_type": "code",
   "execution_count": 11,
   "metadata": {},
   "outputs": [
    {
     "data": {
      "text/html": [
       "<div>\n",
       "<style scoped>\n",
       "    .dataframe tbody tr th:only-of-type {\n",
       "        vertical-align: middle;\n",
       "    }\n",
       "\n",
       "    .dataframe tbody tr th {\n",
       "        vertical-align: top;\n",
       "    }\n",
       "\n",
       "    .dataframe thead th {\n",
       "        text-align: right;\n",
       "    }\n",
       "</style>\n",
       "<table border=\"1\" class=\"dataframe\">\n",
       "  <thead>\n",
       "    <tr style=\"text-align: right;\">\n",
       "      <th></th>\n",
       "      <th>label</th>\n",
       "      <th>count</th>\n",
       "      <th>percentage</th>\n",
       "    </tr>\n",
       "  </thead>\n",
       "  <tbody>\n",
       "    <tr>\n",
       "      <th>2</th>\n",
       "      <td>both</td>\n",
       "      <td>146</td>\n",
       "      <td>0.712195</td>\n",
       "    </tr>\n",
       "    <tr>\n",
       "      <th>1</th>\n",
       "      <td>Managing</td>\n",
       "      <td>37</td>\n",
       "      <td>0.180488</td>\n",
       "    </tr>\n",
       "    <tr>\n",
       "      <th>0</th>\n",
       "      <td>Detecting</td>\n",
       "      <td>22</td>\n",
       "      <td>0.107317</td>\n",
       "    </tr>\n",
       "  </tbody>\n",
       "</table>\n",
       "</div>"
      ],
      "text/plain": [
       "       label  count  percentage\n",
       "2       both    146    0.712195\n",
       "1   Managing     37    0.180488\n",
       "0  Detecting     22    0.107317"
      ]
     },
     "execution_count": 11,
     "metadata": {},
     "output_type": "execute_result"
    }
   ],
   "source": [
    "n_data = len(data)\n",
    "(\n",
    "    data\n",
    "    .groupby(\"label\")\n",
    "    .size()\n",
    "    .reset_index(name=\"count\")\n",
    "    .assign(percentage=lambda df: df[\"count\"] / n_data)\n",
    "    .sort_values(\"percentage\", ascending=False)\n",
    ")"
   ]
  },
  {
   "cell_type": "code",
   "execution_count": 52,
   "metadata": {},
   "outputs": [
    {
     "name": "stdout",
     "output_type": "stream",
     "text": [
      "A kind of auxiliary pillow for prone position of children. The utility model discloses an auxiliary pillow for children in prone position. Convex, the left end of the auxiliary pillow body is provided with a pillow for supporting the head of the child, and the left side of the upper end surface of the auxiliary pillow body is provided with an upper limb placement groove for the upper limb of the child to be placed in and positioned, and the upper limb is placed The grooves are arranged on both sides of the supporting body, and the right side of the upper end surface of the auxiliary pillow body is provided with lower limb placement grooves for positioning the lower limbs of the child, and the lower limb placement grooves are arranged on the outside of the supporting body. When in use, the infant lies prone on the supporting body, the side of the head rests on the pillow, and the upper limb placement groove and the lower limb placement groove cooperate to fix the position of the premature infant and the limbs, which can reduce the abdominal distension caused by the CPAP machine ventilation and maintain a functional position , to provide a comfortable lying position, conducive to growth and development.\n"
     ]
    }
   ],
   "source": [
    "s = (\n",
    "    data.query(\"label == 'both'\")\n",
    "    .sample(1)\n",
    "    .text\n",
    "    .iloc[0]\n",
    ")\n",
    "print(s)"
   ]
  },
  {
   "cell_type": "code",
   "execution_count": null,
   "metadata": {},
   "outputs": [],
   "source": []
  }
 ],
 "metadata": {
  "kernelspec": {
   "display_name": "discovery_child_development",
   "language": "python",
   "name": "python3"
  },
  "language_info": {
   "codemirror_mode": {
    "name": "ipython",
    "version": 3
   },
   "file_extension": ".py",
   "mimetype": "text/x-python",
   "name": "python",
   "nbconvert_exporter": "python",
   "pygments_lexer": "ipython3",
   "version": "3.10.13"
  }
 },
 "nbformat": 4,
 "nbformat_minor": 2
}
