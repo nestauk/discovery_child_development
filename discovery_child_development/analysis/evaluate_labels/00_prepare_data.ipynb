{
 "cells": [
  {
   "cell_type": "markdown",
   "metadata": {},
   "source": [
    "# Create a dataset for evaluating GPT labelling quality\n",
    "\n",
    "- Get labels\n",
    "- Sample 50 random examples per category\n",
    "- Output these examples to a Google Sheet\n",
    "- Output these examples in a format that is usable by Prodigy"
   ]
  },
  {
   "cell_type": "code",
   "execution_count": 2,
   "metadata": {},
   "outputs": [
    {
     "name": "stdout",
     "output_type": "stream",
     "text": [
      "2024-01-24 17:54:17,170 - botocore.credentials - INFO - Found credentials in environment variables.\n",
      "2024-01-24 17:54:18,752 - datasets - INFO - PyTorch version 2.1.2 available.\n"
     ]
    },
    {
     "name": "stderr",
     "output_type": "stream",
     "text": [
      "/opt/homebrew/Caskroom/miniconda/base/envs/discovery_child_development/lib/python3.10/site-packages/tqdm/auto.py:21: TqdmWarning: IProgress not found. Please update jupyter and ipywidgets. See https://ipywidgets.readthedocs.io/en/stable/user_install.html\n",
      "  from .autonotebook import tqdm as notebook_tqdm\n"
     ]
    }
   ],
   "source": [
    "from discovery_child_development.getters.labels import (\n",
    "    get_relevance_labels,\n",
    "    get_taxonomy_labels,\n",
    "    get_detection_management_labels\n",
    ")\n",
    "import pandas as pd\n",
    "import numpy as np"
   ]
  },
  {
   "cell_type": "code",
   "execution_count": 31,
   "metadata": {},
   "outputs": [],
   "source": [
    "from nesta_ds_utils.loading_saving import S3\n",
    "from discovery_child_development import PROJECT_DIR, S3_BUCKET\n",
    "OUTPUT_PATH = PROJECT_DIR / \"outputs/labels/evals_data\"\n",
    "OUTPUT_PATH.mkdir(exist_ok=True, parents=True)\n",
    "S3_PATH = \"data/labels/child_development/evals_data/\""
   ]
  },
  {
   "cell_type": "code",
   "execution_count": 36,
   "metadata": {},
   "outputs": [],
   "source": [
    "# sample n for each unique value of column prediction\n",
    "def sample_n_predictions(\n",
    "    df: pd.DataFrame,\n",
    "    n: int,\n",
    "    column: str = 'prediction',\n",
    "    seed: int = 42\n",
    ") -> pd.DataFrame:\n",
    "    \"\"\"\n",
    "    Sample n predictions for each unique value of column prediction\n",
    "\n",
    "    Args:\n",
    "        df (pd.DataFrame): dataframe with predictions\n",
    "        n (int): number of samples\n",
    "        column (str, optional): column to groupby. Defaults to 'prediction'.\n",
    "        seed (int, optional): random seed. Defaults to 42.\n",
    "\n",
    "    Returns:\n",
    "        pd.DataFrame: dataframe with n samples for each unique value of column prediction\n",
    "    \"\"\"\n",
    "    np.random.seed(seed)\n",
    "    return (\n",
    "        df\n",
    "        .groupby(column)\n",
    "        .apply(lambda x: x.sample(n=n))\n",
    "        .reset_index(drop=True)\n",
    "    )\n",
    "\n",
    "def sample_n_predictions_stratified(\n",
    "    df: pd.DataFrame,\n",
    "    n: int,\n",
    "    column_A: str = 'prediction',\n",
    "    column_B: str= 'source',\n",
    "    seed: int = 42\n",
    ") -> pd.DataFrame:\n",
    "    \"\"\"\n",
    "    Produce a sample with n elements for each label in column_A, uniformly distributed by column_B labels\n",
    "\n",
    "    Args:\n",
    "        df (pd.DataFrame): dataframe with predictions\n",
    "        n (int): number of samples\n",
    "        column_A (str, optional): column to groupby. Defaults to 'prediction'.\n",
    "        column_B (str, optional): column to stratify. Defaults to 'source'.\n",
    "        seed (int, optional): random seed. Defaults to 42.\n",
    "\n",
    "    Returns:\n",
    "        pd.DataFrame: dataframe with n samples for each unique value of column prediction\n",
    "    \"\"\"\n",
    "    np.random.seed(seed)\n",
    "    return (\n",
    "        df\n",
    "        .groupby([column_A, column_B])\n",
    "        .apply(lambda x: x.sample(n=n//2))\n",
    "        .reset_index(drop=True)\n",
    "    )\n",
    "\n",
    "\n",
    "def output_eval_data(df: pd.DataFrame, filename: str) -> None:\n",
    "    \"\"\"Saves dataframe to json and uploads to S3\"\"\"\n",
    "    df.to_json(path_or_buf=str(OUTPUT_PATH / filename), orient='records', lines=True)\n",
    "    S3.upload_file(path_from=str(OUTPUT_PATH / filename), bucket=S3_BUCKET, path_to=S3_PATH + filename)\n"
   ]
  },
  {
   "cell_type": "markdown",
   "metadata": {},
   "source": [
    "## Relevance labels"
   ]
  },
  {
   "cell_type": "code",
   "execution_count": 37,
   "metadata": {},
   "outputs": [
    {
     "name": "stdout",
     "output_type": "stream",
     "text": [
      "2024-01-25 16:19:40,789 - root - INFO - File data/labels/child_development/relevance_labels.jsonl downloaded from discovery-iss to /Users/karlis.kanders/Documents/code/discovery_child_development/outputs/labels/relevance/relevance_labels.jsonl\n"
     ]
    }
   ],
   "source": [
    "lab = get_relevance_labels()\n",
    "eval_data = sample_n_predictions_stratified(lab, 50, 'prediction', 'source', seed=100) "
   ]
  },
  {
   "cell_type": "code",
   "execution_count": 38,
   "metadata": {},
   "outputs": [
    {
     "data": {
      "text/html": [
       "<div>\n",
       "<style scoped>\n",
       "    .dataframe tbody tr th:only-of-type {\n",
       "        vertical-align: middle;\n",
       "    }\n",
       "\n",
       "    .dataframe tbody tr th {\n",
       "        vertical-align: top;\n",
       "    }\n",
       "\n",
       "    .dataframe thead th {\n",
       "        text-align: right;\n",
       "    }\n",
       "</style>\n",
       "<table border=\"1\" class=\"dataframe\">\n",
       "  <thead>\n",
       "    <tr style=\"text-align: right;\">\n",
       "      <th></th>\n",
       "      <th></th>\n",
       "      <th>id</th>\n",
       "      <th>model</th>\n",
       "      <th>timestamp</th>\n",
       "      <th>text</th>\n",
       "    </tr>\n",
       "    <tr>\n",
       "      <th>prediction</th>\n",
       "      <th>source</th>\n",
       "      <th></th>\n",
       "      <th></th>\n",
       "      <th></th>\n",
       "      <th></th>\n",
       "    </tr>\n",
       "  </thead>\n",
       "  <tbody>\n",
       "    <tr>\n",
       "      <th rowspan=\"2\" valign=\"top\">Not-relevant</th>\n",
       "      <th>openalex</th>\n",
       "      <td>25</td>\n",
       "      <td>25</td>\n",
       "      <td>25</td>\n",
       "      <td>25</td>\n",
       "    </tr>\n",
       "    <tr>\n",
       "      <th>patents</th>\n",
       "      <td>25</td>\n",
       "      <td>25</td>\n",
       "      <td>25</td>\n",
       "      <td>25</td>\n",
       "    </tr>\n",
       "    <tr>\n",
       "      <th rowspan=\"2\" valign=\"top\">Not-specified</th>\n",
       "      <th>openalex</th>\n",
       "      <td>25</td>\n",
       "      <td>25</td>\n",
       "      <td>25</td>\n",
       "      <td>24</td>\n",
       "    </tr>\n",
       "    <tr>\n",
       "      <th>patents</th>\n",
       "      <td>25</td>\n",
       "      <td>25</td>\n",
       "      <td>25</td>\n",
       "      <td>25</td>\n",
       "    </tr>\n",
       "    <tr>\n",
       "      <th rowspan=\"2\" valign=\"top\">Relevant</th>\n",
       "      <th>openalex</th>\n",
       "      <td>25</td>\n",
       "      <td>25</td>\n",
       "      <td>25</td>\n",
       "      <td>25</td>\n",
       "    </tr>\n",
       "    <tr>\n",
       "      <th>patents</th>\n",
       "      <td>25</td>\n",
       "      <td>25</td>\n",
       "      <td>25</td>\n",
       "      <td>25</td>\n",
       "    </tr>\n",
       "  </tbody>\n",
       "</table>\n",
       "</div>"
      ],
      "text/plain": [
       "                        id  model  timestamp  text\n",
       "prediction    source                              \n",
       "Not-relevant  openalex  25     25         25    25\n",
       "              patents   25     25         25    25\n",
       "Not-specified openalex  25     25         25    24\n",
       "              patents   25     25         25    25\n",
       "Relevant      openalex  25     25         25    25\n",
       "              patents   25     25         25    25"
      ]
     },
     "execution_count": 38,
     "metadata": {},
     "output_type": "execute_result"
    }
   ],
   "source": [
    "eval_data.groupby(['prediction','source']).count()"
   ]
  },
  {
   "cell_type": "code",
   "execution_count": 39,
   "metadata": {},
   "outputs": [],
   "source": [
    "filename = \"relevance_labels_eval.jsonl\"\n",
    "output_eval_data(eval_data, filename)\n"
   ]
  },
  {
   "cell_type": "markdown",
   "metadata": {},
   "source": [
    "### Detection management labels"
   ]
  },
  {
   "cell_type": "code",
   "execution_count": 40,
   "metadata": {},
   "outputs": [
    {
     "name": "stdout",
     "output_type": "stream",
     "text": [
      "2024-01-25 16:20:15,081 - root - INFO - File data/labels/child_development/detection_management_labels.jsonl downloaded from discovery-iss to /Users/karlis.kanders/Documents/code/discovery_child_development/outputs/labels/detection_management/detection_management_labels.jsonl\n"
     ]
    }
   ],
   "source": [
    "lab = get_detection_management_labels()\n",
    "eval_data = sample_n_predictions_stratified(lab, 50, 'prediction', 'source', seed=100) "
   ]
  },
  {
   "cell_type": "code",
   "execution_count": 42,
   "metadata": {},
   "outputs": [
    {
     "data": {
      "text/html": [
       "<div>\n",
       "<style scoped>\n",
       "    .dataframe tbody tr th:only-of-type {\n",
       "        vertical-align: middle;\n",
       "    }\n",
       "\n",
       "    .dataframe tbody tr th {\n",
       "        vertical-align: top;\n",
       "    }\n",
       "\n",
       "    .dataframe thead th {\n",
       "        text-align: right;\n",
       "    }\n",
       "</style>\n",
       "<table border=\"1\" class=\"dataframe\">\n",
       "  <thead>\n",
       "    <tr style=\"text-align: right;\">\n",
       "      <th></th>\n",
       "      <th></th>\n",
       "      <th>id</th>\n",
       "      <th>text</th>\n",
       "      <th>model</th>\n",
       "      <th>timestamp</th>\n",
       "    </tr>\n",
       "    <tr>\n",
       "      <th>prediction</th>\n",
       "      <th>source</th>\n",
       "      <th></th>\n",
       "      <th></th>\n",
       "      <th></th>\n",
       "      <th></th>\n",
       "    </tr>\n",
       "  </thead>\n",
       "  <tbody>\n",
       "    <tr>\n",
       "      <th rowspan=\"2\" valign=\"top\">Both</th>\n",
       "      <th>openalex</th>\n",
       "      <td>117</td>\n",
       "      <td>117</td>\n",
       "      <td>117</td>\n",
       "      <td>117</td>\n",
       "    </tr>\n",
       "    <tr>\n",
       "      <th>patents</th>\n",
       "      <td>52</td>\n",
       "      <td>52</td>\n",
       "      <td>52</td>\n",
       "      <td>52</td>\n",
       "    </tr>\n",
       "    <tr>\n",
       "      <th rowspan=\"2\" valign=\"top\">Detection</th>\n",
       "      <th>openalex</th>\n",
       "      <td>283</td>\n",
       "      <td>283</td>\n",
       "      <td>283</td>\n",
       "      <td>283</td>\n",
       "    </tr>\n",
       "    <tr>\n",
       "      <th>patents</th>\n",
       "      <td>157</td>\n",
       "      <td>157</td>\n",
       "      <td>157</td>\n",
       "      <td>157</td>\n",
       "    </tr>\n",
       "    <tr>\n",
       "      <th rowspan=\"2\" valign=\"top\">Management</th>\n",
       "      <th>openalex</th>\n",
       "      <td>530</td>\n",
       "      <td>530</td>\n",
       "      <td>530</td>\n",
       "      <td>530</td>\n",
       "    </tr>\n",
       "    <tr>\n",
       "      <th>patents</th>\n",
       "      <td>651</td>\n",
       "      <td>651</td>\n",
       "      <td>651</td>\n",
       "      <td>651</td>\n",
       "    </tr>\n",
       "    <tr>\n",
       "      <th rowspan=\"2\" valign=\"top\">None</th>\n",
       "      <th>openalex</th>\n",
       "      <td>43</td>\n",
       "      <td>43</td>\n",
       "      <td>43</td>\n",
       "      <td>43</td>\n",
       "    </tr>\n",
       "    <tr>\n",
       "      <th>patents</th>\n",
       "      <td>42</td>\n",
       "      <td>42</td>\n",
       "      <td>42</td>\n",
       "      <td>42</td>\n",
       "    </tr>\n",
       "  </tbody>\n",
       "</table>\n",
       "</div>"
      ],
      "text/plain": [
       "                      id  text  model  timestamp\n",
       "prediction source                               \n",
       "Both       openalex  117   117    117        117\n",
       "           patents    52    52     52         52\n",
       "Detection  openalex  283   283    283        283\n",
       "           patents   157   157    157        157\n",
       "Management openalex  530   530    530        530\n",
       "           patents   651   651    651        651\n",
       "None       openalex   43    43     43         43\n",
       "           patents    42    42     42         42"
      ]
     },
     "execution_count": 42,
     "metadata": {},
     "output_type": "execute_result"
    }
   ],
   "source": [
    "lab.groupby(['prediction','source']).count()"
   ]
  },
  {
   "cell_type": "code",
   "execution_count": 43,
   "metadata": {},
   "outputs": [
    {
     "data": {
      "text/html": [
       "<div>\n",
       "<style scoped>\n",
       "    .dataframe tbody tr th:only-of-type {\n",
       "        vertical-align: middle;\n",
       "    }\n",
       "\n",
       "    .dataframe tbody tr th {\n",
       "        vertical-align: top;\n",
       "    }\n",
       "\n",
       "    .dataframe thead th {\n",
       "        text-align: right;\n",
       "    }\n",
       "</style>\n",
       "<table border=\"1\" class=\"dataframe\">\n",
       "  <thead>\n",
       "    <tr style=\"text-align: right;\">\n",
       "      <th></th>\n",
       "      <th></th>\n",
       "      <th>id</th>\n",
       "      <th>text</th>\n",
       "      <th>model</th>\n",
       "      <th>timestamp</th>\n",
       "    </tr>\n",
       "    <tr>\n",
       "      <th>prediction</th>\n",
       "      <th>source</th>\n",
       "      <th></th>\n",
       "      <th></th>\n",
       "      <th></th>\n",
       "      <th></th>\n",
       "    </tr>\n",
       "  </thead>\n",
       "  <tbody>\n",
       "    <tr>\n",
       "      <th rowspan=\"2\" valign=\"top\">Both</th>\n",
       "      <th>openalex</th>\n",
       "      <td>25</td>\n",
       "      <td>25</td>\n",
       "      <td>25</td>\n",
       "      <td>25</td>\n",
       "    </tr>\n",
       "    <tr>\n",
       "      <th>patents</th>\n",
       "      <td>25</td>\n",
       "      <td>25</td>\n",
       "      <td>25</td>\n",
       "      <td>25</td>\n",
       "    </tr>\n",
       "    <tr>\n",
       "      <th rowspan=\"2\" valign=\"top\">Detection</th>\n",
       "      <th>openalex</th>\n",
       "      <td>25</td>\n",
       "      <td>25</td>\n",
       "      <td>25</td>\n",
       "      <td>25</td>\n",
       "    </tr>\n",
       "    <tr>\n",
       "      <th>patents</th>\n",
       "      <td>25</td>\n",
       "      <td>25</td>\n",
       "      <td>25</td>\n",
       "      <td>25</td>\n",
       "    </tr>\n",
       "    <tr>\n",
       "      <th rowspan=\"2\" valign=\"top\">Management</th>\n",
       "      <th>openalex</th>\n",
       "      <td>25</td>\n",
       "      <td>25</td>\n",
       "      <td>25</td>\n",
       "      <td>25</td>\n",
       "    </tr>\n",
       "    <tr>\n",
       "      <th>patents</th>\n",
       "      <td>25</td>\n",
       "      <td>25</td>\n",
       "      <td>25</td>\n",
       "      <td>25</td>\n",
       "    </tr>\n",
       "    <tr>\n",
       "      <th rowspan=\"2\" valign=\"top\">None</th>\n",
       "      <th>openalex</th>\n",
       "      <td>25</td>\n",
       "      <td>25</td>\n",
       "      <td>25</td>\n",
       "      <td>25</td>\n",
       "    </tr>\n",
       "    <tr>\n",
       "      <th>patents</th>\n",
       "      <td>25</td>\n",
       "      <td>25</td>\n",
       "      <td>25</td>\n",
       "      <td>25</td>\n",
       "    </tr>\n",
       "  </tbody>\n",
       "</table>\n",
       "</div>"
      ],
      "text/plain": [
       "                     id  text  model  timestamp\n",
       "prediction source                              \n",
       "Both       openalex  25    25     25         25\n",
       "           patents   25    25     25         25\n",
       "Detection  openalex  25    25     25         25\n",
       "           patents   25    25     25         25\n",
       "Management openalex  25    25     25         25\n",
       "           patents   25    25     25         25\n",
       "None       openalex  25    25     25         25\n",
       "           patents   25    25     25         25"
      ]
     },
     "execution_count": 43,
     "metadata": {},
     "output_type": "execute_result"
    }
   ],
   "source": [
    "eval_data.groupby(['prediction','source']).count()"
   ]
  },
  {
   "cell_type": "code",
   "execution_count": 44,
   "metadata": {},
   "outputs": [],
   "source": [
    "filename = \"detection_management_labels_eval.jsonl\"\n",
    "output_eval_data(eval_data, filename)\n"
   ]
  }
 ],
 "metadata": {
  "kernelspec": {
   "display_name": "discovery_child_development",
   "language": "python",
   "name": "python3"
  },
  "language_info": {
   "codemirror_mode": {
    "name": "ipython",
    "version": 3
   },
   "file_extension": ".py",
   "mimetype": "text/x-python",
   "name": "python",
   "nbconvert_exporter": "python",
   "pygments_lexer": "ipython3",
   "version": "3.10.13"
  }
 },
 "nbformat": 4,
 "nbformat_minor": 2
}
