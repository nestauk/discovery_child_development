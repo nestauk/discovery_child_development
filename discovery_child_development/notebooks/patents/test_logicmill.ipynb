{
 "cells": [
  {
   "cell_type": "markdown",
   "metadata": {},
   "source": [
    "# Testing Logic Mill database with a simple example"
   ]
  },
  {
   "cell_type": "code",
   "execution_count": null,
   "metadata": {},
   "outputs": [],
   "source": [
    "import requests\n",
    "import json\n",
    "from os import environ\n",
    "import dotenv\n",
    "\n",
    "dotenv.load_dotenv()\n",
    "\n",
    "# api token\n",
    "token = environ.get(\"LOGIC_MILL_TOKEN\")\n",
    "\n",
    "# api endpoint\n",
    "url = \"https://api.logic-mill.net/api/v1/graphql/\"\n",
    "\n",
    "# build graphql query\n",
    "query = \"\"\"\n",
    "query searchDocuments($index: String!, $keyword: String!, $searchFields: [String!]) {\n",
    "  searchDocuments(index: $index, keyword: $keyword, searchFields: $searchFields) {\n",
    "    id\n",
    "    documentParts {\n",
    "      title\n",
    "      abstract\n",
    "    }\n",
    "    metadata {\n",
    "      createdAt\n",
    "      aliases\n",
    "    }\n",
    "    vector\n",
    "    url\n",
    "  }\n",
    "}\n",
    "\"\"\"\n",
    "\n",
    "\n",
    "# build variables\n",
    "variables = {\n",
    "    \"keyword\": \"child development\",\n",
    "    \"index\": \"uspto_cos\",\n",
    "    \"searchFields\": [\"documentParts.title\", \"documentParts.abstract\"],\n",
    "}\n",
    "\n",
    "headers = {\n",
    "    \"content-type\": \"application/json\",\n",
    "    \"Authorization\": \"Bearer \" + token,\n",
    "}\n",
    "\n",
    "\n",
    "# send request\n",
    "r = requests.post(url, headers=headers, json={\"query\": query, \"variables\": variables})\n",
    "\n",
    "# data\n",
    "data = r.json()[\"data\"][\"searchDocuments\"]"
   ]
  },
  {
   "cell_type": "code",
   "execution_count": null,
   "metadata": {},
   "outputs": [],
   "source": [
    "# Individual elements for each document\n",
    "data[0].keys()"
   ]
  },
  {
   "cell_type": "code",
   "execution_count": null,
   "metadata": {},
   "outputs": [],
   "source": [
    "for d in data:\n",
    "    print(d[\"documentParts\"][\"title\"])"
   ]
  },
  {
   "cell_type": "code",
   "execution_count": null,
   "metadata": {},
   "outputs": [],
   "source": [
    "for d in data:\n",
    "    print(d[\"documentParts\"][\"abstract\"])"
   ]
  },
  {
   "cell_type": "markdown",
   "metadata": {},
   "source": []
  }
 ],
 "metadata": {
  "jupytext": {
   "cell_metadata_filter": "-all",
   "comment_magics": true,
   "formats": "ipynb,py"
  },
  "kernelspec": {
   "display_name": "discovery_child_development",
   "language": "python",
   "name": "python3"
  },
  "language_info": {
   "codemirror_mode": {
    "name": "ipython",
    "version": 3
   },
   "file_extension": ".py",
   "mimetype": "text/x-python",
   "name": "python",
   "nbconvert_exporter": "python",
   "pygments_lexer": "ipython3",
   "version": "3.10.13"
  }
 },
 "nbformat": 4,
 "nbformat_minor": 2
}
