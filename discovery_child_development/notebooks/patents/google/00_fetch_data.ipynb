{
 "cells": [
  {
   "cell_type": "markdown",
   "metadata": {},
   "source": [
    "# Querying Google Patents\n",
    "\n",
    "Develop a sensible query to fetch relevant Google Patents queries (without incurring too much cost)"
   ]
  },
  {
   "cell_type": "code",
   "execution_count": null,
   "metadata": {},
   "outputs": [],
   "source": [
    "from discovery_child_development.utils import google_utils, keywords as kw\n",
    "from discovery_child_development import PROJECT_DIR\n",
    "\n",
    "KEYWORD_FILE = PROJECT_DIR / \"discovery_child_development/config/patents/keywords.txt\"\n",
    "PATENT_PATH = \"data/patents/\""
   ]
  },
  {
   "cell_type": "code",
   "execution_count": null,
   "metadata": {},
   "outputs": [],
   "source": [
    "keywords = kw.get_keywords(KEYWORD_FILE)\n",
    "keywords = kw.deduplicate_keywords(\n",
    "    keywords\n",
    "    + kw.replace_word(keywords, \"child\", \"infant\")\n",
    "    + kw.replace_word(keywords, \"child\", \"baby\")\n",
    ")"
   ]
  },
  {
   "cell_type": "code",
   "execution_count": null,
   "metadata": {},
   "outputs": [],
   "source": [
    "query_keywords_path = KEYWORD_FILE.parent / \"keywords_query.txt\"\n",
    "kw.save_keywords(keywords, query_keywords_path)"
   ]
  },
  {
   "cell_type": "code",
   "execution_count": null,
   "metadata": {},
   "outputs": [],
   "source": [
    "client = google_utils.create_client()"
   ]
  },
  {
   "cell_type": "code",
   "execution_count": null,
   "metadata": {},
   "outputs": [],
   "source": [
    "query = google_utils.create_patents_query(keywords)\n",
    "print(query)"
   ]
  },
  {
   "cell_type": "code",
   "execution_count": null,
   "metadata": {},
   "outputs": [],
   "source": [
    "google_utils.dry_run(client, query)"
   ]
  },
  {
   "cell_type": "code",
   "execution_count": null,
   "metadata": {},
   "outputs": [],
   "source": [
    "query_df = client.query(query).to_dataframe()\n",
    "len(query_df)"
   ]
  },
  {
   "cell_type": "code",
   "execution_count": null,
   "metadata": {},
   "outputs": [],
   "source": [
    "google_utils.upload_query_to_s3(\n",
    "    query_name=\"GooglePatents\",\n",
    "    path=PATENT_PATH,\n",
    "    query_df=query_df,\n",
    "    query=query,\n",
    "    metadata=[KEYWORD_FILE, query_keywords_path],\n",
    ")"
   ]
  }
 ],
 "metadata": {
  "jupytext": {
   "cell_metadata_filter": "-all",
   "comment_magics": true,
   "formats": "ipynb,py"
  },
  "kernelspec": {
   "display_name": "discovery_child_development",
   "language": "python",
   "name": "python3"
  },
  "language_info": {
   "codemirror_mode": {
    "name": "ipython",
    "version": 3
   },
   "file_extension": ".py",
   "mimetype": "text/x-python",
   "name": "python",
   "nbconvert_exporter": "python",
   "pygments_lexer": "ipython3",
   "version": "3.10.13"
  }
 },
 "nbformat": 4,
 "nbformat_minor": 2
}
