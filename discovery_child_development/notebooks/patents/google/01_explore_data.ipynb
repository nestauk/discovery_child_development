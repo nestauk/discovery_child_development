{
 "cells": [
  {
   "cell_type": "markdown",
   "metadata": {},
   "source": [
    "# Explore patents data\n",
    "\n",
    "- Filter out patents where combinations of keywords don't appear in the same sentence\n",
    "- Inspect themes by clustering the data\n",
    "- Characterise the clusters by summarising the characteristic patents\n",
    "- Visualise the patent data"
   ]
  },
  {
   "cell_type": "code",
   "execution_count": null,
   "metadata": {},
   "outputs": [],
   "source": [
    "from discovery_child_development.getters import patents\n",
    "from discovery_child_development.utils import keywords as kw\n",
    "import discovery_child_development.utils.cluster_analysis_utils as cau\n",
    "from discovery_child_development import logger\n",
    "import pandas as pd\n",
    "import numpy as np\n",
    "\n",
    "import importlib\n",
    "\n",
    "importlib.reload(patents)\n",
    "importlib.reload(kw)\n",
    "importlib.reload(cau)\n",
    "\n",
    "import altair as alt\n",
    "\n",
    "alt.data_transformers.disable_max_rows()\n",
    "from sentence_transformers import SentenceTransformer\n",
    "\n",
    "model = SentenceTransformer(\"all-MiniLM-L6-v2\")\n",
    "\n",
    "SEED = 42\n",
    "\n",
    "UMAP_PARAMS = {\n",
    "    \"n_components\": 50,\n",
    "    \"n_neighbors\": 10,\n",
    "    \"min_dist\": 0.5,\n",
    "    \"spread\": 0.5,\n",
    "}"
   ]
  },
  {
   "cell_type": "code",
   "execution_count": null,
   "metadata": {},
   "outputs": [],
   "source": [
    "# Load keywords\n",
    "logger.info(f\"Fetching {patents.PATENTS_DATA_VERSION}\")\n",
    "keywords = patents.get_keywords_from_s3()\n",
    "\n",
    "# Load patent data\n",
    "data_raw_df = patents.get_patents_from_s3()\n",
    "\n",
    "data_df = (\n",
    "    data_raw_df\n",
    "    # Combine title and abstract\n",
    "    .assign(text=lambda df: df[\"title\"] + \". \" + df[\"abstract\"])\n",
    "    # Remove patents without text\n",
    "    .dropna(subset=[\"text\"])\n",
    "    # Check which patents have keyword hits in the same sentence\n",
    "    .assign(has_hits=lambda df: kw.check_keyword_hits(df.text, keywords))\n",
    ")"
   ]
  },
  {
   "cell_type": "code",
   "execution_count": null,
   "metadata": {},
   "outputs": [],
   "source": [
    "# Check proportion of patents that have the keyword hits in the same sentence\n",
    "len(data_df.query(\"has_hits == True\")) / len(data_df)"
   ]
  },
  {
   "cell_type": "code",
   "execution_count": null,
   "metadata": {},
   "outputs": [],
   "source": [
    "# Check how many have an empty or null abstract\n",
    "len(data_df[data_df[\"abstract\"].isna() | data_df[\"abstract\"].str.strip().eq(\"\")])"
   ]
  },
  {
   "cell_type": "code",
   "execution_count": null,
   "metadata": {},
   "outputs": [],
   "source": [
    "# Create embeddings for the unique concepts\n",
    "embeddings = model.encode(data_df[\"text\"].tolist(), show_progress_bar=True)"
   ]
  },
  {
   "cell_type": "code",
   "execution_count": null,
   "metadata": {},
   "outputs": [],
   "source": [
    "embeddings.shape"
   ]
  },
  {
   "cell_type": "code",
   "execution_count": null,
   "metadata": {},
   "outputs": [],
   "source": [
    "# Reduce dimensionality of the embeddings\n",
    "embeddings_50 = cau.umap_reducer(embeddings, UMAP_PARAMS, random_umap_state=SEED)\n",
    "\n",
    "# Run with an arbitrary number of clusters\n",
    "kmeans_labels = cau.kmeans_clustering(\n",
    "    embeddings_50,\n",
    "    kmeans_params={\"init\": \"k-means++\", \"n_clusters\": 20, \"random_state\": SEED},\n",
    ")\n",
    "\n",
    "# Reduce original vectors to 2D for plotting\n",
    "embeddings_2d = cau.reduce_to_2D(embeddings, random_state=SEED)\n"
   ]
  },
  {
   "cell_type": "code",
   "execution_count": null,
   "metadata": {},
   "outputs": [],
   "source": [
    "# Add 2D vectors into the dataframe for plotting\n",
    "clusters_df = (\n",
    "    data_df.copy()\n",
    "    .reset_index(drop=True)\n",
    "    .assign(\n",
    "        cluster=kmeans_labels,\n",
    "        x=embeddings_2d[:, 0],\n",
    "        y=embeddings_2d[:, 1],\n",
    "    )\n",
    ")"
   ]
  },
  {
   "cell_type": "code",
   "execution_count": null,
   "metadata": {},
   "outputs": [],
   "source": [
    "CLUSTER_SUMMARY_MESSAGE = \"Here are the most central patents of a patent cluster. \\\n",
    "Describe what kind of innovations is this cluster capturing, in 2 sentences. \\\n",
    "\\n\\n##Abstracts\\n\\n {} \\n\\n##Description (2 short sentences)\"\n",
    "\n",
    "cluster_descriptions = cau.describe_clusters_with_gpt(\n",
    "    cluster_df=clusters_df,\n",
    "    embeddings=embeddings,\n",
    "    n_central=10,\n",
    "    gpt_message=CLUSTER_SUMMARY_MESSAGE,\n",
    ")\n",
    "\n",
    "cluster_names_dict = cau.generate_cluster_names_with_gpt(\n",
    "    cluster_descriptions=cluster_descriptions,\n",
    ")"
   ]
  },
  {
   "cell_type": "code",
   "execution_count": null,
   "metadata": {},
   "outputs": [],
   "source": [
    "cluster_summaries = pd.DataFrame(\n",
    "    data={\n",
    "        \"cluster\": cluster_names_dict.keys(),\n",
    "        \"cluster_name\": cluster_names_dict.values(),\n",
    "        \"cluster_description\": cluster_descriptions,\n",
    "    }\n",
    ")"
   ]
  },
  {
   "cell_type": "code",
   "execution_count": null,
   "metadata": {},
   "outputs": [],
   "source": [
    "pd.set_option(\"display.max_colwidth\", None)\n",
    "cluster_summaries"
   ]
  },
  {
   "cell_type": "code",
   "execution_count": null,
   "metadata": {},
   "outputs": [],
   "source": [
    "clusters_df_final = clusters_df.copy().merge(\n",
    "    cluster_summaries, left_on=\"cluster\", right_on=\"cluster\", how=\"left\"\n",
    ")\n",
    "\n",
    "fig = (\n",
    "    alt.Chart(clusters_df_final[['x', 'y', \"cluster\", \"cluster_name\", \"cluster_description\", \"title\", \"abstract\"]])\n",
    "    .mark_circle()\n",
    "    .encode(\n",
    "        x=\"x\",\n",
    "        y=\"y\",\n",
    "        color=alt.Color(\"cluster_name:N\", legend=alt.Legend(title=\"cluster name\")),\n",
    "        tooltip=[\"cluster\", \"cluster_name\", \"cluster_description\", \"title\", \"abstract\"],\n",
    "    )\n",
    "    .properties(width=800, height=600)\n",
    "    .interactive()\n",
    ")\n",
    "\n",
    "fig"
   ]
  },
  {
   "cell_type": "code",
   "execution_count": null,
   "metadata": {},
   "outputs": [],
   "source": [
    "fig.save(\"patent_cluster_plot.html\")"
   ]
  }
 ],
 "metadata": {
  "jupytext": {
   "cell_metadata_filter": "-all",
   "comment_magics": true,
   "formats": "ipynb,py"
  },
  "kernelspec": {
   "display_name": "discovery_child_development",
   "language": "python",
   "name": "python3"
  },
  "language_info": {
   "codemirror_mode": {
    "name": "ipython",
    "version": 3
   },
   "file_extension": ".py",
   "mimetype": "text/x-python",
   "name": "python",
   "nbconvert_exporter": "python",
   "pygments_lexer": "ipython3",
   "version": "3.10.13"
  }
 },
 "nbformat": 4,
 "nbformat_minor": 2
}
