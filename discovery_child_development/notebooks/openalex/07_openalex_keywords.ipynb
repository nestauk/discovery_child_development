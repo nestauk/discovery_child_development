{
 "cells": [
  {
   "cell_type": "code",
   "execution_count": 1,
   "id": "59a57894",
   "metadata": {},
   "outputs": [
    {
     "name": "stdout",
     "output_type": "stream",
     "text": [
      "2023-11-30 17:07:39,355 - sentence_transformers.SentenceTransformer - INFO - Load pretrained SentenceTransformer: all-MiniLM-L6-v2\n",
      "2023-11-30 17:07:40,026 - sentence_transformers.SentenceTransformer - INFO - Use pytorch device: cpu\n"
     ]
    },
    {
     "data": {
      "text/plain": [
       "DataTransformerRegistry.enable('default')"
      ]
     },
     "execution_count": 1,
     "metadata": {},
     "output_type": "execute_result"
    }
   ],
   "source": [
    "import altair as alt\n",
    "from itertools import chain\n",
    "import requests\n",
    "from nesta_ds_utils.loading_saving import S3 as nesta_s3\n",
    "import numpy as np\n",
    "import pandas as pd\n",
    "from dotenv import load_dotenv\n",
    "from typing import NoReturn, List, Any\n",
    "from time import time\n",
    "import sentence_transformers\n",
    "from sentence_transformers import SentenceTransformer\n",
    "\n",
    "from discovery_child_development import S3_BUCKET, config, logging\n",
    "from discovery_child_development.utils import openalex_utils, cluster_analysis_utils\n",
    "\n",
    "API_ROOT = config[\"openalex_keywords_api_root\"]\n",
    "S3_PATH = \"metaflow/openalex_keyword_search\"\n",
    "YEARS = config[\"openalex_years\"]\n",
    "KEYWORDS = config[\"openalex_keywords\"]\n",
    "SEED = config[\"seed\"]\n",
    "\n",
    "load_dotenv()\n",
    "\n",
    "model = SentenceTransformer(\"all-MiniLM-L6-v2\")\n",
    "\n",
    "alt.data_transformers.disable_max_rows()"
   ]
  },
  {
   "cell_type": "code",
   "execution_count": 2,
   "id": "ea2dbe99",
   "metadata": {},
   "outputs": [
    {
     "data": {
      "text/plain": [
       "[\"https://api.openalex.org/works?search=(abstract:(child OR infant OR baby OR prenatal OR pregnancy) AND abstract:('artificial intelligence' OR assess OR assessment OR 'augmented reality' OR autism OR behaviour OR development OR 'eye tracking' OR genetics OR income OR learning OR 'learning environment' OR monitor OR psychotherapy OR 'randomised controlled trials' OR robotics OR 'social media' OR 'social services' OR 'special need' OR technology OR 'virtual reality' OR wearable)) OR (title:(child OR infant OR baby OR prenatal OR pregnancy) AND title:('artificial intelligence' OR assess OR assessment OR 'augmented reality' OR autism OR behaviour OR development OR 'eye tracking' OR genetics OR income OR learning OR 'learning environment' OR monitor OR psychotherapy OR 'randomised controlled trials' OR robotics OR 'social media' OR 'social services' OR 'special need' OR technology OR 'virtual reality' OR wearable))&filter=publication_year:2019\",\n",
       " \"https://api.openalex.org/works?search=(abstract:(child OR infant OR baby OR prenatal OR pregnancy) AND abstract:('artificial intelligence' OR assess OR assessment OR 'augmented reality' OR autism OR behaviour OR development OR 'eye tracking' OR genetics OR income OR learning OR 'learning environment' OR monitor OR psychotherapy OR 'randomised controlled trials' OR robotics OR 'social media' OR 'social services' OR 'special need' OR technology OR 'virtual reality' OR wearable)) OR (title:(child OR infant OR baby OR prenatal OR pregnancy) AND title:('artificial intelligence' OR assess OR assessment OR 'augmented reality' OR autism OR behaviour OR development OR 'eye tracking' OR genetics OR income OR learning OR 'learning environment' OR monitor OR psychotherapy OR 'randomised controlled trials' OR robotics OR 'social media' OR 'social services' OR 'special need' OR technology OR 'virtual reality' OR wearable))&filter=publication_year:2020\",\n",
       " \"https://api.openalex.org/works?search=(abstract:(child OR infant OR baby OR prenatal OR pregnancy) AND abstract:('artificial intelligence' OR assess OR assessment OR 'augmented reality' OR autism OR behaviour OR development OR 'eye tracking' OR genetics OR income OR learning OR 'learning environment' OR monitor OR psychotherapy OR 'randomised controlled trials' OR robotics OR 'social media' OR 'social services' OR 'special need' OR technology OR 'virtual reality' OR wearable)) OR (title:(child OR infant OR baby OR prenatal OR pregnancy) AND title:('artificial intelligence' OR assess OR assessment OR 'augmented reality' OR autism OR behaviour OR development OR 'eye tracking' OR genetics OR income OR learning OR 'learning environment' OR monitor OR psychotherapy OR 'randomised controlled trials' OR robotics OR 'social media' OR 'social services' OR 'special need' OR technology OR 'virtual reality' OR wearable))&filter=publication_year:2021\",\n",
       " \"https://api.openalex.org/works?search=(abstract:(child OR infant OR baby OR prenatal OR pregnancy) AND abstract:('artificial intelligence' OR assess OR assessment OR 'augmented reality' OR autism OR behaviour OR development OR 'eye tracking' OR genetics OR income OR learning OR 'learning environment' OR monitor OR psychotherapy OR 'randomised controlled trials' OR robotics OR 'social media' OR 'social services' OR 'special need' OR technology OR 'virtual reality' OR wearable)) OR (title:(child OR infant OR baby OR prenatal OR pregnancy) AND title:('artificial intelligence' OR assess OR assessment OR 'augmented reality' OR autism OR behaviour OR development OR 'eye tracking' OR genetics OR income OR learning OR 'learning environment' OR monitor OR psychotherapy OR 'randomised controlled trials' OR robotics OR 'social media' OR 'social services' OR 'special need' OR technology OR 'virtual reality' OR wearable))&filter=publication_year:2022\",\n",
       " \"https://api.openalex.org/works?search=(abstract:(child OR infant OR baby OR prenatal OR pregnancy) AND abstract:('artificial intelligence' OR assess OR assessment OR 'augmented reality' OR autism OR behaviour OR development OR 'eye tracking' OR genetics OR income OR learning OR 'learning environment' OR monitor OR psychotherapy OR 'randomised controlled trials' OR robotics OR 'social media' OR 'social services' OR 'special need' OR technology OR 'virtual reality' OR wearable)) OR (title:(child OR infant OR baby OR prenatal OR pregnancy) AND title:('artificial intelligence' OR assess OR assessment OR 'augmented reality' OR autism OR behaviour OR development OR 'eye tracking' OR genetics OR income OR learning OR 'learning environment' OR monitor OR psychotherapy OR 'randomised controlled trials' OR robotics OR 'social media' OR 'social services' OR 'special need' OR technology OR 'virtual reality' OR wearable))&filter=publication_year:2023\"]"
      ]
     },
     "execution_count": 2,
     "metadata": {},
     "output_type": "execute_result"
    }
   ],
   "source": [
    "queries = openalex_utils.generate_keyword_queries(API_ROOT, KEYWORDS, YEARS)\n",
    "\n",
    "queries"
   ]
  },
  {
   "cell_type": "code",
   "execution_count": 3,
   "id": "d8553077",
   "metadata": {},
   "outputs": [
    {
     "data": {
      "text/plain": [
       "<Response [200]>"
      ]
     },
     "execution_count": 3,
     "metadata": {},
     "output_type": "execute_result"
    }
   ],
   "source": [
    "result = requests.get(queries[0])\n",
    "# check that a single query runs ok\n",
    "result"
   ]
  },
  {
   "cell_type": "code",
   "execution_count": 4,
   "id": "82ca4bcf",
   "metadata": {},
   "outputs": [
    {
     "name": "stdout",
     "output_type": "stream",
     "text": [
      "2023-11-30 17:07:41,247 - root - INFO - Number of hits: 5330\n",
      "2023-11-30 17:07:41,852 - root - INFO - Number of hits: 3065\n",
      "2023-11-30 17:07:42,460 - root - INFO - Number of hits: 4721\n",
      "2023-11-30 17:07:43,068 - root - INFO - Number of hits: 4764\n",
      "2023-11-30 17:07:43,716 - root - INFO - Number of hits: 3675\n"
     ]
    },
    {
     "data": {
      "text/plain": [
       "21555"
      ]
     },
     "execution_count": 4,
     "metadata": {},
     "output_type": "execute_result"
    }
   ],
   "source": [
    "# find out how many hits we should get for all of the queries\n",
    "total = 0\n",
    "\n",
    "for query in queries:\n",
    "    count = requests.get(query).json()[\"meta\"][\"count\"]\n",
    "    logging.info(f\"Number of hits: {count}\")\n",
    "    total += count\n",
    "    \n",
    "total"
   ]
  },
  {
   "cell_type": "markdown",
   "id": "18eea35a",
   "metadata": {},
   "source": [
    "The metaflow script `pipeline/openalex/openalex_keyword_search.py` runs all of the queries and stores the results on S3. Below, we load the results and do a little bit of EDA."
   ]
  },
  {
   "cell_type": "code",
   "execution_count": 5,
   "id": "0b9d16ab",
   "metadata": {},
   "outputs": [],
   "source": [
    "INPUT_FILES = [\n",
    "    f\"openalex_keywords_True_year-{year}.json\"\n",
    "    for year in YEARS\n",
    "]"
   ]
  },
  {
   "cell_type": "code",
   "execution_count": 6,
   "id": "7cb08ead",
   "metadata": {},
   "outputs": [
    {
     "name": "stdout",
     "output_type": "stream",
     "text": [
      "2023-11-30 17:07:43,741 - botocore.credentials - INFO - Found credentials in environment variables.\n",
      "2023-11-30 17:07:46,110 - root - INFO - Number of works in openalex_keywords_True_year-2019.json: 5305\n",
      "2023-11-30 17:07:47,227 - root - INFO - Number of works in openalex_keywords_True_year-2020.json: 3057\n",
      "2023-11-30 17:07:49,043 - root - INFO - Number of works in openalex_keywords_True_year-2021.json: 4709\n",
      "2023-11-30 17:07:50,979 - root - INFO - Number of works in openalex_keywords_True_year-2022.json: 4745\n",
      "2023-11-30 17:07:52,293 - root - INFO - Number of works in openalex_keywords_True_year-2023.json: 3653\n"
     ]
    },
    {
     "data": {
      "text/plain": [
       "21469"
      ]
     },
     "execution_count": 6,
     "metadata": {},
     "output_type": "execute_result"
    }
   ],
   "source": [
    "openalex_df = openalex_utils.concat_json_files(INPUT_FILES, S3_BUCKET, S3_PATH)\n",
    "\n",
    "len(openalex_df)"
   ]
  },
  {
   "cell_type": "code",
   "execution_count": 7,
   "id": "1b1d3d51",
   "metadata": {},
   "outputs": [],
   "source": [
    "# Retain only works in English\n",
    "openalex_en = openalex_df[openalex_df[\"language\"] == \"en\"]\n",
    "openalex_en = openalex_en[openalex_en[\"abstract_inverted_index\"].notnull()]\n",
    "openalex_en = openalex_en[openalex_en[\"title\"].notnull()]"
   ]
  },
  {
   "cell_type": "code",
   "execution_count": 8,
   "id": "8d77f9ba",
   "metadata": {},
   "outputs": [
    {
     "name": "stderr",
     "output_type": "stream",
     "text": [
      "/Users/rosie.oxbury/Documents/git_repos/discovery_child_development/discovery_child_development/utils/openalex_utils.py:177: SettingWithCopyWarning: \n",
      "A value is trying to be set on a copy of a slice from a DataFrame.\n",
      "Try using .loc[row_indexer,col_indexer] = value instead\n",
      "\n",
      "See the caveats in the documentation: https://pandas.pydata.org/pandas-docs/stable/user_guide/indexing.html#returning-a-view-versus-a-copy\n",
      "  df.loc[:, \"abstract\"] = df[\"abstract_inverted_index\"].apply(\n",
      "/Users/rosie.oxbury/Documents/git_repos/discovery_child_development/discovery_child_development/utils/openalex_utils.py:181: SettingWithCopyWarning: \n",
      "A value is trying to be set on a copy of a slice from a DataFrame.\n",
      "Try using .loc[row_indexer,col_indexer] = value instead\n",
      "\n",
      "See the caveats in the documentation: https://pandas.pydata.org/pandas-docs/stable/user_guide/indexing.html#returning-a-view-versus-a-copy\n",
      "  df.loc[:, \"text\"] = df[\"title\"] + \". \" + df[\"abstract\"]\n"
     ]
    },
    {
     "data": {
      "text/html": [
       "<div>\n",
       "<style scoped>\n",
       "    .dataframe tbody tr th:only-of-type {\n",
       "        vertical-align: middle;\n",
       "    }\n",
       "\n",
       "    .dataframe tbody tr th {\n",
       "        vertical-align: top;\n",
       "    }\n",
       "\n",
       "    .dataframe thead th {\n",
       "        text-align: right;\n",
       "    }\n",
       "</style>\n",
       "<table border=\"1\" class=\"dataframe\">\n",
       "  <thead>\n",
       "    <tr style=\"text-align: right;\">\n",
       "      <th></th>\n",
       "      <th>id</th>\n",
       "      <th>title</th>\n",
       "      <th>abstract</th>\n",
       "      <th>text</th>\n",
       "    </tr>\n",
       "  </thead>\n",
       "  <tbody>\n",
       "    <tr>\n",
       "      <th>0</th>\n",
       "      <td>https://openalex.org/W2992210402</td>\n",
       "      <td>An Artificial Somatic Reflex Arc</td>\n",
       "      <td>Abstract The emulation of human sensation, per...</td>\n",
       "      <td>An Artificial Somatic Reflex Arc. Abstract The...</td>\n",
       "    </tr>\n",
       "    <tr>\n",
       "      <th>1</th>\n",
       "      <td>https://openalex.org/W2899856450</td>\n",
       "      <td>Siri, Siri, in my hand: Who’s the fairest in t...</td>\n",
       "      <td>Artificial intelligence (AI)—defined as a syst...</td>\n",
       "      <td>Siri, Siri, in my hand: Who’s the fairest in t...</td>\n",
       "    </tr>\n",
       "    <tr>\n",
       "      <th>2</th>\n",
       "      <td>https://openalex.org/W2886354130</td>\n",
       "      <td>A systematic review of the smart home literatu...</td>\n",
       "      <td>A smart home is a residence equipped with smar...</td>\n",
       "      <td>A systematic review of the smart home literatu...</td>\n",
       "    </tr>\n",
       "    <tr>\n",
       "      <th>3</th>\n",
       "      <td>https://openalex.org/W2788388592</td>\n",
       "      <td>Continual lifelong learning with neural networ...</td>\n",
       "      <td>Humans and animals have the ability to continu...</td>\n",
       "      <td>Continual lifelong learning with neural networ...</td>\n",
       "    </tr>\n",
       "    <tr>\n",
       "      <th>4</th>\n",
       "      <td>https://openalex.org/W2923238705</td>\n",
       "      <td>The urgent need for microbiology literacy in s...</td>\n",
       "      <td>Microbes and their activities have pervasive, ...</td>\n",
       "      <td>The urgent need for microbiology literacy in s...</td>\n",
       "    </tr>\n",
       "  </tbody>\n",
       "</table>\n",
       "</div>"
      ],
      "text/plain": [
       "                                 id  \\\n",
       "0  https://openalex.org/W2992210402   \n",
       "1  https://openalex.org/W2899856450   \n",
       "2  https://openalex.org/W2886354130   \n",
       "3  https://openalex.org/W2788388592   \n",
       "4  https://openalex.org/W2923238705   \n",
       "\n",
       "                                               title  \\\n",
       "0                   An Artificial Somatic Reflex Arc   \n",
       "1  Siri, Siri, in my hand: Who’s the fairest in t...   \n",
       "2  A systematic review of the smart home literatu...   \n",
       "3  Continual lifelong learning with neural networ...   \n",
       "4  The urgent need for microbiology literacy in s...   \n",
       "\n",
       "                                            abstract  \\\n",
       "0  Abstract The emulation of human sensation, per...   \n",
       "1  Artificial intelligence (AI)—defined as a syst...   \n",
       "2  A smart home is a residence equipped with smar...   \n",
       "3  Humans and animals have the ability to continu...   \n",
       "4  Microbes and their activities have pervasive, ...   \n",
       "\n",
       "                                                text  \n",
       "0  An Artificial Somatic Reflex Arc. Abstract The...  \n",
       "1  Siri, Siri, in my hand: Who’s the fairest in t...  \n",
       "2  A systematic review of the smart home literatu...  \n",
       "3  Continual lifelong learning with neural networ...  \n",
       "4  The urgent need for microbiology literacy in s...  "
      ]
     },
     "execution_count": 8,
     "metadata": {},
     "output_type": "execute_result"
    }
   ],
   "source": [
    "openalex_en_abstracts = openalex_utils.create_text_data(\n",
    "        openalex_en[[\"id\", \"title\", \"abstract_inverted_index\"]]\n",
    "    )\n",
    "\n",
    "openalex_en_abstracts.head()"
   ]
  },
  {
   "cell_type": "code",
   "execution_count": 9,
   "id": "39b1d2b6",
   "metadata": {},
   "outputs": [],
   "source": [
    "openalex_docs = openalex_en_abstracts[\"text\"].tolist()"
   ]
  },
  {
   "cell_type": "code",
   "execution_count": 10,
   "id": "1cbf45d9",
   "metadata": {},
   "outputs": [
    {
     "data": {
      "text/plain": [
       "'Wearables and mobile technologies in Autism Spectrum Disorder interventions: A systematic literature review. Nowadays, in the Internet of Things era, wearables, mobile technologies and enhanced communication and computing capabilities has led to the upsurge of innovative mobile health solutions. Many research efforts have taken place recently in the domain of autism spectrum disorders (ASD). The current paper presents a thorough review of the literature on the use of wearables and mobile technologies for ASD-related interventions. It intends to give insights and guidelines to researchers in order to develop more useful and closer to market products. We searched seven databases for research articles published after 2000. Of 4,722 articles initially retrieved, only 83 papers met the inclusion criteria. Several challenges still exist in the research efforts towards the development of applications exploiting the latest wearables and mobile technologies for ASD interventions: small number of participants in the studies, non-generalizable results, technology considerations, privacy, legal and ethical issues, etc. Subjective assessment is also another significant barrier for further adoption of the developed solutions. The findings support the notion that this is a very promising sector which is expected to undergo an important increase in the coming years. There is a great need for highly customizable solutions. In parallel, researchers should focus on the importance of developing applications for the real world and not only for controlled environments. Further studies employing artificial intelligence and affective computing are needed to support both diagnosis and therapeutic interventions as well.'"
      ]
     },
     "execution_count": 10,
     "metadata": {},
     "output_type": "execute_result"
    }
   ],
   "source": [
    "# check out a random example\n",
    "openalex_docs[10]"
   ]
  },
  {
   "cell_type": "code",
   "execution_count": 11,
   "id": "43e8254d",
   "metadata": {},
   "outputs": [],
   "source": [
    "# t0 = time()\n",
    "# sentence_vectors_384 = model.encode(openalex_docs, show_progress_bar=True)\n",
    "# print(f\"vectorization done in {time() - t0:.3f} s\")"
   ]
  },
  {
   "cell_type": "code",
   "execution_count": 12,
   "id": "bfae698d",
   "metadata": {},
   "outputs": [],
   "source": [
    "# np.save(\"openalex_sentence_vectors_384.npy\", sentence_vectors_384)"
   ]
  },
  {
   "cell_type": "code",
   "execution_count": 13,
   "id": "668dbc1f",
   "metadata": {},
   "outputs": [],
   "source": [
    "sentence_vectors_384 = np.load(\"openalex_sentence_vectors_384.npy\")"
   ]
  },
  {
   "cell_type": "code",
   "execution_count": 14,
   "id": "4b9c1802",
   "metadata": {},
   "outputs": [],
   "source": [
    "umap_params = {\n",
    "    \"n_components\": 50,  # apparently hdbscan does not work very well with more than 50 components\n",
    "    \"n_neighbors\": 10,\n",
    "    \"min_dist\": 0.5,\n",
    "    \"spread\": 0.5,\n",
    "}"
   ]
  },
  {
   "cell_type": "code",
   "execution_count": 15,
   "id": "ee0a14a6",
   "metadata": {},
   "outputs": [
    {
     "name": "stdout",
     "output_type": "stream",
     "text": [
      "2023-11-30 17:07:52,885 - root - INFO - Generating 50-d UMAP embbedings for 16214 vectors\n"
     ]
    },
    {
     "name": "stderr",
     "output_type": "stream",
     "text": [
      "/Users/rosie.oxbury/miniconda3/envs/discovery_child_development/lib/python3.10/site-packages/umap/umap_.py:1943: UserWarning: n_jobs value -1 overridden to 1 by setting random_state. Use no seed for parallelism.\n",
      "  warn(f\"n_jobs value {self.n_jobs} overridden to 1 by setting random_state. Use no seed for parallelism.\")\n"
     ]
    }
   ],
   "source": [
    "# reduce dimensionality of the embeddings\n",
    "sentence_vectors_50 = cluster_analysis_utils.umap_reducer(\n",
    "    sentence_vectors_384, umap_params, random_umap_state=SEED\n",
    ")"
   ]
  },
  {
   "cell_type": "code",
   "execution_count": 16,
   "id": "3f25cb98",
   "metadata": {},
   "outputs": [
    {
     "name": "stdout",
     "output_type": "stream",
     "text": [
      "2023-11-30 17:08:17,193 - root - INFO - Clustering 16214 vectors with K-Means clustering\n"
     ]
    },
    {
     "name": "stderr",
     "output_type": "stream",
     "text": [
      "/Users/rosie.oxbury/miniconda3/envs/discovery_child_development/lib/python3.10/site-packages/sklearn/cluster/_kmeans.py:1416: FutureWarning: The default value of `n_init` will change from 10 to 'auto' in 1.4. Set the value of `n_init` explicitly to suppress the warning\n",
      "  super()._check_params_vs_input(X, default_n_init=10)\n",
      "/Users/rosie.oxbury/miniconda3/envs/discovery_child_development/lib/python3.10/site-packages/threadpoolctl.py:1010: RuntimeWarning: \n",
      "Found Intel OpenMP ('libiomp') and LLVM OpenMP ('libomp') loaded at\n",
      "the same time. Both libraries are known to be incompatible and this\n",
      "can cause random crashes or deadlocks on Linux when loaded in the\n",
      "same Python program.\n",
      "Using threadpoolctl may cause crashes or deadlocks. For more\n",
      "information and possible workarounds, please see\n",
      "    https://github.com/joblib/threadpoolctl/blob/master/multiple_openmp.md\n",
      "\n",
      "  warnings.warn(msg, RuntimeWarning)\n"
     ]
    }
   ],
   "source": [
    "kmeans_labels = cluster_analysis_utils.kmeans_clustering(\n",
    "    sentence_vectors_50, kmeans_params={'init': 'k-means++', 'n_clusters': 20}\n",
    ")"
   ]
  },
  {
   "cell_type": "code",
   "execution_count": 17,
   "id": "d232cdf0",
   "metadata": {},
   "outputs": [
    {
     "name": "stderr",
     "output_type": "stream",
     "text": [
      "/Users/rosie.oxbury/miniconda3/envs/discovery_child_development/lib/python3.10/site-packages/umap/umap_.py:1943: UserWarning: n_jobs value -1 overridden to 1 by setting random_state. Use no seed for parallelism.\n",
      "  warn(f\"n_jobs value {self.n_jobs} overridden to 1 by setting random_state. Use no seed for parallelism.\")\n"
     ]
    }
   ],
   "source": [
    "# Reduce original vectors to 2D for plotting\n",
    "openalex_texts_2d = cluster_analysis_utils.reduce_to_2D(sentence_vectors_384, random_state=SEED)"
   ]
  },
  {
   "cell_type": "code",
   "execution_count": 18,
   "id": "fdc20da5",
   "metadata": {},
   "outputs": [],
   "source": [
    "cluster_df = openalex_en_abstracts.assign(\n",
    "    cluster=kmeans_labels,\n",
    "    x=openalex_texts_2d[:, 0],\n",
    "    y=openalex_texts_2d[:, 1],\n",
    ")"
   ]
  },
  {
   "cell_type": "code",
   "execution_count": 19,
   "id": "8911d7a9",
   "metadata": {},
   "outputs": [],
   "source": [
    "# fig_hdbscan = (\n",
    "#     alt.Chart(\n",
    "#         cluster_df\n",
    "#     )\n",
    "#     .mark_circle()\n",
    "#     .encode(\n",
    "#         x=\"x\",\n",
    "#         y=\"y\",\n",
    "#         color=alt.Color(\"cluster:N\", legend=alt.Legend(title=\"cluster\")),\n",
    "#         tooltip=[\"title\", \"cluster\"],\n",
    "#     )\n",
    "#     .properties(width=800, height=600)\n",
    "#     .interactive()\n",
    "# )\n",
    "\n",
    "# fig_hdbscan"
   ]
  },
  {
   "cell_type": "code",
   "execution_count": 20,
   "id": "029b42e5",
   "metadata": {},
   "outputs": [
    {
     "name": "stdout",
     "output_type": "stream",
     "text": [
      "2023-11-30 17:08:28,432 - root - INFO - Cluster 0: ['Narrative responsibility and artificial intelligence. Abstract Most accounts of responsibility focus on one type of responsibility, moral responsibility, or address one particular aspect of moral resp', 'Techne in Affective Posthumanism and AI Artefacts: More (or Less) than Human?. In affective neuroscience, constructivist models are acutely influenced by the modern technological evolution, which unde', 'Spike Jonze’s Her: How Transhumanism Turns into a Control Mechanism Under the Name of Love. Transhumanism is a philosophy based on the idea of enhancing the physical, intellectual and psychological ca', 'Adapting Ourselves, Instead of the Environment: An Inquiry into Human Enhancement for Function and Beyond. Abstract Technology enables humans not only to adapt their environment to their needs but als', 'Living Machines: Metaphors We Live By. Abstract Within biology and in society, living creatures have long been described using metaphors of machinery and computation: ‘bioengineering’, ‘genes as code’', 'Literary AI: Are We Ready for the Future We Imagine?. This review considers multiple works of speculative fiction depicting artificial intelligence (AI) published over the last several years. Rather t', 'Placebo From an Enactive Perspective. Due to their complexity and variability, placebo effects remain controversial. We suggest this is also due to a set of problematic assumptions (dualism, reduction', 'A Forward-Looking Theory of Content. In this essay, I provide a forward-looking naturalized theory of mental content designed to accommodate predictive processing approaches to the mind, which are gro', 'The Digital Subject: People as Data as Persons. This essay explores the return of the subject in the computational context, which I address as a digital subject. This digital subject encompasses a dig', 'Contributions of Science Fiction to Thinking up (Im)possible Future Societies: Medical Students’ Genetic Imaginary. Science fiction has been an inexhaustible source for the creation of technoscientifi']\n",
      "2023-11-30 17:08:30,868 - httpx - INFO - HTTP Request: POST https://api.openai.com/v1/chat/completions \"HTTP/1.1 200 OK\"\n",
      "2023-11-30 17:08:30,882 - root - INFO - Cluster 1: ['Placebo From an Enactive Perspective. Due to their complexity and variability, placebo effects remain controversial. We suggest this is also due to a set of problematic assumptions (dualism, reduction', 'Adapting Ourselves, Instead of the Environment: An Inquiry into Human Enhancement for Function and Beyond. Abstract Technology enables humans not only to adapt their environment to their needs but als', 'Narrative responsibility and artificial intelligence. Abstract Most accounts of responsibility focus on one type of responsibility, moral responsibility, or address one particular aspect of moral resp', 'A Pharmacological Perspective on Technology-Induced Organised Immaturity: The Care-giving Role of the Arts. Digital technologies induce organised immaturity by generating toxic sociotechnical conditio', 'Techne in Affective Posthumanism and AI Artefacts: More (or Less) than Human?. In affective neuroscience, constructivist models are acutely influenced by the modern technological evolution, which unde', 'What makes AI ‘intelligent’ and ‘caring’? Exploring affect and relationality across three sites of intelligence and care. This paper scrutinises how AI and robotic technologies are transforming the re', 'Virtual Environments for Research into Social Evolution (VERSE): A novel experimental environment for the study of human social learning. 1. Abstract Social learning (learning from others) can be a co', '\"What is Your Envisioned Future?\": Toward Human-AI Enrichment in Data Work of Asthma Care. Patient-generated health data (PGHD) is crucial for healthcare providers\\' decision making, as it complements ', 'Development of a decision-making checklist tool to support technology selection in digital health research. Abstract Digital technologies offer researchers new approaches to test personalized and adap', 'Spike Jonze’s Her: How Transhumanism Turns into a Control Mechanism Under the Name of Love. Transhumanism is a philosophy based on the idea of enhancing the physical, intellectual and psychological ca']\n",
      "2023-11-30 17:08:32,876 - httpx - INFO - HTTP Request: POST https://api.openai.com/v1/chat/completions \"HTTP/1.1 200 OK\"\n",
      "2023-11-30 17:08:32,885 - root - INFO - Cluster 2: ['Adapting Ourselves, Instead of the Environment: An Inquiry into Human Enhancement for Function and Beyond. Abstract Technology enables humans not only to adapt their environment to their needs but als', 'Narrative responsibility and artificial intelligence. Abstract Most accounts of responsibility focus on one type of responsibility, moral responsibility, or address one particular aspect of moral resp', 'Placebo From an Enactive Perspective. Due to their complexity and variability, placebo effects remain controversial. We suggest this is also due to a set of problematic assumptions (dualism, reduction', 'Techne in Affective Posthumanism and AI Artefacts: More (or Less) than Human?. In affective neuroscience, constructivist models are acutely influenced by the modern technological evolution, which unde', '[Essay] The Algorithm; Mind of a Virtual Era – Our Code of Code. As soon as something implicit intrudes consciousness human thought undergoes a radical change. The introduction of any new tool or code', 'Spike Jonze’s Her: How Transhumanism Turns into a Control Mechanism Under the Name of Love. Transhumanism is a philosophy based on the idea of enhancing the physical, intellectual and psychological ca', 'A Pharmacological Perspective on Technology-Induced Organised Immaturity: The Care-giving Role of the Arts. Digital technologies induce organised immaturity by generating toxic sociotechnical conditio', 'Organizational Environment and Innovation. There is a popular notion that the life of innovators and inventors is a glorious and enviable one because they have talents which others do not have, and be', 'Living Machines: Metaphors We Live By. Abstract Within biology and in society, living creatures have long been described using metaphors of machinery and computation: ‘bioengineering’, ‘genes as code’', 'Human Pacemakers and Experiential Reading. This paper applies an embodied perspective to the study of reading and has a two-fold aim: (i) to discuss how reading is best understood in terms of cultural']\n",
      "2023-11-30 17:08:35,053 - httpx - INFO - HTTP Request: POST https://api.openai.com/v1/chat/completions \"HTTP/1.1 200 OK\"\n",
      "2023-11-30 17:08:35,060 - root - INFO - Cluster 3: ['Placebo From an Enactive Perspective. Due to their complexity and variability, placebo effects remain controversial. We suggest this is also due to a set of problematic assumptions (dualism, reduction', 'Adapting Ourselves, Instead of the Environment: An Inquiry into Human Enhancement for Function and Beyond. Abstract Technology enables humans not only to adapt their environment to their needs but als', 'Techne in Affective Posthumanism and AI Artefacts: More (or Less) than Human?. In affective neuroscience, constructivist models are acutely influenced by the modern technological evolution, which unde', 'Narrative responsibility and artificial intelligence. Abstract Most accounts of responsibility focus on one type of responsibility, moral responsibility, or address one particular aspect of moral resp', 'Spike Jonze’s Her: How Transhumanism Turns into a Control Mechanism Under the Name of Love. Transhumanism is a philosophy based on the idea of enhancing the physical, intellectual and psychological ca', 'The development of categorisation and conceptual thinking in early childhood: methods and limitations. Abstract We present a systematic and qualitative review of academic literature on early conceptua', 'Composing Worlds: A Portuguese Transdisciplinary Network in Humanities, Health and Well-Being. The project “Composing worlds: humanities, health and well-being in the 21st century” aims to build a net', 'What is Mental Disorder? Developing an Embodied, Embedded, and Enactive Psychopathology. &lt;p&gt;What we take mental disorder to be has implications for how researchers classify, explain, and treat m', 'A world of difference: The fundamental opposition between transhumanist “welfarism” and disability advocacy. From the standpoint of disability advocacy, further exploration of the concept of well-bein', 'Human Pacemakers and Experiential Reading. This paper applies an embodied perspective to the study of reading and has a two-fold aim: (i) to discuss how reading is best understood in terms of cultural']\n",
      "2023-11-30 17:08:37,118 - httpx - INFO - HTTP Request: POST https://api.openai.com/v1/chat/completions \"HTTP/1.1 200 OK\"\n",
      "2023-11-30 17:08:37,127 - root - INFO - Cluster 4: ['Adapting Ourselves, Instead of the Environment: An Inquiry into Human Enhancement for Function and Beyond. Abstract Technology enables humans not only to adapt their environment to their needs but als', 'Narrative responsibility and artificial intelligence. Abstract Most accounts of responsibility focus on one type of responsibility, moral responsibility, or address one particular aspect of moral resp', 'Placebo From an Enactive Perspective. Due to their complexity and variability, placebo effects remain controversial. We suggest this is also due to a set of problematic assumptions (dualism, reduction', 'Techne in Affective Posthumanism and AI Artefacts: More (or Less) than Human?. In affective neuroscience, constructivist models are acutely influenced by the modern technological evolution, which unde', 'Virtual Environments for Research into Social Evolution (VERSE): A novel experimental environment for the study of human social learning. 1. Abstract Social learning (learning from others) can be a co', 'What makes AI ‘intelligent’ and ‘caring’? Exploring affect and relationality across three sites of intelligence and care. This paper scrutinises how AI and robotic technologies are transforming the re', 'Spike Jonze’s Her: How Transhumanism Turns into a Control Mechanism Under the Name of Love. Transhumanism is a philosophy based on the idea of enhancing the physical, intellectual and psychological ca', '[Essay] The Algorithm; Mind of a Virtual Era – Our Code of Code. As soon as something implicit intrudes consciousness human thought undergoes a radical change. The introduction of any new tool or code', \"Theories of Parenting and Their Application to Artificial Intelligence. As machine learning (ML) systems have advanced, they have acquired more power over humans' lives, and questions about what value\", 'A Pharmacological Perspective on Technology-Induced Organised Immaturity: The Care-giving Role of the Arts. Digital technologies induce organised immaturity by generating toxic sociotechnical conditio']\n",
      "2023-11-30 17:08:39,183 - httpx - INFO - HTTP Request: POST https://api.openai.com/v1/chat/completions \"HTTP/1.1 200 OK\"\n",
      "2023-11-30 17:08:39,189 - root - INFO - Cluster 5: ['Narrative responsibility and artificial intelligence. Abstract Most accounts of responsibility focus on one type of responsibility, moral responsibility, or address one particular aspect of moral resp', 'Placebo From an Enactive Perspective. Due to their complexity and variability, placebo effects remain controversial. We suggest this is also due to a set of problematic assumptions (dualism, reduction', 'Adapting Ourselves, Instead of the Environment: An Inquiry into Human Enhancement for Function and Beyond. Abstract Technology enables humans not only to adapt their environment to their needs but als', 'Techne in Affective Posthumanism and AI Artefacts: More (or Less) than Human?. In affective neuroscience, constructivist models are acutely influenced by the modern technological evolution, which unde', 'Spike Jonze’s Her: How Transhumanism Turns into a Control Mechanism Under the Name of Love. Transhumanism is a philosophy based on the idea of enhancing the physical, intellectual and psychological ca', '[Essay] The Algorithm; Mind of a Virtual Era – Our Code of Code. As soon as something implicit intrudes consciousness human thought undergoes a radical change. The introduction of any new tool or code', 'Living Machines: Metaphors We Live By. Abstract Within biology and in society, living creatures have long been described using metaphors of machinery and computation: ‘bioengineering’, ‘genes as code’', 'Towards Informatic Personhood: understanding contemporary subjects in a data-driven society. This paper explores the relationships of subjects in the context of data and data technologies, and advance', 'Learning rules. Why we learn, what we learn, what the conditions are under which we learn, how the learning happens, and what the answers to these questions imply about how we should teach are the top', 'Virtual Environments for Research into Social Evolution (VERSE): A novel experimental environment for the study of human social learning. 1. Abstract Social learning (learning from others) can be a co']\n",
      "2023-11-30 17:08:41,292 - httpx - INFO - HTTP Request: POST https://api.openai.com/v1/chat/completions \"HTTP/1.1 200 OK\"\n",
      "2023-11-30 17:08:41,301 - root - INFO - Cluster 6: ['Transhumanism, Vulnerability and Human Dignity. The transhumanist movement is much more than a simple utopia, a new school of thought or a fashionable ideology; as a matter of fact, it is a scientific', 'AI: A Semiotic Perspective. Abstract Artificial Intelligence (AI) has become a powerful new form of inquiry unto human cognition that has obvious implications for semiotic theories, practices, and mod', 'Literary AI: Are We Ready for the Future We Imagine?. This review considers multiple works of speculative fiction depicting artificial intelligence (AI) published over the last several years. Rather t', 'Spike Jonze’s Her: How Transhumanism Turns into a Control Mechanism Under the Name of Love. Transhumanism is a philosophy based on the idea of enhancing the physical, intellectual and psychological ca', 'Meaning in Life in AI Ethics—Some Trends and Perspectives. Abstract In this paper, we discuss the relation between recent philosophical discussions about meaning in life (from authors like Susan Wolf,', 'Techne in Affective Posthumanism and AI Artefacts: More (or Less) than Human?. In affective neuroscience, constructivist models are acutely influenced by the modern technological evolution, which unde', 'An Obnoxious Lacuna on Discourses and Counter Discourses Over Artificial Intelligence. Artificial intelligence is the highest form of human development and sound outcome of human conscience till the d', 'No legal personhood for AI. As AI technologies grow to encompass more human-like generative capabilities, discussions have begun regarding how and when AIs may merit moral consideration or even civil ', 'The Picture of Artificial Intelligence and the Secularization of Thought. This article offers a critical interpretation of Artificial Intelligence (AI) as a philosophical notion which exemplifies a se', 'Philosophical Aspects of a Resistance to Artificial Intelligence. Technology in general has been criticised by many philosophers, intellectuals and movements. Some of the arguments are spiritual in na']\n",
      "2023-11-30 17:08:43,628 - httpx - INFO - HTTP Request: POST https://api.openai.com/v1/chat/completions \"HTTP/1.1 200 OK\"\n",
      "2023-11-30 17:08:43,636 - root - INFO - Cluster 7: ['Adapting Ourselves, Instead of the Environment: An Inquiry into Human Enhancement for Function and Beyond. Abstract Technology enables humans not only to adapt their environment to their needs but als', 'Placebo From an Enactive Perspective. Due to their complexity and variability, placebo effects remain controversial. We suggest this is also due to a set of problematic assumptions (dualism, reduction', 'Narrative responsibility and artificial intelligence. Abstract Most accounts of responsibility focus on one type of responsibility, moral responsibility, or address one particular aspect of moral resp', 'Virtual Environments for Research into Social Evolution (VERSE): A novel experimental environment for the study of human social learning. 1. Abstract Social learning (learning from others) can be a co', 'Spike Jonze’s Her: How Transhumanism Turns into a Control Mechanism Under the Name of Love. Transhumanism is a philosophy based on the idea of enhancing the physical, intellectual and psychological ca', '[Essay] The Algorithm; Mind of a Virtual Era – Our Code of Code. As soon as something implicit intrudes consciousness human thought undergoes a radical change. The introduction of any new tool or code', 'What makes AI ‘intelligent’ and ‘caring’? Exploring affect and relationality across three sites of intelligence and care. This paper scrutinises how AI and robotic technologies are transforming the re', 'Analyzing Multimodal Multichannel Data about Self-Regulated Learning with Advanced Learning Technologies: Issues and Challenges. Analyzing multimodal multichannel data about self-regulated learning (S', 'Ambient Assisted Living: Scoping Review of Artificial Intelligence Models, Domains, Technology, and Concerns. Background Ambient assisted living (AAL) is a common name for various artificial intellige', 'Techne in Affective Posthumanism and AI Artefacts: More (or Less) than Human?. In affective neuroscience, constructivist models are acutely influenced by the modern technological evolution, which unde']\n",
      "2023-11-30 17:08:45,911 - httpx - INFO - HTTP Request: POST https://api.openai.com/v1/chat/completions \"HTTP/1.1 200 OK\"\n",
      "2023-11-30 17:08:45,918 - root - INFO - Cluster 8: ['Placebo From an Enactive Perspective. Due to their complexity and variability, placebo effects remain controversial. We suggest this is also due to a set of problematic assumptions (dualism, reduction', 'Narrative responsibility and artificial intelligence. Abstract Most accounts of responsibility focus on one type of responsibility, moral responsibility, or address one particular aspect of moral resp', 'Adapting Ourselves, Instead of the Environment: An Inquiry into Human Enhancement for Function and Beyond. Abstract Technology enables humans not only to adapt their environment to their needs but als', 'Techne in Affective Posthumanism and AI Artefacts: More (or Less) than Human?. In affective neuroscience, constructivist models are acutely influenced by the modern technological evolution, which unde', 'Spike Jonze’s Her: How Transhumanism Turns into a Control Mechanism Under the Name of Love. Transhumanism is a philosophy based on the idea of enhancing the physical, intellectual and psychological ca', 'Living Machines: Metaphors We Live By. Abstract Within biology and in society, living creatures have long been described using metaphors of machinery and computation: ‘bioengineering’, ‘genes as code’', 'Towards Informatic Personhood: understanding contemporary subjects in a data-driven society. This paper explores the relationships of subjects in the context of data and data technologies, and advance', 'A Pharmacological Perspective on Technology-Induced Organised Immaturity: The Care-giving Role of the Arts. Digital technologies induce organised immaturity by generating toxic sociotechnical conditio', 'Literary AI: Are We Ready for the Future We Imagine?. This review considers multiple works of speculative fiction depicting artificial intelligence (AI) published over the last several years. Rather t', 'The Digital Subject: People as Data as Persons. This essay explores the return of the subject in the computational context, which I address as a digital subject. This digital subject encompasses a dig']\n",
      "2023-11-30 17:08:48,190 - httpx - INFO - HTTP Request: POST https://api.openai.com/v1/chat/completions \"HTTP/1.1 200 OK\"\n",
      "2023-11-30 17:08:48,199 - root - INFO - Cluster 9: ['Adapting Ourselves, Instead of the Environment: An Inquiry into Human Enhancement for Function and Beyond. Abstract Technology enables humans not only to adapt their environment to their needs but als', 'Narrative responsibility and artificial intelligence. Abstract Most accounts of responsibility focus on one type of responsibility, moral responsibility, or address one particular aspect of moral resp', 'Placebo From an Enactive Perspective. Due to their complexity and variability, placebo effects remain controversial. We suggest this is also due to a set of problematic assumptions (dualism, reduction', 'Techne in Affective Posthumanism and AI Artefacts: More (or Less) than Human?. In affective neuroscience, constructivist models are acutely influenced by the modern technological evolution, which unde', '[Essay] The Algorithm; Mind of a Virtual Era – Our Code of Code. As soon as something implicit intrudes consciousness human thought undergoes a radical change. The introduction of any new tool or code', 'Spike Jonze’s Her: How Transhumanism Turns into a Control Mechanism Under the Name of Love. Transhumanism is a philosophy based on the idea of enhancing the physical, intellectual and psychological ca', 'Human Pacemakers and Experiential Reading. This paper applies an embodied perspective to the study of reading and has a two-fold aim: (i) to discuss how reading is best understood in terms of cultural', 'Falsified Incompetence and Other Lies the Positivists Told Me. &#x0D; &#x0D; &#x0D; Facilitated Communication (FC) is a technique of supported communication for non- speaking people with motor movemen', 'The Digital Subject: People as Data as Persons. This essay explores the return of the subject in the computational context, which I address as a digital subject. This digital subject encompasses a dig', 'A Pharmacological Perspective on Technology-Induced Organised Immaturity: The Care-giving Role of the Arts. Digital technologies induce organised immaturity by generating toxic sociotechnical conditio']\n",
      "2023-11-30 17:08:50,781 - httpx - INFO - HTTP Request: POST https://api.openai.com/v1/chat/completions \"HTTP/1.1 200 OK\"\n",
      "2023-11-30 17:08:50,789 - root - INFO - Cluster 10: ['Narrative responsibility and artificial intelligence. Abstract Most accounts of responsibility focus on one type of responsibility, moral responsibility, or address one particular aspect of moral resp', 'Adapting Ourselves, Instead of the Environment: An Inquiry into Human Enhancement for Function and Beyond. Abstract Technology enables humans not only to adapt their environment to their needs but als', 'Techne in Affective Posthumanism and AI Artefacts: More (or Less) than Human?. In affective neuroscience, constructivist models are acutely influenced by the modern technological evolution, which unde', 'Placebo From an Enactive Perspective. Due to their complexity and variability, placebo effects remain controversial. We suggest this is also due to a set of problematic assumptions (dualism, reduction', 'Composing Worlds: A Portuguese Transdisciplinary Network in Humanities, Health and Well-Being. The project “Composing worlds: humanities, health and well-being in the 21st century” aims to build a net', 'Spike Jonze’s Her: How Transhumanism Turns into a Control Mechanism Under the Name of Love. Transhumanism is a philosophy based on the idea of enhancing the physical, intellectual and psychological ca', 'Human Pacemakers and Experiential Reading. This paper applies an embodied perspective to the study of reading and has a two-fold aim: (i) to discuss how reading is best understood in terms of cultural', 'Questions concerning attention and Stiegler’s therapeutics. The article sets out to develop the concept of attention as a key aspect to building the possible therapeutics that Bernard Stiegler’s recen', '[Essay] The Algorithm; Mind of a Virtual Era – Our Code of Code. As soon as something implicit intrudes consciousness human thought undergoes a radical change. The introduction of any new tool or code', 'The development of categorisation and conceptual thinking in early childhood: methods and limitations. Abstract We present a systematic and qualitative review of academic literature on early conceptua']\n",
      "2023-11-30 17:08:52,817 - httpx - INFO - HTTP Request: POST https://api.openai.com/v1/chat/completions \"HTTP/1.1 200 OK\"\n",
      "2023-11-30 17:08:52,827 - root - INFO - Cluster 11: ['Placebo From an Enactive Perspective. Due to their complexity and variability, placebo effects remain controversial. We suggest this is also due to a set of problematic assumptions (dualism, reduction', 'Adapting Ourselves, Instead of the Environment: An Inquiry into Human Enhancement for Function and Beyond. Abstract Technology enables humans not only to adapt their environment to their needs but als', 'Narrative responsibility and artificial intelligence. Abstract Most accounts of responsibility focus on one type of responsibility, moral responsibility, or address one particular aspect of moral resp', 'Virtual Environments for Research into Social Evolution (VERSE): A novel experimental environment for the study of human social learning. 1. Abstract Social learning (learning from others) can be a co', 'Analyzing Multimodal Multichannel Data about Self-Regulated Learning with Advanced Learning Technologies: Issues and Challenges. Analyzing multimodal multichannel data about self-regulated learning (S', '[Essay] The Algorithm; Mind of a Virtual Era – Our Code of Code. As soon as something implicit intrudes consciousness human thought undergoes a radical change. The introduction of any new tool or code', 'Perceiving Sociable Technology: Exploring the Role of Anthropomorphism and Agency Perception on Human-Computer Interaction (HCI). With the arrival of personal assistants and other AI-enabled autonomou', 'What makes AI ‘intelligent’ and ‘caring’? Exploring affect and relationality across three sites of intelligence and care. This paper scrutinises how AI and robotic technologies are transforming the re', 'AI: A Semiotic Perspective. Abstract Artificial Intelligence (AI) has become a powerful new form of inquiry unto human cognition that has obvious implications for semiotic theories, practices, and mod', 'Ambient Assisted Living: Scoping Review of Artificial Intelligence Models, Domains, Technology, and Concerns. Background Ambient assisted living (AAL) is a common name for various artificial intellige']\n",
      "2023-11-30 17:08:55,386 - httpx - INFO - HTTP Request: POST https://api.openai.com/v1/chat/completions \"HTTP/1.1 200 OK\"\n",
      "2023-11-30 17:08:55,394 - root - INFO - Cluster 12: ['Placebo From an Enactive Perspective. Due to their complexity and variability, placebo effects remain controversial. We suggest this is also due to a set of problematic assumptions (dualism, reduction', 'Adapting Ourselves, Instead of the Environment: An Inquiry into Human Enhancement for Function and Beyond. Abstract Technology enables humans not only to adapt their environment to their needs but als', 'Techne in Affective Posthumanism and AI Artefacts: More (or Less) than Human?. In affective neuroscience, constructivist models are acutely influenced by the modern technological evolution, which unde', 'Narrative responsibility and artificial intelligence. Abstract Most accounts of responsibility focus on one type of responsibility, moral responsibility, or address one particular aspect of moral resp', 'Spike Jonze’s Her: How Transhumanism Turns into a Control Mechanism Under the Name of Love. Transhumanism is a philosophy based on the idea of enhancing the physical, intellectual and psychological ca', 'Composing Worlds: A Portuguese Transdisciplinary Network in Humanities, Health and Well-Being. The project “Composing worlds: humanities, health and well-being in the 21st century” aims to build a net', '[Essay] The Algorithm; Mind of a Virtual Era – Our Code of Code. As soon as something implicit intrudes consciousness human thought undergoes a radical change. The introduction of any new tool or code', 'Human Pacemakers and Experiential Reading. This paper applies an embodied perspective to the study of reading and has a two-fold aim: (i) to discuss how reading is best understood in terms of cultural', 'A Pharmacological Perspective on Technology-Induced Organised Immaturity: The Care-giving Role of the Arts. Digital technologies induce organised immaturity by generating toxic sociotechnical conditio', 'Falsified Incompetence and Other Lies the Positivists Told Me. &#x0D; &#x0D; &#x0D; Facilitated Communication (FC) is a technique of supported communication for non- speaking people with motor movemen']\n",
      "2023-11-30 17:08:57,808 - httpx - INFO - HTTP Request: POST https://api.openai.com/v1/chat/completions \"HTTP/1.1 200 OK\"\n",
      "2023-11-30 17:08:57,818 - root - INFO - Cluster 13: ['Adapting Ourselves, Instead of the Environment: An Inquiry into Human Enhancement for Function and Beyond. Abstract Technology enables humans not only to adapt their environment to their needs but als', 'Narrative responsibility and artificial intelligence. Abstract Most accounts of responsibility focus on one type of responsibility, moral responsibility, or address one particular aspect of moral resp', 'Placebo From an Enactive Perspective. Due to their complexity and variability, placebo effects remain controversial. We suggest this is also due to a set of problematic assumptions (dualism, reduction', 'Techne in Affective Posthumanism and AI Artefacts: More (or Less) than Human?. In affective neuroscience, constructivist models are acutely influenced by the modern technological evolution, which unde', 'A Pharmacological Perspective on Technology-Induced Organised Immaturity: The Care-giving Role of the Arts. Digital technologies induce organised immaturity by generating toxic sociotechnical conditio', 'Spike Jonze’s Her: How Transhumanism Turns into a Control Mechanism Under the Name of Love. Transhumanism is a philosophy based on the idea of enhancing the physical, intellectual and psychological ca', 'Composing Worlds: A Portuguese Transdisciplinary Network in Humanities, Health and Well-Being. The project “Composing worlds: humanities, health and well-being in the 21st century” aims to build a net', '[Essay] The Algorithm; Mind of a Virtual Era – Our Code of Code. As soon as something implicit intrudes consciousness human thought undergoes a radical change. The introduction of any new tool or code', 'Contributions of Science Fiction to Thinking up (Im)possible Future Societies: Medical Students’ Genetic Imaginary. Science fiction has been an inexhaustible source for the creation of technoscientifi', 'Falsified Incompetence and Other Lies the Positivists Told Me. &#x0D; &#x0D; &#x0D; Facilitated Communication (FC) is a technique of supported communication for non- speaking people with motor movemen']\n",
      "2023-11-30 17:08:59,926 - httpx - INFO - HTTP Request: POST https://api.openai.com/v1/chat/completions \"HTTP/1.1 200 OK\"\n",
      "2023-11-30 17:08:59,931 - root - INFO - Cluster 14: ['Placebo From an Enactive Perspective. Due to their complexity and variability, placebo effects remain controversial. We suggest this is also due to a set of problematic assumptions (dualism, reduction', 'Adapting Ourselves, Instead of the Environment: An Inquiry into Human Enhancement for Function and Beyond. Abstract Technology enables humans not only to adapt their environment to their needs but als', 'Narrative responsibility and artificial intelligence. Abstract Most accounts of responsibility focus on one type of responsibility, moral responsibility, or address one particular aspect of moral resp', 'The development of categorisation and conceptual thinking in early childhood: methods and limitations. Abstract We present a systematic and qualitative review of academic literature on early conceptua', '[Essay] The Algorithm; Mind of a Virtual Era – Our Code of Code. As soon as something implicit intrudes consciousness human thought undergoes a radical change. The introduction of any new tool or code', 'Towards Informatic Personhood: understanding contemporary subjects in a data-driven society. This paper explores the relationships of subjects in the context of data and data technologies, and advance', 'Virtual Environments for Research into Social Evolution (VERSE): A novel experimental environment for the study of human social learning. 1. Abstract Social learning (learning from others) can be a co', 'Analyzing Multimodal Multichannel Data about Self-Regulated Learning with Advanced Learning Technologies: Issues and Challenges. Analyzing multimodal multichannel data about self-regulated learning (S', 'Perceiving Sociable Technology: Exploring the Role of Anthropomorphism and Agency Perception on Human-Computer Interaction (HCI). With the arrival of personal assistants and other AI-enabled autonomou', 'Human Pacemakers and Experiential Reading. This paper applies an embodied perspective to the study of reading and has a two-fold aim: (i) to discuss how reading is best understood in terms of cultural']\n",
      "2023-11-30 17:09:02,246 - httpx - INFO - HTTP Request: POST https://api.openai.com/v1/chat/completions \"HTTP/1.1 200 OK\"\n",
      "2023-11-30 17:09:02,251 - root - INFO - Cluster 15: ['Adapting Ourselves, Instead of the Environment: An Inquiry into Human Enhancement for Function and Beyond. Abstract Technology enables humans not only to adapt their environment to their needs but als', 'Narrative responsibility and artificial intelligence. Abstract Most accounts of responsibility focus on one type of responsibility, moral responsibility, or address one particular aspect of moral resp', 'Techne in Affective Posthumanism and AI Artefacts: More (or Less) than Human?. In affective neuroscience, constructivist models are acutely influenced by the modern technological evolution, which unde', 'Placebo From an Enactive Perspective. Due to their complexity and variability, placebo effects remain controversial. We suggest this is also due to a set of problematic assumptions (dualism, reduction', 'Spike Jonze’s Her: How Transhumanism Turns into a Control Mechanism Under the Name of Love. Transhumanism is a philosophy based on the idea of enhancing the physical, intellectual and psychological ca', '[Essay] The Algorithm; Mind of a Virtual Era – Our Code of Code. As soon as something implicit intrudes consciousness human thought undergoes a radical change. The introduction of any new tool or code', 'Literary AI: Are We Ready for the Future We Imagine?. This review considers multiple works of speculative fiction depicting artificial intelligence (AI) published over the last several years. Rather t', 'Towards Informatic Personhood: understanding contemporary subjects in a data-driven society. This paper explores the relationships of subjects in the context of data and data technologies, and advance', 'AI: A Semiotic Perspective. Abstract Artificial Intelligence (AI) has become a powerful new form of inquiry unto human cognition that has obvious implications for semiotic theories, practices, and mod', 'Contributions of Science Fiction to Thinking up (Im)possible Future Societies: Medical Students’ Genetic Imaginary. Science fiction has been an inexhaustible source for the creation of technoscientifi']\n",
      "2023-11-30 17:09:03,716 - httpx - INFO - HTTP Request: POST https://api.openai.com/v1/chat/completions \"HTTP/1.1 200 OK\"\n",
      "2023-11-30 17:09:03,721 - root - INFO - Cluster 16: ['Narrative responsibility and artificial intelligence. Abstract Most accounts of responsibility focus on one type of responsibility, moral responsibility, or address one particular aspect of moral resp', 'Placebo From an Enactive Perspective. Due to their complexity and variability, placebo effects remain controversial. We suggest this is also due to a set of problematic assumptions (dualism, reduction', 'Adapting Ourselves, Instead of the Environment: An Inquiry into Human Enhancement for Function and Beyond. Abstract Technology enables humans not only to adapt their environment to their needs but als', 'What makes AI ‘intelligent’ and ‘caring’? Exploring affect and relationality across three sites of intelligence and care. This paper scrutinises how AI and robotic technologies are transforming the re', 'Analyzing Multimodal Multichannel Data about Self-Regulated Learning with Advanced Learning Technologies: Issues and Challenges. Analyzing multimodal multichannel data about self-regulated learning (S', '\"What is Your Envisioned Future?\": Toward Human-AI Enrichment in Data Work of Asthma Care. Patient-generated health data (PGHD) is crucial for healthcare providers\\' decision making, as it complements ', 'On the Contribution of Neuroethics to the Ethics and Regulation of Artificial Intelligence. Abstract Contemporary ethical analysis of Artificial Intelligence (AI) is growing rapidly. One of its most r', 'Spike Jonze’s Her: How Transhumanism Turns into a Control Mechanism Under the Name of Love. Transhumanism is a philosophy based on the idea of enhancing the physical, intellectual and psychological ca', 'Learning rules. Why we learn, what we learn, what the conditions are under which we learn, how the learning happens, and what the answers to these questions imply about how we should teach are the top', 'Towards Informatic Personhood: understanding contemporary subjects in a data-driven society. This paper explores the relationships of subjects in the context of data and data technologies, and advance']\n",
      "2023-11-30 17:09:05,566 - httpx - INFO - HTTP Request: POST https://api.openai.com/v1/chat/completions \"HTTP/1.1 200 OK\"\n",
      "2023-11-30 17:09:05,572 - root - INFO - Cluster 17: ['Placebo From an Enactive Perspective. Due to their complexity and variability, placebo effects remain controversial. We suggest this is also due to a set of problematic assumptions (dualism, reduction', 'Adapting Ourselves, Instead of the Environment: An Inquiry into Human Enhancement for Function and Beyond. Abstract Technology enables humans not only to adapt their environment to their needs but als', 'Narrative responsibility and artificial intelligence. Abstract Most accounts of responsibility focus on one type of responsibility, moral responsibility, or address one particular aspect of moral resp', 'The development of categorisation and conceptual thinking in early childhood: methods and limitations. Abstract We present a systematic and qualitative review of academic literature on early conceptua', 'Techne in Affective Posthumanism and AI Artefacts: More (or Less) than Human?. In affective neuroscience, constructivist models are acutely influenced by the modern technological evolution, which unde', 'Human Pacemakers and Experiential Reading. This paper applies an embodied perspective to the study of reading and has a two-fold aim: (i) to discuss how reading is best understood in terms of cultural', 'Falsified Incompetence and Other Lies the Positivists Told Me. &#x0D; &#x0D; &#x0D; Facilitated Communication (FC) is a technique of supported communication for non- speaking people with motor movemen', 'Beyond Playing 20 Questions with Nature: Integrative Experiment Design in the Social and Behavioral Sciences. The dominant paradigm of experiments in the social and behavioral sciences views an experi', 'Learning rules. Why we learn, what we learn, what the conditions are under which we learn, how the learning happens, and what the answers to these questions imply about how we should teach are the top', 'Organizational Environment and Innovation. There is a popular notion that the life of innovators and inventors is a glorious and enviable one because they have talents which others do not have, and be']\n",
      "2023-11-30 17:09:07,635 - httpx - INFO - HTTP Request: POST https://api.openai.com/v1/chat/completions \"HTTP/1.1 200 OK\"\n",
      "2023-11-30 17:09:07,640 - root - INFO - Cluster 18: ['Adapting Ourselves, Instead of the Environment: An Inquiry into Human Enhancement for Function and Beyond. Abstract Technology enables humans not only to adapt their environment to their needs but als', 'Placebo From an Enactive Perspective. Due to their complexity and variability, placebo effects remain controversial. We suggest this is also due to a set of problematic assumptions (dualism, reduction', 'Spike Jonze’s Her: How Transhumanism Turns into a Control Mechanism Under the Name of Love. Transhumanism is a philosophy based on the idea of enhancing the physical, intellectual and psychological ca', 'Narrative responsibility and artificial intelligence. Abstract Most accounts of responsibility focus on one type of responsibility, moral responsibility, or address one particular aspect of moral resp', 'Techne in Affective Posthumanism and AI Artefacts: More (or Less) than Human?. In affective neuroscience, constructivist models are acutely influenced by the modern technological evolution, which unde', 'Human Pacemakers and Experiential Reading. This paper applies an embodied perspective to the study of reading and has a two-fold aim: (i) to discuss how reading is best understood in terms of cultural', '[Essay] The Algorithm; Mind of a Virtual Era – Our Code of Code. As soon as something implicit intrudes consciousness human thought undergoes a radical change. The introduction of any new tool or code', 'A Pharmacological Perspective on Technology-Induced Organised Immaturity: The Care-giving Role of the Arts. Digital technologies induce organised immaturity by generating toxic sociotechnical conditio', 'Questions concerning attention and Stiegler’s therapeutics. The article sets out to develop the concept of attention as a key aspect to building the possible therapeutics that Bernard Stiegler’s recen', 'The development of categorisation and conceptual thinking in early childhood: methods and limitations. Abstract We present a systematic and qualitative review of academic literature on early conceptua']\n",
      "2023-11-30 17:09:09,115 - httpx - INFO - HTTP Request: POST https://api.openai.com/v1/chat/completions \"HTTP/1.1 200 OK\"\n",
      "2023-11-30 17:09:09,120 - root - INFO - Cluster 19: ['Narrative responsibility and artificial intelligence. Abstract Most accounts of responsibility focus on one type of responsibility, moral responsibility, or address one particular aspect of moral resp', 'Spike Jonze’s Her: How Transhumanism Turns into a Control Mechanism Under the Name of Love. Transhumanism is a philosophy based on the idea of enhancing the physical, intellectual and psychological ca', 'Adapting Ourselves, Instead of the Environment: An Inquiry into Human Enhancement for Function and Beyond. Abstract Technology enables humans not only to adapt their environment to their needs but als', 'Techne in Affective Posthumanism and AI Artefacts: More (or Less) than Human?. In affective neuroscience, constructivist models are acutely influenced by the modern technological evolution, which unde', 'Literary AI: Are We Ready for the Future We Imagine?. This review considers multiple works of speculative fiction depicting artificial intelligence (AI) published over the last several years. Rather t', 'The Digital Subject: People as Data as Persons. This essay explores the return of the subject in the computational context, which I address as a digital subject. This digital subject encompasses a dig', 'A Pharmacological Perspective on Technology-Induced Organised Immaturity: The Care-giving Role of the Arts. Digital technologies induce organised immaturity by generating toxic sociotechnical conditio', 'Contributions of Science Fiction to Thinking up (Im)possible Future Societies: Medical Students’ Genetic Imaginary. Science fiction has been an inexhaustible source for the creation of technoscientifi', 'From the body to language: life and mind in literature and film from the Modernist Era to the present. My dissertation focuses on the ways in which twentieth-century literature intersects with theorie', 'Placebo From an Enactive Perspective. Due to their complexity and variability, placebo effects remain controversial. We suggest this is also due to a set of problematic assumptions (dualism, reduction']\n",
      "2023-11-30 17:09:11,389 - httpx - INFO - HTTP Request: POST https://api.openai.com/v1/chat/completions \"HTTP/1.1 200 OK\"\n"
     ]
    }
   ],
   "source": [
    "CLUSTER_SUMMARY_MESSAGE = \"Here are the most central texts of a cluster. \\\n",
    "Summarise what texts in this cluster are about in 2 sentences. \\\n",
    "\\n\\n##Abstracts\\n\\n {} \\n\\n##Description (2 short sentences)\"\n",
    "\n",
    "cluster_descriptions = cluster_analysis_utils.describe_clusters_with_gpt(\n",
    "    cluster_df=cluster_df,\n",
    "    embeddings=sentence_vectors_384,\n",
    "    n_central=10,\n",
    "    gpt_message=CLUSTER_SUMMARY_MESSAGE,\n",
    ")"
   ]
  },
  {
   "cell_type": "code",
   "execution_count": null,
   "metadata": {},
   "outputs": [],
   "source": [
    "cluster_descriptions"
   ]
  },
  {
   "cell_type": "code",
   "execution_count": null,
   "id": "983c9313",
   "metadata": {},
   "outputs": [],
   "source": [
    "cluster_names_dict = cluster_analysis_utils.generate_cluster_names_with_gpt(\n",
    "    cluster_descriptions=cluster_descriptions,\n",
    ")"
   ]
  },
  {
   "cell_type": "code",
   "execution_count": null,
   "id": "e4313493",
   "metadata": {},
   "outputs": [],
   "source": [
    "cluster_names_dict"
   ]
  }
 ],
 "metadata": {
  "jupytext": {
   "cell_metadata_filter": "-all",
   "comment_magics": true,
   "notebook_metadata_filter": "-all"
  },
  "kernelspec": {
   "display_name": "discovery_child_development",
   "language": "python",
   "name": "discovery_child_development"
  },
  "language_info": {
   "codemirror_mode": {
    "name": "ipython",
    "version": 3
   },
   "file_extension": ".py",
   "mimetype": "text/x-python",
   "name": "python",
   "nbconvert_exporter": "python",
   "pygments_lexer": "ipython3",
   "version": "3.10.13"
  }
 },
 "nbformat": 4,
 "nbformat_minor": 5
}
