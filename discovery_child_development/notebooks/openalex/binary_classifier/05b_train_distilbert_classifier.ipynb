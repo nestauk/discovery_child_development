{
 "cells": [
  {
   "cell_type": "markdown",
   "metadata": {},
   "source": [
    "# Testing HuggingFace DistilBERT model"
   ]
  },
  {
   "cell_type": "markdown",
   "metadata": {},
   "source": [
    "## 1. Import packages"
   ]
  },
  {
   "cell_type": "code",
   "execution_count": null,
   "id": "2c7673bf",
   "metadata": {},
   "outputs": [],
   "source": [
    "import wandb\n",
    "import numpy as np\n",
    "import argparse\n",
    "from datasets import Value, Sequence\n",
    "from nesta_ds_utils.loading_saving import S3\n",
    "from discovery_child_development.getters.binary_classifier.embeddings_hugging_face import (\n",
    "    get_embeddings,\n",
    ")\n",
    "from discovery_child_development.getters.binary_classifier.prompts_edge_cases import get_examples\n",
    "from discovery_child_development.utils.huggingface_pipeline import (\n",
    "    load_model,\n",
    "    load_training_args,\n",
    "    load_trainer,\n",
    "    saving_huggingface_model\n",
    ")\n",
    "from discovery_child_development.utils import wandb as wb\n",
    "from discovery_child_development.utils import classification_utils\n",
    "from discovery_child_development.utils.testing_examples_utils import testing_examples_huggingface\n",
    "from discovery_child_development import (\n",
    "    logging,\n",
    "    S3_BUCKET,\n",
    "    config,\n",
    "    binary_config,\n",
    "    PROJECT_DIR\n",
    ")"
   ]
  },
  {
   "cell_type": "markdown",
   "metadata": {},
   "source": [
    "## 2. Setting parameters"
   ]
  },
  {
   "cell_type": "code",
   "execution_count": null,
   "id": "ecbcbf1a",
   "metadata": {},
   "outputs": [],
   "source": [
    "# Set up\n",
    "S3_PATH = \"models/binary_classifier/\"\n",
    "SEED = config[\"seed\"]\n",
    "NUM_SAMPLES = config[\"embedding_sample_size\"]\n",
    "# Set the seed\n",
    "np.random.seed(SEED)"
   ]
  },
  {
   "cell_type": "code",
   "execution_count": null,
   "metadata": {},
   "outputs": [],
   "source": [
    "#PARAMS\n",
    "identifier = \"50\"\n",
    "wandb_run = False\n",
    "save_model = False\n",
    "production = False"
   ]
  },
  {
   "cell_type": "markdown",
   "metadata": {},
   "source": [
    "## 3. Load data"
   ]
  },
  {
   "cell_type": "code",
   "execution_count": null,
   "metadata": {},
   "outputs": [],
   "source": [
    "# Loading the training and validation embeddings\n",
    "embeddings_training = get_embeddings(\n",
    "    identifier=identifier, production=production, set_type=\"train\"\n",
    ")\n",
    "embeddings_validation = get_embeddings(\n",
    "    identifier=identifier, production=production, set_type=\"validation\"\n",
    ")"
   ]
  },
  {
   "cell_type": "code",
   "execution_count": null,
   "metadata": {},
   "outputs": [],
   "source": [
    "examples = get_examples()"
   ]
  },
  {
   "cell_type": "markdown",
   "metadata": {},
   "source": [
    "## 4. Training the model"
   ]
  },
  {
   "cell_type": "code",
   "execution_count": null,
   "metadata": {},
   "outputs": [],
   "source": [
    "if wandb_run:\n",
    "    print(\"Logging in wandb\")\n",
    "    run = wandb.init(\n",
    "        project=\"ISS supervised ML\",\n",
    "        job_type=\"Binary classifier - huggingface\",\n",
    "        save_code=True,\n",
    "        tags=[\"huggingface\", \"binary_classifier\", \"sentence_embeddings\"],\n",
    "    )"
   ]
  },
  {
   "cell_type": "code",
   "execution_count": null,
   "id": "8a2201b5",
   "metadata": {},
   "outputs": [],
   "source": [
    "# Load the model\n",
    "model = load_model(config=binary_config, num_labels=2)\n",
    "\n",
    "# Train model with early stopping\n",
    "training_args = load_training_args(output_dir=S3_PATH, config=binary_config)\n",
    "trainer = load_trainer(\n",
    "    model=model,\n",
    "    args=training_args,\n",
    "    train_dataset=embeddings_training,\n",
    "    eval_dataset=embeddings_validation,\n",
    "    config=binary_config,\n",
    ")\n",
    "trainer.train()"
   ]
  },
  {
   "cell_type": "markdown",
   "metadata": {},
   "source": [
    "## 5. Evaluating the model"
   ]
  },
  {
   "cell_type": "code",
   "execution_count": null,
   "metadata": {},
   "outputs": [],
   "source": [
    "# Evaluate model\n",
    "trainer.evaluate()\n",
    "\n",
    "# View f1, prediction, recall and accuracy of predictions on validation set\n",
    "model_predictions = trainer.predict(embeddings_validation)"
   ]
  },
  {
   "cell_type": "code",
   "execution_count": null,
   "metadata": {},
   "outputs": [],
   "source": [
    "model_predictions.metrics"
   ]
  },
  {
   "cell_type": "code",
   "execution_count": null,
   "metadata": {},
   "outputs": [],
   "source": [
    "predictions = np.argmax(model_predictions.predictions, axis=-1)\n",
    "labels = model_predictions.label_ids.ravel().tolist()\n",
    "# Creating confusion matrix\n",
    "confusion_matrix = classification_utils.plot_confusion_matrix(\n",
    "    labels, predictions, None, \"Relevant works\"\n",
    ")"
   ]
  },
  {
   "cell_type": "code",
   "execution_count": null,
   "metadata": {},
   "outputs": [],
   "source": [
    "# Saving the model and logging to wandb\n",
    "if save_model:\n",
    "    # Save model to S3\n",
    "    SAVE_TRAINING_RESULTS_PATH = PROJECT_DIR / \"outputs/data/models/\"\n",
    "    saving_huggingface_model(trainer, \n",
    "                             f\"binary_classifier_distilbert_{identifier}_production_{production}\", \n",
    "                             save_path=SAVE_TRAINING_RESULTS_PATH, \n",
    "                             s3_path=S3_PATH)"
   ]
  },
  {
   "cell_type": "code",
   "execution_count": null,
   "metadata": {},
   "outputs": [],
   "source": [
    "if wandb_run:\n",
    "    # Log metrics\n",
    "    wandb.run.summary[\"f1\"] = model_predictions.metrics[\"test_f1\"]\n",
    "    wandb.run.summary[\"accuracy\"] = model_predictions.metrics[\"test_accuracy\"]\n",
    "    wandb.run.summary[\"precision\"] = model_predictions.metrics[\"test_precision\"]\n",
    "    wandb.run.summary[\"recall\"] = model_predictions.metrics[\"test_recall\"]\n",
    "\n",
    "    # Adding reference to this model in wandb\n",
    "    wb.add_ref_to_data(\n",
    "        run=run,\n",
    "        name=f\"binary_classifier_{model}_\" + identifier,\n",
    "        description=f\"{model} model trained on binary classifier training data\",\n",
    "        bucket=S3_BUCKET,\n",
    "        filepath=f\"{S3_PATH}binary_classifier_{model}_{identifier}.pkl\",\n",
    "    )\n",
    "\n",
    "    # Log confusion matrix\n",
    "    wb_confusion_matrix = wandb.Table(\n",
    "        data=confusion_matrix, columns=confusion_matrix.columns\n",
    "    )\n",
    "    run.log({\"confusion_matrix\": wb_confusion_matrix})\n",
    "\n",
    "    # End the weights and biases run\n",
    "    wandb.finish()"
   ]
  },
  {
   "cell_type": "markdown",
   "metadata": {},
   "source": [
    "## 6. Trialing some examples"
   ]
  },
  {
   "cell_type": "code",
   "execution_count": null,
   "metadata": {},
   "outputs": [],
   "source": [
    "# Removing Not-specified\n",
    "examples = examples.query(\"labels!='Not specified'\")\n",
    "examples.tail()"
   ]
  },
  {
   "cell_type": "code",
   "execution_count": null,
   "metadata": {},
   "outputs": [],
   "source": [
    "testing_examples_huggingface(trainer,examples, binary_config)"
   ]
  }
 ],
 "metadata": {
  "jupytext": {
   "cell_metadata_filter": "-all",
   "comment_magics": true,
   "main_language": "python",
   "notebook_metadata_filter": "-all"
  },
  "kernelspec": {
   "display_name": "discovery_child_development",
   "language": "python",
   "name": "python3"
  },
  "language_info": {
   "codemirror_mode": {
    "name": "ipython",
    "version": 3
   },
   "file_extension": ".py",
   "mimetype": "text/x-python",
   "name": "python",
   "nbconvert_exporter": "python",
   "pygments_lexer": "ipython3",
   "version": "3.10.13"
  }
 },
 "nbformat": 4,
 "nbformat_minor": 5
}
