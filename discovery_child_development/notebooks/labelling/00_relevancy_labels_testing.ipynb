{
 "cells": [
  {
   "cell_type": "markdown",
   "metadata": {},
   "source": [
    "# Labelling relevant vs non-relevant data\n",
    "\n",
    "- Load the data\n",
    "- Define prompt\n",
    "- OpenAI function calling\n",
    "- Save the labels in a standard format\n",
    "- Keep track of data that's already labelled\n",
    "\n",
    "Open questions:\n",
    "- Shall we re-do the labelling at least twice to compare the results?\n",
    "- Alternatively, can shuffle the order of different categories to remove some bias"
   ]
  },
  {
   "cell_type": "code",
   "execution_count": 6,
   "metadata": {},
   "outputs": [],
   "source": [
    "from discovery_child_development.utils.openai_utils import client\n",
    "import json\n",
    "import random\n",
    "\n",
    "def create_category_description_string(categories: dict, randomise: bool=False) -> str:\n",
    "    \"\"\"Create the category descriptions for the prompt\n",
    "    \n",
    "    Args:\n",
    "        categories (Dict): The categories, in the format {category: description}\n",
    "        randomise (bool, optional): Whether to randomise the order of the categories. Defaults to False.\n",
    "\n",
    "    Returns:\n",
    "        str: The category descriptions with each category and description in a new line\n",
    "    \"\"\"\n",
    "    category_descriptions = \"\"\n",
    "    all_categories = list(categories.keys())\n",
    "    if randomise:\n",
    "        all_categories = random.sample(all_categories, len(all_categories))\n",
    "    # randomise the order categories so that the order is not always the same\n",
    "    for category in all_categories:\n",
    "        category_descriptions += f\"{category}: {categories[category]}\\n\"\n",
    "    return category_descriptions"
   ]
  },
  {
   "cell_type": "code",
   "execution_count": 7,
   "metadata": {},
   "outputs": [],
   "source": [
    "# Test texts\n",
    "texts = [\n",
    "    # relevant\n",
    "    \"A fun activity for babies aged 3-6 months to help development and language learning. Try blowing bubbles with your baby and see how they react. Talk to them about what they're seeing.\",\n",
    "    # non-relevant (child is too old)\n",
    "    \"A fun activity for 6 year old children to help development and language learning. Try blowing bubbles with your child and see how they react. Talk to them about what they're seeing.\",\n",
    "    # non-relevant (non human)\n",
    "    \"A fun activity for a piglet to help development and learning. Try blowing bubbles with your little one and see how they react. Talk to them.\",\n",
    "    # unclear (age not specified)\n",
    "    \"A fun activity for a child to help development and learning. Try blowing bubbles and see how they react. Talk to them.\",\n",
    "]\n",
    "\n",
    "category_descriptions = {\n",
    "    \"Relevant\": \"Text that describes an innovation, technology or aspect related to human child development and developmental needs, where the child is between 0 and 5 years old (including 5 year olds). If the age is not specified, texts about infants, babies, toddlers or preschool are also relevant.\",\n",
    "    \"Non-relevant\": \"Text about any other topic than child development, or if the children are too old (older than 5 years old and/or already going to school), or if the text is about non-human children.\",\n",
    "    \"Unclear\": \"Text that is about human child development and developmental needs, but the age of the children has not been explicitly specified.\"\n",
    "}\n",
    "\n",
    "categories = list(category_descriptions.keys())\n",
    "n_categories = len(categories)"
   ]
  },
  {
   "cell_type": "code",
   "execution_count": 3,
   "metadata": {},
   "outputs": [
    {
     "name": "stdout",
     "output_type": "stream",
     "text": [
      "Relevant: Text that describes an innovation, technology or aspect related to human child development and developmental needs, where the child is between 0 and 5 years old (including 5 year olds). If the age is not specified, texts about infants, babies, toddlers or preschool are also relevant.\n",
      "Non-relevant: Text about any other topic than child development, or if the children are too old (older than 5 years old and/or already going to school), or if the text is about non-human children.\n",
      "Unclear: Text that is about human child development and developmental needs, but the age of the children has not been explicitly specified.\n",
      "\n"
     ]
    }
   ],
   "source": [
    "print(create_category_description_string(category_descriptions))"
   ]
  },
  {
   "cell_type": "code",
   "execution_count": 4,
   "metadata": {},
   "outputs": [],
   "source": [
    "function = {\n",
    "    \"name\": \"predict_relevance\",\n",
    "    \"description\": \"Predict the relevance of a given text\",\n",
    "    \"parameters\": {\n",
    "           \"type\": \"object\",\n",
    "           \"properties\": {\n",
    "                  \"prediction\": {\n",
    "                         \"type\": \"string\",\n",
    "                         \"enum\": [\"Relevant\", \"Non-relevant\", \"Unclear\"],\n",
    "                         \"description\": \"The predicted relevance of the given text. Infer this from the provided relevance criteria.\"\n",
    "                  }\n",
    "             },\n",
    "             \"required\": [\"prediction\"]\n",
    "    }\n",
    "}\n"
   ]
  },
  {
   "cell_type": "code",
   "execution_count": 5,
   "metadata": {},
   "outputs": [],
   "source": [
    "text = texts[3]\n",
    "prompt = {\"role\": \"user\", \"content\": f\"###Relevance criteria###\\nTexts can be categorised in the following {n_categories} categories.\\n{create_category_description_string(category_descriptions)}\\n\\n###Instructions###\\nCategorise the following text to one relevance category.\\n{text}\\n\"}\n"
   ]
  },
  {
   "cell_type": "code",
   "execution_count": 8,
   "metadata": {},
   "outputs": [
    {
     "name": "stdout",
     "output_type": "stream",
     "text": [
      "2023-11-29 13:04:24,263 - httpx - INFO - HTTP Request: POST https://api.openai.com/v1/chat/completions \"HTTP/1.1 200 OK\"\n"
     ]
    }
   ],
   "source": [
    "r = client.chat.completions.create(\n",
    "   model=\"gpt-4\",\n",
    "   temperature=0.0,\n",
    "   messages=[prompt],\n",
    "   functions=[function],\n",
    "   function_call={\"name\": \"predict_relevance\"},\n",
    ")"
   ]
  },
  {
   "cell_type": "code",
   "execution_count": 18,
   "metadata": {},
   "outputs": [
    {
     "data": {
      "text/plain": [
       "{'prediction': 'Unclear'}"
      ]
     },
     "execution_count": 18,
     "metadata": {},
     "output_type": "execute_result"
    }
   ],
   "source": [
    "json.loads(r.choices[0].message.function_call.arguments)"
   ]
  },
  {
   "cell_type": "code",
   "execution_count": 9,
   "metadata": {},
   "outputs": [
    {
     "data": {
      "text/html": [
       "<div>\n",
       "<style scoped>\n",
       "    .dataframe tbody tr th:only-of-type {\n",
       "        vertical-align: middle;\n",
       "    }\n",
       "\n",
       "    .dataframe tbody tr th {\n",
       "        vertical-align: top;\n",
       "    }\n",
       "\n",
       "    .dataframe thead th {\n",
       "        text-align: right;\n",
       "    }\n",
       "</style>\n",
       "<table border=\"1\" class=\"dataframe\">\n",
       "  <thead>\n",
       "    <tr style=\"text-align: right;\">\n",
       "      <th></th>\n",
       "      <th>prediction</th>\n",
       "      <th>id</th>\n",
       "      <th>source</th>\n",
       "      <th>model</th>\n",
       "      <th>timestamp</th>\n",
       "      <th>text</th>\n",
       "    </tr>\n",
       "  </thead>\n",
       "  <tbody>\n",
       "    <tr>\n",
       "      <th>0</th>\n",
       "      <td>Relevant</td>\n",
       "      <td>https://openalex.org/W3214165237</td>\n",
       "      <td>openalex</td>\n",
       "      <td>gpt-4-1106-preview</td>\n",
       "      <td>20231231000000</td>\n",
       "      <td>Parenting Contributions to Latinx Children’s D...</td>\n",
       "    </tr>\n",
       "    <tr>\n",
       "      <th>1</th>\n",
       "      <td>Not-relevant</td>\n",
       "      <td>https://openalex.org/W4205457572</td>\n",
       "      <td>openalex</td>\n",
       "      <td>gpt-4-1106-preview</td>\n",
       "      <td>20231231000000</td>\n",
       "      <td>Vitamin D Reduces Covid-19 Mortality and Serio...</td>\n",
       "    </tr>\n",
       "    <tr>\n",
       "      <th>2</th>\n",
       "      <td>Not-specified</td>\n",
       "      <td>https://openalex.org/W4285223789</td>\n",
       "      <td>openalex</td>\n",
       "      <td>gpt-4-1106-preview</td>\n",
       "      <td>20231231000000</td>\n",
       "      <td>Child development and artistic development in ...</td>\n",
       "    </tr>\n",
       "    <tr>\n",
       "      <th>3</th>\n",
       "      <td>Relevant</td>\n",
       "      <td>https://openalex.org/W3156698247</td>\n",
       "      <td>openalex</td>\n",
       "      <td>gpt-4-1106-preview</td>\n",
       "      <td>20231231000000</td>\n",
       "      <td>Changes in the social-emotional functioning of...</td>\n",
       "    </tr>\n",
       "    <tr>\n",
       "      <th>4</th>\n",
       "      <td>Relevant</td>\n",
       "      <td>https://openalex.org/W3213749934</td>\n",
       "      <td>openalex</td>\n",
       "      <td>gpt-4-1106-preview</td>\n",
       "      <td>20231231000000</td>\n",
       "      <td>Child Protection Measures as a Legal Instrumen...</td>\n",
       "    </tr>\n",
       "  </tbody>\n",
       "</table>\n",
       "</div>"
      ],
      "text/plain": [
       "      prediction                                id    source  \\\n",
       "0       Relevant  https://openalex.org/W3214165237  openalex   \n",
       "1   Not-relevant  https://openalex.org/W4205457572  openalex   \n",
       "2  Not-specified  https://openalex.org/W4285223789  openalex   \n",
       "3       Relevant  https://openalex.org/W3156698247  openalex   \n",
       "4       Relevant  https://openalex.org/W3213749934  openalex   \n",
       "\n",
       "                model       timestamp  \\\n",
       "0  gpt-4-1106-preview  20231231000000   \n",
       "1  gpt-4-1106-preview  20231231000000   \n",
       "2  gpt-4-1106-preview  20231231000000   \n",
       "3  gpt-4-1106-preview  20231231000000   \n",
       "4  gpt-4-1106-preview  20231231000000   \n",
       "\n",
       "                                                text  \n",
       "0  Parenting Contributions to Latinx Children’s D...  \n",
       "1  Vitamin D Reduces Covid-19 Mortality and Serio...  \n",
       "2  Child development and artistic development in ...  \n",
       "3  Changes in the social-emotional functioning of...  \n",
       "4  Child Protection Measures as a Legal Instrumen...  "
      ]
     },
     "execution_count": 9,
     "metadata": {},
     "output_type": "execute_result"
    }
   ],
   "source": [
    "import pandas as pd\n",
    "df = (\n",
    "    pd.read_csv(\"relevance_labels.csv\")\n",
    "    .drop(columns=[\"Unnamed: 0\"])\n",
    "    .astype({\"timestamp\": str})\n",
    ")\n",
    "df.head()"
   ]
  },
  {
   "cell_type": "code",
   "execution_count": 10,
   "metadata": {},
   "outputs": [],
   "source": [
    "import json\n",
    "# save as as a jsonl file\n",
    "dicts = df.to_dict(orient=\"records\")\n",
    "with open(\"relevance_labels.jsonl\", \"w\") as f:\n",
    "    for d in dicts:\n",
    "        json.dump(d, f)\n",
    "        f.write(\"\\n\")"
   ]
  },
  {
   "cell_type": "code",
   "execution_count": 15,
   "metadata": {},
   "outputs": [
    {
     "data": {
      "text/html": [
       "<div>\n",
       "<style scoped>\n",
       "    .dataframe tbody tr th:only-of-type {\n",
       "        vertical-align: middle;\n",
       "    }\n",
       "\n",
       "    .dataframe tbody tr th {\n",
       "        vertical-align: top;\n",
       "    }\n",
       "\n",
       "    .dataframe thead th {\n",
       "        text-align: right;\n",
       "    }\n",
       "</style>\n",
       "<table border=\"1\" class=\"dataframe\">\n",
       "  <thead>\n",
       "    <tr style=\"text-align: right;\">\n",
       "      <th></th>\n",
       "      <th>prediction</th>\n",
       "      <th>id</th>\n",
       "      <th>source</th>\n",
       "      <th>model</th>\n",
       "      <th>timestamp</th>\n",
       "      <th>text</th>\n",
       "    </tr>\n",
       "  </thead>\n",
       "  <tbody>\n",
       "    <tr>\n",
       "      <th>2116</th>\n",
       "      <td>Not-specified</td>\n",
       "      <td>CN-216418200-U</td>\n",
       "      <td>patents</td>\n",
       "      <td>gpt-4-1106-preview</td>\n",
       "      <td>20240104181548</td>\n",
       "      <td>A kind of rehabilitation physical training ins...</td>\n",
       "    </tr>\n",
       "    <tr>\n",
       "      <th>2117</th>\n",
       "      <td>Not-specified</td>\n",
       "      <td>https://openalex.org/W4384627278</td>\n",
       "      <td>openalex</td>\n",
       "      <td>gpt-4-1106-preview</td>\n",
       "      <td>20240105104801</td>\n",
       "      <td>Back to Actual Behavior – A Modest Proposal on...</td>\n",
       "    </tr>\n",
       "    <tr>\n",
       "      <th>2118</th>\n",
       "      <td>Not-relevant</td>\n",
       "      <td>https://openalex.org/W2969279225</td>\n",
       "      <td>openalex</td>\n",
       "      <td>gpt-4-1106-preview</td>\n",
       "      <td>20240105104801</td>\n",
       "      <td>Fertility Preservation Using GnRH Agonists: Ra...</td>\n",
       "    </tr>\n",
       "    <tr>\n",
       "      <th>2119</th>\n",
       "      <td>Not-relevant</td>\n",
       "      <td>https://openalex.org/W4249457706</td>\n",
       "      <td>openalex</td>\n",
       "      <td>gpt-4-1106-preview</td>\n",
       "      <td>20240105104801</td>\n",
       "      <td>A framework for professional learning and deve...</td>\n",
       "    </tr>\n",
       "    <tr>\n",
       "      <th>2120</th>\n",
       "      <td>Not-relevant</td>\n",
       "      <td>https://openalex.org/W3156141421</td>\n",
       "      <td>openalex</td>\n",
       "      <td>gpt-4-1106-preview</td>\n",
       "      <td>20240105104802</td>\n",
       "      <td>The roles of noninvasive mechanical ventilatio...</td>\n",
       "    </tr>\n",
       "    <tr>\n",
       "      <th>2121</th>\n",
       "      <td>Relevant</td>\n",
       "      <td>https://openalex.org/W4200308700</td>\n",
       "      <td>openalex</td>\n",
       "      <td>gpt-4-1106-preview</td>\n",
       "      <td>20240105104802</td>\n",
       "      <td>Parents’ Attitudes Toward Domestic Violence as...</td>\n",
       "    </tr>\n",
       "  </tbody>\n",
       "</table>\n",
       "</div>"
      ],
      "text/plain": [
       "         prediction                                id    source  \\\n",
       "2116  Not-specified                    CN-216418200-U   patents   \n",
       "2117  Not-specified  https://openalex.org/W4384627278  openalex   \n",
       "2118   Not-relevant  https://openalex.org/W2969279225  openalex   \n",
       "2119   Not-relevant  https://openalex.org/W4249457706  openalex   \n",
       "2120   Not-relevant  https://openalex.org/W3156141421  openalex   \n",
       "2121       Relevant  https://openalex.org/W4200308700  openalex   \n",
       "\n",
       "                   model       timestamp  \\\n",
       "2116  gpt-4-1106-preview  20240104181548   \n",
       "2117  gpt-4-1106-preview  20240105104801   \n",
       "2118  gpt-4-1106-preview  20240105104801   \n",
       "2119  gpt-4-1106-preview  20240105104801   \n",
       "2120  gpt-4-1106-preview  20240105104802   \n",
       "2121  gpt-4-1106-preview  20240105104802   \n",
       "\n",
       "                                                   text  \n",
       "2116  A kind of rehabilitation physical training ins...  \n",
       "2117  Back to Actual Behavior – A Modest Proposal on...  \n",
       "2118  Fertility Preservation Using GnRH Agonists: Ra...  \n",
       "2119  A framework for professional learning and deve...  \n",
       "2120  The roles of noninvasive mechanical ventilatio...  \n",
       "2121  Parents’ Attitudes Toward Domestic Violence as...  "
      ]
     },
     "execution_count": 15,
     "metadata": {},
     "output_type": "execute_result"
    }
   ],
   "source": [
    "from discovery_child_development.utils.utils import load_jsonl\n",
    "\n",
    "data = load_jsonl(\"relevance_labels.jsonl\")\n",
    "pd.DataFrame(data).tail(6)"
   ]
  }
 ],
 "metadata": {
  "kernelspec": {
   "display_name": "discovery_child_development",
   "language": "python",
   "name": "python3"
  },
  "language_info": {
   "codemirror_mode": {
    "name": "ipython",
    "version": 3
   },
   "file_extension": ".py",
   "mimetype": "text/x-python",
   "name": "python",
   "nbconvert_exporter": "python",
   "pygments_lexer": "ipython3",
   "version": "3.10.13"
  }
 },
 "nbformat": 4,
 "nbformat_minor": 2
}
