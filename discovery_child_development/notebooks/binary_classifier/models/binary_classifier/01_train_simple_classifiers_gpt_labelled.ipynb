{
 "cells": [
  {
   "cell_type": "markdown",
   "metadata": {},
   "source": [
    "# Testing Simple Classifiers"
   ]
  },
  {
   "cell_type": "markdown",
   "id": "269159e4",
   "metadata": {},
   "source": [
    "The goal of this notebook is to train simple classifiers on the gpt-labelled openalex/patents and then test them on further data. We will use the following classifiers:\n",
    "\n",
    "* Logistic Regression\n",
    "* K-Nearest Neighbors\n",
    "* Random Forest\n",
    "* SGD Classifier\n",
    "* Support Vector Machine\n",
    "\n",
    "The embeddings are generated using the \"all-MiniLM-L6-v2\" sentence-transformer model. \n",
    "\n",
    "The equivalent refactored file resides in pipeline/models/binary_classifier. This notebook is for testing purposes only."
   ]
  },
  {
   "cell_type": "markdown",
   "metadata": {},
   "source": [
    "## 1. Import packages"
   ]
  },
  {
   "cell_type": "code",
   "execution_count": 1,
   "id": "71f9e0e3",
   "metadata": {},
   "outputs": [],
   "source": [
    "# Import packages\n",
    "from dotenv import load_dotenv\n",
    "import numpy as np\n",
    "import pandas as pd\n",
    "from sklearn.ensemble import RandomForestClassifier\n",
    "from sklearn.linear_model import LogisticRegression\n",
    "from sklearn.linear_model import SGDClassifier\n",
    "from sklearn.neighbors import KNeighborsClassifier\n",
    "from sklearn.svm import LinearSVC\n",
    "import wandb"
   ]
  },
  {
   "cell_type": "code",
   "execution_count": 18,
   "id": "f4cca70f",
   "metadata": {},
   "outputs": [],
   "source": [
    "## Nesta DS utils\n",
    "from nesta_ds_utils.loading_saving import S3\n",
    "from discovery_child_development.utils.jsonl_utils import load_jsonl\n",
    "import json"
   ]
  },
  {
   "cell_type": "code",
   "execution_count": 3,
   "id": "3826ba76",
   "metadata": {},
   "outputs": [
    {
     "name": "stderr",
     "output_type": "stream",
     "text": [
      "/opt/homebrew/Caskroom/miniconda/base/envs/discovery_child_development/lib/python3.10/site-packages/tqdm/auto.py:21: TqdmWarning: IProgress not found. Please update jupyter and ipywidgets. See https://ipywidgets.readthedocs.io/en/stable/user_install.html\n",
      "  from .autonotebook import tqdm as notebook_tqdm\n"
     ]
    },
    {
     "name": "stdout",
     "output_type": "stream",
     "text": [
      "2024-02-29 11:57:53,766 - botocore.credentials - INFO - Found credentials in environment variables.\n",
      "2024-02-29 11:57:54,230 - datasets - INFO - PyTorch version 2.1.2 available.\n"
     ]
    }
   ],
   "source": [
    "## Import from project\n",
    "from discovery_child_development import PROJECT_DIR, logging, config, S3_BUCKET\n",
    "from discovery_child_development.utils import classification_utils\n",
    "from discovery_child_development.utils.general_utils import replace_binary_labels\n",
    "from discovery_child_development.getters.binary_classifier.gpt_labelled_datasets import (\n",
    "    get_labelled_data_for_classifier,\n",
    ")\n",
    "from discovery_child_development.getters.openalex import get_sentence_embeddings\n",
    "from discovery_child_development.getters.binary_classifier.prompts_edge_cases import get_examples\n",
    "from discovery_child_development.utils.testing_examples_utils import testing_examples_simple\n",
    "from discovery_child_development.utils.general_utils import replace_binary_labels\n",
    "from discovery_child_development.utils import wandb as wb"
   ]
  },
  {
   "cell_type": "code",
   "execution_count": 4,
   "id": "52c7ac36",
   "metadata": {},
   "outputs": [
    {
     "data": {
      "text/plain": [
       "True"
      ]
     },
     "execution_count": 4,
     "metadata": {},
     "output_type": "execute_result"
    }
   ],
   "source": [
    "load_dotenv()"
   ]
  },
  {
   "cell_type": "markdown",
   "metadata": {},
   "source": [
    "## 2. Setting parameters"
   ]
  },
  {
   "cell_type": "code",
   "execution_count": 8,
   "id": "8d77c014",
   "metadata": {},
   "outputs": [],
   "source": [
    "MODEL_PATH = PROJECT_DIR / \"outputs/models/taxonomy_cat/binary\"\n",
    "MODEL_PATH.mkdir(parents=True, exist_ok=True)\n",
    "S3_PATH = \"models/taxonomy_cat/binary/\"\n",
    "\n",
    "PATH_FROM = \"data/labels/binary_classifier/processed/\"\n",
    "VECTORS_PATH = \"data/outputs/vectors/\"\n",
    "VECTORS_FILE = \"sentence_vectors_384_labelled.parquet\""
   ]
  },
  {
   "cell_type": "code",
   "execution_count": 20,
   "metadata": {},
   "outputs": [],
   "source": [
    "LABELS_DIR = PROJECT_DIR / 'outputs/labels/taxonomy_cat'\n",
    "PATH_TO_TOPICS = PROJECT_DIR / \"discovery_child_development/pipeline/labelling/taxonomy_cat/prompts/topics.json\"\n",
    "\n",
    "EVALS_DIR = PROJECT_DIR / 'outputs/labels/evals_data'\n",
    "LABELS_TAXONOMY = EVALS_DIR / \"taxonomy_labels_eval_annotated.jsonl\""
   ]
  },
  {
   "cell_type": "code",
   "execution_count": 79,
   "id": "14cce8cd",
   "metadata": {},
   "outputs": [],
   "source": [
    "# Setting the seed\n",
    "SEED = config[\"seed\"]\n",
    "np.random.seed(SEED)"
   ]
  },
  {
   "cell_type": "code",
   "execution_count": 80,
   "metadata": {},
   "outputs": [],
   "source": [
    "#PARAMS\n",
    "wandb_run = False\n",
    "save_model = False"
   ]
  },
  {
   "cell_type": "code",
   "execution_count": 81,
   "metadata": {},
   "outputs": [],
   "source": [
    "def get_taxonomy_data(path: str):\n",
    "    return (\n",
    "        pd.DataFrame(load_jsonl(path))\n",
    "        .assign(correct = lambda df: df['answer'] == 'accept')\n",
    "        )"
   ]
  },
  {
   "cell_type": "code",
   "execution_count": 229,
   "metadata": {},
   "outputs": [],
   "source": [
    "# Embeddings from all-MiniLM-L6-v2\n",
    "embeddings_all = (\n",
    "    get_sentence_embeddings(\n",
    "        s3_bucket=S3_BUCKET, filepath=VECTORS_PATH, filename=VECTORS_FILE, id=\"id\",\n",
    "    )\n",
    "    .reset_index()\n",
    "    .assign(id=lambda df: df['id'].apply(lambda x: x.split('/')[-1]))\n",
    "    # restore index\n",
    "    .set_index(\"id\")\n",
    ")"
   ]
  },
  {
   "cell_type": "code",
   "execution_count": 230,
   "metadata": {},
   "outputs": [
    {
     "data": {
      "text/plain": [
       "51234"
      ]
     },
     "execution_count": 230,
     "metadata": {},
     "output_type": "execute_result"
    }
   ],
   "source": [
    "len(embeddings_all)"
   ]
  },
  {
   "cell_type": "markdown",
   "metadata": {},
   "source": [
    "## 3. Load data"
   ]
  },
  {
   "cell_type": "code",
   "execution_count": 370,
   "metadata": {},
   "outputs": [],
   "source": [
    "# topic = \"ai2\"\n",
    "# topic = \"ar_vr\"\n",
    "# topic = \"income\"\n",
    "# topic = \"parenting\"\n",
    "topic = \"mobile\""
   ]
  },
  {
   "cell_type": "code",
   "execution_count": 374,
   "metadata": {},
   "outputs": [],
   "source": [
    "topics = json.load(open(PATH_TO_TOPICS, 'r'))\n",
    "topic_info = topics[topic]\n",
    "topic_name = topic_info['name']\n",
    "\n",
    "eval_df = (\n",
    "    get_taxonomy_data(LABELS_TAXONOMY)\n",
    "    .query(\"prediction == @topic_name\")\n",
    "    .drop(columns=[\"prediction\"])\n",
    "    .rename(columns={\"answer\": \"prediction\"})\n",
    "    .assign(prediction=lambda df: df.prediction.map({\"reject\": \"Not-relevant\", \"accept\": \"Relevant\"}))    \n",
    ")[['id', 'prediction', 'text']]\n",
    "\n",
    "labels_df = (\n",
    "    pd.DataFrame(load_jsonl(LABELS_DIR / f\"taxonomy_cat_{topic}.jsonl\"))\n",
    "    .assign(id = lambda df: df['id'].apply(lambda x: x.split('/')[-1]))\n",
    "    .query(\"id not in @eval_df.id\")\n",
    "    .rename(columns={\"prediction\": \"labels\"})\n",
    ")[['id', 'labels', 'text']]"
   ]
  },
  {
   "cell_type": "code",
   "execution_count": 375,
   "metadata": {},
   "outputs": [],
   "source": [
    "# labels_df"
   ]
  },
  {
   "cell_type": "code",
   "execution_count": 376,
   "metadata": {},
   "outputs": [],
   "source": [
    "# eval_df.merge(labels_df, on=\"id\", how=\"left\").query(\"labels != prediction\")[['id','prediction', 'labels', 'text_x']]"
   ]
  },
  {
   "cell_type": "code",
   "execution_count": 377,
   "metadata": {},
   "outputs": [],
   "source": [
    "# # Train-test split\n",
    "labelled_text_training = labels_df.sample(frac=0.8, random_state=0)\n",
    "labelled_text_validation = labels_df.drop(labelled_text_training.index)"
   ]
  },
  {
   "cell_type": "code",
   "execution_count": 378,
   "id": "08f67d56",
   "metadata": {},
   "outputs": [],
   "source": [
    "# labelled_text_training = get_labelled_data_for_classifier(\n",
    "#         set_type=\"train\", path_from=PATH_FROM\n",
    "# )\n",
    "# labelled_text_validation = get_labelled_data_for_classifier(\n",
    "#         set_type=\"validation\", path_from=PATH_FROM\n",
    "# )"
   ]
  },
  {
   "cell_type": "code",
   "execution_count": 379,
   "metadata": {},
   "outputs": [],
   "source": [
    "# examples = get_examples()"
   ]
  },
  {
   "cell_type": "markdown",
   "metadata": {},
   "source": [
    "## 4. Setting up training and validation sets"
   ]
  },
  {
   "cell_type": "code",
   "execution_count": 380,
   "id": "1c6f2463",
   "metadata": {},
   "outputs": [],
   "source": [
    "# Create training and validation sets\n",
    "training_set = labelled_text_training.merge(embeddings_all, on=\"id\", how=\"left\")\n",
    "validation_set = labelled_text_validation.merge(embeddings_all, on=\"id\", how=\"left\")\n",
    "training_set = replace_binary_labels(training_set, replace_cat=[\"Relevant\",\"Not-relevant\"]).dropna(subset=[\"miniLM_384_vector\"])\n",
    "validation_set = replace_binary_labels(validation_set, replace_cat=[\"Relevant\",\"Not-relevant\"]).dropna(subset=[\"miniLM_384_vector\"])\n",
    "\n",
    "# Setting up the training and validation sets\n",
    "X_train = training_set[\"miniLM_384_vector\"].apply(pd.Series).values\n",
    "X_val = validation_set[\"miniLM_384_vector\"].apply(pd.Series).values\n",
    "\n",
    "Y_train = training_set[\"labels\"]\n",
    "Y_val = validation_set[\"labels\"]"
   ]
  },
  {
   "cell_type": "code",
   "execution_count": 381,
   "metadata": {},
   "outputs": [
    {
     "data": {
      "text/plain": [
       "(799, 200)"
      ]
     },
     "execution_count": 381,
     "metadata": {},
     "output_type": "execute_result"
    }
   ],
   "source": [
    "len(X_train), len(X_val)"
   ]
  },
  {
   "cell_type": "markdown",
   "metadata": {},
   "source": [
    "## 5. Training and evaluating the models"
   ]
  },
  {
   "cell_type": "code",
   "execution_count": 382,
   "metadata": {},
   "outputs": [
    {
     "name": "stdout",
     "output_type": "stream",
     "text": [
      "2024-02-29 17:49:13,262 - root - INFO - Metrics for log_regression model:\n",
      "2024-02-29 17:49:13,272 - root - INFO - {'accuracy': 0.83, 'precision': 0.65, 'recall': 0.325, 'f1': 0.43333333333333335, 'hamming': 0.17, 'jaccard': 0.2765957446808511}\n",
      "2024-02-29 17:49:13,277 - root - INFO - ------\n"
     ]
    },
    {
     "name": "stdout",
     "output_type": "stream",
     "text": [
      "2024-02-29 17:49:13,331 - root - INFO - Metrics for knn model:\n",
      "2024-02-29 17:49:13,334 - root - INFO - {'accuracy': 0.76, 'precision': 0.4, 'recall': 0.4, 'f1': 0.4, 'hamming': 0.24, 'jaccard': 0.25}\n",
      "2024-02-29 17:49:13,342 - root - INFO - ------\n",
      "2024-02-29 17:49:14,042 - root - INFO - Metrics for random_forest model:\n",
      "2024-02-29 17:49:14,042 - root - INFO - {'accuracy': 0.825, 'precision': 0.7777777777777778, 'recall': 0.175, 'f1': 0.2857142857142857, 'hamming': 0.175, 'jaccard': 0.16666666666666666}\n",
      "2024-02-29 17:49:14,042 - root - INFO - ------\n",
      "2024-02-29 17:49:14,059 - root - INFO - Metrics for sgd model:\n",
      "2024-02-29 17:49:14,064 - root - INFO - {'accuracy': 0.735, 'precision': 0.3968253968253968, 'recall': 0.625, 'f1': 0.4854368932038835, 'hamming': 0.265, 'jaccard': 0.32051282051282054}\n",
      "2024-02-29 17:49:14,068 - root - INFO - ------\n",
      "2024-02-29 17:49:14,110 - root - INFO - Metrics for svm model:\n",
      "2024-02-29 17:49:14,111 - root - INFO - {'accuracy': 0.785, 'precision': 0.45454545454545453, 'recall': 0.375, 'f1': 0.410958904109589, 'hamming': 0.215, 'jaccard': 0.25862068965517243}\n",
      "2024-02-29 17:49:14,112 - root - INFO - ------\n"
     ]
    },
    {
     "name": "stderr",
     "output_type": "stream",
     "text": [
      "/opt/homebrew/Caskroom/miniconda/base/envs/discovery_child_development/lib/python3.10/site-packages/sklearn/svm/_classes.py:31: FutureWarning: The default value of `dual` will change from `True` to `'auto'` in 1.5. Set the value of `dual` explicitly to suppress the warning.\n",
      "  warnings.warn(\n"
     ]
    }
   ],
   "source": [
    "models_simple = [\"log_regression\", \"knn\", \"random_forest\", \"sgd\", \"svm\"]\n",
    "if not save_model:\n",
    "    models_all = {}\n",
    "for model in models_simple:\n",
    "    # Initialise wandb run\n",
    "    if wandb_run:\n",
    "        # Initialize a wandb run\n",
    "        run = wandb.init(\n",
    "            project=\"ISS supervised ML\",\n",
    "            job_type=\"Binary classifier - base models\",\n",
    "            save_code=True,\n",
    "            tags=[\"gpt-labelled\", \"all-MiniLM-L6-v2\", model, \"openealex/patents\"],\n",
    "        )\n",
    "        # Add reference to this data in wandb\n",
    "        wb.add_ref_to_data(\n",
    "            run=run,\n",
    "            name=\"binary_train_data_raw\",\n",
    "            description=f\"Binary classifier training data\",\n",
    "            bucket=S3_BUCKET,\n",
    "            filepath=f\"{PATH_FROM}gpt_labelled_train.csv\",\n",
    "        )\n",
    "        \n",
    "    # Creating the classifier\n",
    "    if model == \"log_regression\":\n",
    "        classifier = LogisticRegression(penalty=\"l2\", random_state=SEED)\n",
    "    elif model == \"knn\":\n",
    "        classifier = KNeighborsClassifier()\n",
    "    elif model == \"random_forest\":\n",
    "        classifier = RandomForestClassifier(random_state=SEED)\n",
    "    elif model == \"sgd\":\n",
    "        classifier = SGDClassifier(random_state=SEED)\n",
    "    elif model == \"svm\":\n",
    "        classifier = LinearSVC(random_state=SEED)\n",
    "\n",
    "    # Fitting the model\n",
    "    classifier.fit(X_train, Y_train)\n",
    "    # Predicting on the validation set\n",
    "    predictions = classifier.predict(X_val)\n",
    "\n",
    "    # Creating metrics\n",
    "    metrics = classification_utils.create_average_metrics(\n",
    "    Y_val, predictions, average=\"binary\"\n",
    "    )\n",
    "    logging.info(f\"Metrics for {model} model:\")\n",
    "    logging.info(metrics)\n",
    "    logging.info(f\"------\")\n",
    "\n",
    "    if save_model:\n",
    "        # Save model to S3\n",
    "        S3.upload_obj(\n",
    "        obj=classifier,\n",
    "        bucket=S3_BUCKET,\n",
    "        path_to=f\"{S3_PATH}gpt_labelled_binary_classifier_{model}.pkl\",\n",
    "        )\n",
    "    else:\n",
    "        models_all[model] = classifier\n",
    "\n",
    "    if wandb_run:\n",
    "        # Log metrics\n",
    "        wandb.run.summary[\"f1\"] = metrics[\"f1\"]\n",
    "        wandb.run.summary[\"accuracy\"] = metrics[\"accuracy\"]\n",
    "        wandb.run.summary[\"precision\"] = metrics[\"precision\"]\n",
    "        wandb.run.summary[\"recall\"] = metrics[\"recall\"]\n",
    "\n",
    "        # Adding reference to this model in wandb\n",
    "        wb.add_ref_to_data(\n",
    "            run=run,\n",
    "            name=f\"binary_classifier_{model}\",\n",
    "            description=f\"{model} model trained on binary classifier training data\",\n",
    "            bucket=S3_BUCKET,\n",
    "            filepath=f\"{S3_PATH}gpt_labelled_binary_classifier_{model}.pkl\",\n",
    "        )\n",
    "\n",
    "        # End the weights and biases run\n",
    "        wandb.finish()"
   ]
  },
  {
   "cell_type": "markdown",
   "metadata": {},
   "source": [
    "## 6. Trialing some examples"
   ]
  },
  {
   "cell_type": "code",
   "execution_count": 341,
   "metadata": {},
   "outputs": [
    {
     "data": {
      "text/html": [
       "<div>\n",
       "<style scoped>\n",
       "    .dataframe tbody tr th:only-of-type {\n",
       "        vertical-align: middle;\n",
       "    }\n",
       "\n",
       "    .dataframe tbody tr th {\n",
       "        vertical-align: top;\n",
       "    }\n",
       "\n",
       "    .dataframe thead th {\n",
       "        text-align: right;\n",
       "    }\n",
       "</style>\n",
       "<table border=\"1\" class=\"dataframe\">\n",
       "  <thead>\n",
       "    <tr style=\"text-align: right;\">\n",
       "      <th></th>\n",
       "      <th>id</th>\n",
       "      <th>labels</th>\n",
       "      <th>text</th>\n",
       "    </tr>\n",
       "  </thead>\n",
       "  <tbody>\n",
       "    <tr>\n",
       "      <th>449</th>\n",
       "      <td>W4248651340</td>\n",
       "      <td>1</td>\n",
       "      <td>Class Inequality in Parental Childcare Time: Evidence from Synthetic Couples in the ATUS. The time that parents spend teaching and playing with their young children has important consequences for ...</td>\n",
       "    </tr>\n",
       "    <tr>\n",
       "      <th>455</th>\n",
       "      <td>W4235825001</td>\n",
       "      <td>0</td>\n",
       "      <td>He Tatau Pounamu. Considerations for an early childhood peace curriculum focusing on criticality, indigeneity, and an ethic of care, in Aotearoa New Zealand. This article discusses some of the phi...</td>\n",
       "    </tr>\n",
       "    <tr>\n",
       "      <th>459</th>\n",
       "      <td>W2946468075</td>\n",
       "      <td>0</td>\n",
       "      <td>The prevalence of premature thelarche in girls and gynecomastia in boys and the associated factors in children in Southern China. To investigate the prevalence and risk factors of premature thelar...</td>\n",
       "    </tr>\n",
       "    <tr>\n",
       "      <th>460</th>\n",
       "      <td>W4311597343</td>\n",
       "      <td>1</td>\n",
       "      <td>A genealogical study of the emergence of kindergartens in Iran: an intersectional approach. There are histories describing in detail the development of early childhood education (ECE) around the w...</td>\n",
       "    </tr>\n",
       "    <tr>\n",
       "      <th>461</th>\n",
       "      <td>W3109647903</td>\n",
       "      <td>1</td>\n",
       "      <td>Relationship between mother’s knowledge and behaviour with oral health status of early childhood. Introduction: Early childhood period has a high caries risk that needs special attention from pare...</td>\n",
       "    </tr>\n",
       "  </tbody>\n",
       "</table>\n",
       "</div>"
      ],
      "text/plain": [
       "              id  labels  \\\n",
       "449  W4248651340       1   \n",
       "455  W4235825001       0   \n",
       "459  W2946468075       0   \n",
       "460  W4311597343       1   \n",
       "461  W3109647903       1   \n",
       "\n",
       "                                                                                                                                                                                                        text  \n",
       "449  Class Inequality in Parental Childcare Time: Evidence from Synthetic Couples in the ATUS. The time that parents spend teaching and playing with their young children has important consequences for ...  \n",
       "455  He Tatau Pounamu. Considerations for an early childhood peace curriculum focusing on criticality, indigeneity, and an ethic of care, in Aotearoa New Zealand. This article discusses some of the phi...  \n",
       "459  The prevalence of premature thelarche in girls and gynecomastia in boys and the associated factors in children in Southern China. To investigate the prevalence and risk factors of premature thelar...  \n",
       "460  A genealogical study of the emergence of kindergartens in Iran: an intersectional approach. There are histories describing in detail the development of early childhood education (ECE) around the w...  \n",
       "461  Relationship between mother’s knowledge and behaviour with oral health status of early childhood. Introduction: Early childhood period has a high caries risk that needs special attention from pare...  "
      ]
     },
     "execution_count": 341,
     "metadata": {},
     "output_type": "execute_result"
    }
   ],
   "source": [
    "# # Removing Not-specified\n",
    "examples = eval_df.rename(columns={\"prediction\": \"labels\"})\n",
    "examples = replace_binary_labels(examples, replace_cat=[\"Relevant\",\"Not-relevant\"])\n",
    "examples.tail()"
   ]
  },
  {
   "cell_type": "code",
   "execution_count": 361,
   "metadata": {},
   "outputs": [
    {
     "name": "stdout",
     "output_type": "stream",
     "text": [
      "2024-02-29 17:46:57,470 - sentence_transformers.SentenceTransformer - INFO - Load pretrained SentenceTransformer: all-MiniLM-L6-v2\n",
      "2024-02-29 17:46:57,617 - sentence_transformers.SentenceTransformer - INFO - Use pytorch device: cpu\n"
     ]
    },
    {
     "name": "stderr",
     "output_type": "stream",
     "text": [
      "Batches: 100%|██████████| 2/2 [00:01<00:00,  1.86it/s]\n"
     ]
    },
    {
     "data": {
      "text/plain": [
       "(array([0, 0, 0, 1, 0, 0, 0, 1, 0, 0, 0, 0, 0, 0, 1, 0, 0, 0, 0, 0, 0, 0,\n",
       "        0, 0, 0, 0, 0, 0, 1, 0, 0, 0, 0, 0, 1, 0, 0, 0, 0, 0, 0, 0, 0, 0,\n",
       "        0, 0, 0, 0, 0, 0]),\n",
       " {'accuracy': 0.56,\n",
       "  'precision': 0.6,\n",
       "  'recall': 0.13043478260869565,\n",
       "  'f1': 0.21428571428571427,\n",
       "  'hamming': 0.44,\n",
       "  'jaccard': 0.12})"
      ]
     },
     "execution_count": 361,
     "metadata": {},
     "output_type": "execute_result"
    }
   ],
   "source": [
    "testing_examples_simple(list(examples.text),list(examples.labels),models_all[\"log_regression\"])"
   ]
  },
  {
   "cell_type": "code",
   "execution_count": 77,
   "metadata": {},
   "outputs": [],
   "source": [
    "# testing_examples_simple(['this text is about AI', 'this text is about carrots'],[1, 0],models_all[\"log_regression\"])"
   ]
  },
  {
   "cell_type": "markdown",
   "metadata": {},
   "source": [
    "## Inference"
   ]
  },
  {
   "cell_type": "code",
   "execution_count": 362,
   "metadata": {},
   "outputs": [],
   "source": [
    "def inference_simple(examples: pd.DataFrame, classifier):\n",
    "    \"\"\"Testing the simple classifier on some examples\n",
    "\n",
    "    Args:\n",
    "        examples (list): List of strings\n",
    "        labels (list): List of labels\n",
    "        classifier (sklearn classifier): Trained classifier\n",
    "\n",
    "    Returns:\n",
    "        predictions (list): List of predictions\n",
    "        metrics (dict): Dictionary of metrics\n",
    "    \"\"\"\n",
    "    test_df = examples\n",
    "    X_test = test_df[\"miniLM_384_vector\"].apply(pd.Series).values\n",
    "    predictions = classifier.predict(X_test)\n",
    "    try:\n",
    "        probs = classifier.predict_proba(X_test)[:, 1]\n",
    "    except:\n",
    "        probs = None\n",
    "    return (\n",
    "        test_df\n",
    "        .assign(labels=predictions)\n",
    "        .assign(prob_relevant=probs)\n",
    "    )"
   ]
  },
  {
   "cell_type": "code",
   "execution_count": 300,
   "metadata": {},
   "outputs": [],
   "source": [
    "ENRICHED_DATA_DIR = PROJECT_DIR / 'outputs/enrichments'\n",
    "PATH_TO_DATASET = ENRICHED_DATA_DIR / 'openalex_patents_relevance_labels_only_relevant.csv'\n",
    "relevant_df = (\n",
    "    pd.read_csv(PATH_TO_DATASET)\n",
    "    .assign(id = lambda df: df['id'].apply(lambda x: x.split('/')[-1]))\n",
    "    .merge(embeddings_all.reset_index(), on=\"id\", how=\"left\")\n",
    ")"
   ]
  },
  {
   "cell_type": "code",
   "execution_count": 363,
   "metadata": {},
   "outputs": [],
   "source": [
    "results_model = []\n",
    "for model in models_all:\n",
    "    results_df = (\n",
    "        inference_simple(relevant_df, models_all[model])\n",
    "        .rename(columns={\"labels\": \"prediction\"})\n",
    "        .assign(model = model)\n",
    "    )[['id', 'prediction', \"prob_relevant\", \"model\"]]\n",
    "    results_model.append(results_df)\n",
    "results_model = pd.concat(results_model, axis=0)\n"
   ]
  },
  {
   "cell_type": "code",
   "execution_count": 364,
   "metadata": {},
   "outputs": [
    {
     "data": {
      "text/plain": [
       "0.0    34863\n",
       "0.2     7441\n",
       "0.4     3164\n",
       "0.6     2137\n",
       "0.8     2049\n",
       "1.0     1580\n",
       "Name: prediction, dtype: int64"
      ]
     },
     "execution_count": 364,
     "metadata": {},
     "output_type": "execute_result"
    }
   ],
   "source": [
    "results_model.groupby([\"id\"]).prediction.mean().value_counts()"
   ]
  },
  {
   "cell_type": "code",
   "execution_count": 365,
   "metadata": {},
   "outputs": [
    {
     "data": {
      "text/html": [
       "<div>\n",
       "<style scoped>\n",
       "    .dataframe tbody tr th:only-of-type {\n",
       "        vertical-align: middle;\n",
       "    }\n",
       "\n",
       "    .dataframe tbody tr th {\n",
       "        vertical-align: top;\n",
       "    }\n",
       "\n",
       "    .dataframe thead th {\n",
       "        text-align: right;\n",
       "    }\n",
       "</style>\n",
       "<table border=\"1\" class=\"dataframe\">\n",
       "  <thead>\n",
       "    <tr style=\"text-align: right;\">\n",
       "      <th></th>\n",
       "      <th>prediction</th>\n",
       "      <th>prob_relevant</th>\n",
       "    </tr>\n",
       "    <tr>\n",
       "      <th>id</th>\n",
       "      <th></th>\n",
       "      <th></th>\n",
       "    </tr>\n",
       "  </thead>\n",
       "  <tbody>\n",
       "    <tr>\n",
       "      <th>AR-098372-A1</th>\n",
       "      <td>0.0</td>\n",
       "      <td>0.201884</td>\n",
       "    </tr>\n",
       "    <tr>\n",
       "      <th>AR-101703-A4</th>\n",
       "      <td>0.0</td>\n",
       "      <td>0.120133</td>\n",
       "    </tr>\n",
       "  </tbody>\n",
       "</table>\n",
       "</div>"
      ],
      "text/plain": [
       "              prediction  prob_relevant\n",
       "id                                     \n",
       "AR-098372-A1         0.0       0.201884\n",
       "AR-101703-A4         0.0       0.120133"
      ]
     },
     "execution_count": 365,
     "metadata": {},
     "output_type": "execute_result"
    }
   ],
   "source": [
    "ensemble_df = (\n",
    "    results_model\n",
    "    .groupby([\"id\"])\n",
    "    .agg(\n",
    "        prediction = (\"prediction\", \"mean\"),\n",
    "        prob_relevant = (\"prob_relevant\", \"mean\"),\n",
    "    )\n",
    ")\n",
    "ensemble_df.head(2)"
   ]
  },
  {
   "cell_type": "code",
   "execution_count": 366,
   "metadata": {},
   "outputs": [],
   "source": [
    "results_df = (\n",
    "    relevant_df\n",
    "    .merge(ensemble_df, on=\"id\", how=\"left\")\n",
    "    .drop(columns=[\"miniLM_384_vector\", \"Unnamed: 0\"])\n",
    ")"
   ]
  },
  {
   "cell_type": "code",
   "execution_count": 367,
   "metadata": {},
   "outputs": [
    {
     "data": {
      "text/plain": [
       "5059"
      ]
     },
     "execution_count": 367,
     "metadata": {},
     "output_type": "execute_result"
    }
   ],
   "source": [
    "len(results_df.query(\"prob_relevant > 0.5\"))"
   ]
  },
  {
   "cell_type": "code",
   "execution_count": 368,
   "metadata": {},
   "outputs": [
    {
     "data": {
      "text/plain": [
       "3629"
      ]
     },
     "execution_count": 368,
     "metadata": {},
     "output_type": "execute_result"
    }
   ],
   "source": [
    "len(results_df.query(\"prediction >= 0.8\"))"
   ]
  },
  {
   "cell_type": "code",
   "execution_count": 384,
   "metadata": {},
   "outputs": [
    {
     "data": {
      "text/html": [
       "<div>\n",
       "<style scoped>\n",
       "    .dataframe tbody tr th:only-of-type {\n",
       "        vertical-align: middle;\n",
       "    }\n",
       "\n",
       "    .dataframe tbody tr th {\n",
       "        vertical-align: top;\n",
       "    }\n",
       "\n",
       "    .dataframe thead th {\n",
       "        text-align: right;\n",
       "    }\n",
       "</style>\n",
       "<table border=\"1\" class=\"dataframe\">\n",
       "  <thead>\n",
       "    <tr style=\"text-align: right;\">\n",
       "      <th></th>\n",
       "      <th>id</th>\n",
       "      <th>text</th>\n",
       "      <th>predictions</th>\n",
       "      <th>source</th>\n",
       "      <th>prediction</th>\n",
       "      <th>prob_relevant</th>\n",
       "    </tr>\n",
       "  </thead>\n",
       "  <tbody>\n",
       "    <tr>\n",
       "      <th>29523</th>\n",
       "      <td>W4235494632</td>\n",
       "      <td>Digital Technology in Kindergarten. This chapter examines the literature surrounding digital technologies within kindergarten. It highlights the ways in which mobile devices and smart gadgets are ...</td>\n",
       "      <td>1</td>\n",
       "      <td>openalex</td>\n",
       "      <td>1.0</td>\n",
       "      <td>0.912876</td>\n",
       "    </tr>\n",
       "    <tr>\n",
       "      <th>25087</th>\n",
       "      <td>W2734818634</td>\n",
       "      <td>Digital Technology in Kindergarten. This chapter examines the literature surrounding digital technologies within kindergarten. It highlights the ways in which mobile devices and smart gadgets are ...</td>\n",
       "      <td>1</td>\n",
       "      <td>openalex</td>\n",
       "      <td>1.0</td>\n",
       "      <td>0.912876</td>\n",
       "    </tr>\n",
       "    <tr>\n",
       "      <th>3549</th>\n",
       "      <td>KR-20200111350-A</td>\n",
       "      <td>Online to offline language education method using blockable typo convergence design technology. According to the O2O language learning education method using the BTCD technology according to an em...</td>\n",
       "      <td>1</td>\n",
       "      <td>patents</td>\n",
       "      <td>1.0</td>\n",
       "      <td>0.904673</td>\n",
       "    </tr>\n",
       "    <tr>\n",
       "      <th>44641</th>\n",
       "      <td>W2909408616</td>\n",
       "      <td>Exploring visual prompts for communicating directional awareness to kindergarten children. Although a myriad of educational applications using tablets and multi-touch technology for kindergarten c...</td>\n",
       "      <td>1</td>\n",
       "      <td>openalex</td>\n",
       "      <td>1.0</td>\n",
       "      <td>0.903075</td>\n",
       "    </tr>\n",
       "    <tr>\n",
       "      <th>19438</th>\n",
       "      <td>W2288892440</td>\n",
       "      <td>Teacher knowledge for using technology to foster early literacy: A literature review. A literature review was conducted to describe the knowledge and skills teachers need for using technology to f...</td>\n",
       "      <td>1</td>\n",
       "      <td>openalex</td>\n",
       "      <td>1.0</td>\n",
       "      <td>0.892191</td>\n",
       "    </tr>\n",
       "    <tr>\n",
       "      <th>11491</th>\n",
       "      <td>KR-20150091638-A</td>\n",
       "      <td>Smart-device with app possible colloquial learning of Infant.. The present invention relates to a smart device for learning a daily life language, and more particularly, to a smart device for lear...</td>\n",
       "      <td>1</td>\n",
       "      <td>patents</td>\n",
       "      <td>1.0</td>\n",
       "      <td>0.880000</td>\n",
       "    </tr>\n",
       "    <tr>\n",
       "      <th>2384</th>\n",
       "      <td>KR-101619828-B1</td>\n",
       "      <td>Smart-device with app possible colloquial learning of Infant.. The present invention relates to a smart device for learning a daily life language, and more particularly, to a smart device for lear...</td>\n",
       "      <td>1</td>\n",
       "      <td>patents</td>\n",
       "      <td>1.0</td>\n",
       "      <td>0.880000</td>\n",
       "    </tr>\n",
       "    <tr>\n",
       "      <th>38615</th>\n",
       "      <td>W4285196572</td>\n",
       "      <td>Parents' Perception of the Use of Digital Book Reading App in Improving English Skills for Early Childhood. Literature studies have shown benefits of using technology and multimedia to improve chi...</td>\n",
       "      <td>1</td>\n",
       "      <td>openalex</td>\n",
       "      <td>1.0</td>\n",
       "      <td>0.877434</td>\n",
       "    </tr>\n",
       "    <tr>\n",
       "      <th>11599</th>\n",
       "      <td>KR-20220170213-A</td>\n",
       "      <td>Smart mental care system for childcare and education. The present invention relates to a smart childcare, education, and mental care system for infants and children, and more particularly, a speak...</td>\n",
       "      <td>1</td>\n",
       "      <td>patents</td>\n",
       "      <td>1.0</td>\n",
       "      <td>0.876326</td>\n",
       "    </tr>\n",
       "    <tr>\n",
       "      <th>29220</th>\n",
       "      <td>W3020374818</td>\n",
       "      <td>Screens or no screens: Understanding young children's use of digital technologies. Children are accessing digital-technologies at younger ages and at an increasing rate, especially in the home env...</td>\n",
       "      <td>1</td>\n",
       "      <td>openalex</td>\n",
       "      <td>1.0</td>\n",
       "      <td>0.874945</td>\n",
       "    </tr>\n",
       "  </tbody>\n",
       "</table>\n",
       "</div>"
      ],
      "text/plain": [
       "                     id  \\\n",
       "29523       W4235494632   \n",
       "25087       W2734818634   \n",
       "3549   KR-20200111350-A   \n",
       "44641       W2909408616   \n",
       "19438       W2288892440   \n",
       "11491  KR-20150091638-A   \n",
       "2384    KR-101619828-B1   \n",
       "38615       W4285196572   \n",
       "11599  KR-20220170213-A   \n",
       "29220       W3020374818   \n",
       "\n",
       "                                                                                                                                                                                                          text  \\\n",
       "29523  Digital Technology in Kindergarten. This chapter examines the literature surrounding digital technologies within kindergarten. It highlights the ways in which mobile devices and smart gadgets are ...   \n",
       "25087  Digital Technology in Kindergarten. This chapter examines the literature surrounding digital technologies within kindergarten. It highlights the ways in which mobile devices and smart gadgets are ...   \n",
       "3549   Online to offline language education method using blockable typo convergence design technology. According to the O2O language learning education method using the BTCD technology according to an em...   \n",
       "44641  Exploring visual prompts for communicating directional awareness to kindergarten children. Although a myriad of educational applications using tablets and multi-touch technology for kindergarten c...   \n",
       "19438  Teacher knowledge for using technology to foster early literacy: A literature review. A literature review was conducted to describe the knowledge and skills teachers need for using technology to f...   \n",
       "11491  Smart-device with app possible colloquial learning of Infant.. The present invention relates to a smart device for learning a daily life language, and more particularly, to a smart device for lear...   \n",
       "2384   Smart-device with app possible colloquial learning of Infant.. The present invention relates to a smart device for learning a daily life language, and more particularly, to a smart device for lear...   \n",
       "38615  Parents' Perception of the Use of Digital Book Reading App in Improving English Skills for Early Childhood. Literature studies have shown benefits of using technology and multimedia to improve chi...   \n",
       "11599  Smart mental care system for childcare and education. The present invention relates to a smart childcare, education, and mental care system for infants and children, and more particularly, a speak...   \n",
       "29220  Screens or no screens: Understanding young children's use of digital technologies. Children are accessing digital-technologies at younger ages and at an increasing rate, especially in the home env...   \n",
       "\n",
       "       predictions    source  prediction  prob_relevant  \n",
       "29523            1  openalex         1.0       0.912876  \n",
       "25087            1  openalex         1.0       0.912876  \n",
       "3549             1   patents         1.0       0.904673  \n",
       "44641            1  openalex         1.0       0.903075  \n",
       "19438            1  openalex         1.0       0.892191  \n",
       "11491            1   patents         1.0       0.880000  \n",
       "2384             1   patents         1.0       0.880000  \n",
       "38615            1  openalex         1.0       0.877434  \n",
       "11599            1   patents         1.0       0.876326  \n",
       "29220            1  openalex         1.0       0.874945  "
      ]
     },
     "execution_count": 384,
     "metadata": {},
     "output_type": "execute_result"
    }
   ],
   "source": [
    "results_df.query(\"prediction >= 0.8\").sort_values(\"prob_relevant\", ascending=False).head(10)"
   ]
  },
  {
   "cell_type": "code",
   "execution_count": 383,
   "metadata": {},
   "outputs": [
    {
     "data": {
      "text/plain": [
       "51234"
      ]
     },
     "execution_count": 383,
     "metadata": {},
     "output_type": "execute_result"
    }
   ],
   "source": [
    "len(results_df)"
   ]
  },
  {
   "cell_type": "code",
   "execution_count": 263,
   "metadata": {},
   "outputs": [],
   "source": [
    "# pd.set_option('display.max_colwidth', 200)\n",
    "# results_df.query(\"predicted == 1\").groupby(\"source\").size()"
   ]
  },
  {
   "cell_type": "code",
   "execution_count": 138,
   "metadata": {},
   "outputs": [],
   "source": [
    "# results_df.predicted.value_counts()"
   ]
  },
  {
   "cell_type": "code",
   "execution_count": 385,
   "metadata": {},
   "outputs": [],
   "source": [
    "(\n",
    "    results_df[['id', 'prediction', 'prob_relevant']]\n",
    "    .assign(topic=topic)\n",
    "    .to_csv(ENRICHED_DATA_DIR / f'taxonomy_cat/taxonomy_cat_predictions_{topic}.csv', index=False)\n",
    ")"
   ]
  }
 ],
 "metadata": {
  "jupytext": {
   "cell_metadata_filter": "-all",
   "comment_magics": true,
   "main_language": "python",
   "notebook_metadata_filter": "-all"
  },
  "kernelspec": {
   "display_name": "discovery_child_development",
   "language": "python",
   "name": "python3"
  },
  "language_info": {
   "codemirror_mode": {
    "name": "ipython",
    "version": 3
   },
   "file_extension": ".py",
   "mimetype": "text/x-python",
   "name": "python",
   "nbconvert_exporter": "python",
   "pygments_lexer": "ipython3",
   "version": "3.10.13"
  }
 },
 "nbformat": 4,
 "nbformat_minor": 5
}
