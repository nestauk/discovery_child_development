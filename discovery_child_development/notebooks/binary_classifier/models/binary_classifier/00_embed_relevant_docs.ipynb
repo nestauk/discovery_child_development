{
 "cells": [
  {
   "cell_type": "markdown",
   "metadata": {},
   "source": [
    "# Embed all relevant docs and export"
   ]
  },
  {
   "cell_type": "code",
   "execution_count": 1,
   "metadata": {},
   "outputs": [
    {
     "name": "stderr",
     "output_type": "stream",
     "text": [
      "/opt/homebrew/Caskroom/miniconda/base/envs/discovery_child_development/lib/python3.10/site-packages/tqdm/auto.py:21: TqdmWarning: IProgress not found. Please update jupyter and ipywidgets. See https://ipywidgets.readthedocs.io/en/stable/user_install.html\n",
      "  from .autonotebook import tqdm as notebook_tqdm\n"
     ]
    }
   ],
   "source": [
    "import pandas as pd\n",
    "from sentence_transformers import SentenceTransformer\n",
    "from nesta_ds_utils.loading_saving import S3\n",
    "from time import time\n",
    "\n",
    "model = SentenceTransformer(\"all-MiniLM-L6-v2\")\n",
    "\n",
    "from discovery_child_development import PROJECT_DIR, logging, S3_BUCKET\n",
    "ENRICHED_DATA_DIR = PROJECT_DIR / 'outputs/enrichments'\n",
    "PATH_TO_DATASET = ENRICHED_DATA_DIR / 'openalex_patents_relevance_labels_only_relevant.csv'\n",
    "\n",
    "VECTORS_PATH = \"data/outputs/vectors/\"\n",
    "VECTORS_FILE = \"sentence_vectors_384_labelled.parquet\""
   ]
  },
  {
   "cell_type": "code",
   "execution_count": 2,
   "metadata": {},
   "outputs": [],
   "source": [
    "relevant_df = pd.read_csv(PATH_TO_DATASET)\n",
    "\n",
    "docs = relevant_df[\"text\"].tolist()\n",
    "ids = relevant_df[\"id\"].tolist()"
   ]
  },
  {
   "cell_type": "code",
   "execution_count": 3,
   "metadata": {},
   "outputs": [
    {
     "data": {
      "text/plain": [
       "51234"
      ]
     },
     "execution_count": 3,
     "metadata": {},
     "output_type": "execute_result"
    }
   ],
   "source": [
    "len(relevant_df)"
   ]
  },
  {
   "cell_type": "code",
   "execution_count": 4,
   "metadata": {},
   "outputs": [
    {
     "name": "stderr",
     "output_type": "stream",
     "text": [
      "Batches: 100%|██████████| 1602/1602 [14:29<00:00,  1.84it/s]\n"
     ]
    },
    {
     "name": "stdout",
     "output_type": "stream",
     "text": [
      "vectorization done in 871.939 s\n",
      "2024-02-29 15:00:21,339 - root - INFO - Successfully embedded 51234 docs\n",
      "2024-02-29 15:00:23,763 - botocore.credentials - INFO - Found credentials in environment variables.\n"
     ]
    }
   ],
   "source": [
    "# embed the titles & abstracts (these have already been concatenated in the column 'text')\n",
    "t0 = time()\n",
    "sentence_vectors_384 = model.encode(docs, show_progress_bar=True)\n",
    "print(f\"vectorization done in {time() - t0:.3f} s\")\n",
    "\n",
    "vectors_as_list = [list(vec) for vec in sentence_vectors_384]\n",
    "\n",
    "vector_df = pd.DataFrame({\"id\": ids, \"miniLM_384_vector\": vectors_as_list})\n",
    "if len(docs) == len(vector_df):\n",
    "    logging.info(f\"Successfully embedded {len(docs)} docs\")\n",
    "else:\n",
    "    logging.warning(\"Embeddings were not created for all docs\")\n",
    "\n",
    "S3.upload_obj(vector_df, S3_BUCKET, f\"{VECTORS_PATH}{VECTORS_FILE}\")"
   ]
  }
 ],
 "metadata": {
  "kernelspec": {
   "display_name": "discovery_child_development",
   "language": "python",
   "name": "python3"
  },
  "language_info": {
   "codemirror_mode": {
    "name": "ipython",
    "version": 3
   },
   "file_extension": ".py",
   "mimetype": "text/x-python",
   "name": "python",
   "nbconvert_exporter": "python",
   "pygments_lexer": "ipython3",
   "version": "3.10.13"
  }
 },
 "nbformat": 4,
 "nbformat_minor": 2
}
