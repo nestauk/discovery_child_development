{
 "cells": [
  {
   "cell_type": "code",
   "execution_count": 3,
   "metadata": {},
   "outputs": [],
   "source": [
    "from discovery_child_development import PROJECT_DIR\n",
    "import pandas as pd"
   ]
  },
  {
   "cell_type": "code",
   "execution_count": 21,
   "metadata": {},
   "outputs": [],
   "source": [
    "ENRICHED_DATA_DIR = PROJECT_DIR / 'outputs/enrichments'\n",
    "topics = [\n",
    "    \"ai2\",\n",
    "    \"ar_vr\",\n",
    "    \"mobile\",\n",
    "    \"income\",\n",
    "    \"parenting\",\n",
    "]\n",
    "\n",
    "dfs = []\n",
    "for topic in topics:\n",
    "    dfs.append(pd.read_csv(ENRICHED_DATA_DIR / f'taxonomy_cat/taxonomy_cat_predictions_{topic}.csv'))"
   ]
  },
  {
   "cell_type": "code",
   "execution_count": 30,
   "metadata": {},
   "outputs": [
    {
     "data": {
      "text/plain": [
       "ai2          51234\n",
       "ar_vr        51234\n",
       "mobile       51234\n",
       "income       51234\n",
       "parenting    51234\n",
       "Name: topic, dtype: int64"
      ]
     },
     "execution_count": 30,
     "metadata": {},
     "output_type": "execute_result"
    }
   ],
   "source": [
    "labelled_df = (\n",
    "    pd.concat(dfs, ignore_index=True)\n",
    "    # .query(\"prediction == 1\")\n",
    "    # .query(\"prediction >= 0.8\")\n",
    "    # .query(\"prob_relevant >= 0.8\")\n",
    ")\n",
    "len(labelled_df)\n",
    "labelled_df.topic.value_counts()"
   ]
  },
  {
   "cell_type": "code",
   "execution_count": 31,
   "metadata": {},
   "outputs": [
    {
     "data": {
      "text/html": [
       "<div>\n",
       "<style scoped>\n",
       "    .dataframe tbody tr th:only-of-type {\n",
       "        vertical-align: middle;\n",
       "    }\n",
       "\n",
       "    .dataframe tbody tr th {\n",
       "        vertical-align: top;\n",
       "    }\n",
       "\n",
       "    .dataframe thead th {\n",
       "        text-align: right;\n",
       "    }\n",
       "</style>\n",
       "<table border=\"1\" class=\"dataframe\">\n",
       "  <thead>\n",
       "    <tr style=\"text-align: right;\">\n",
       "      <th></th>\n",
       "      <th>id</th>\n",
       "      <th>prediction</th>\n",
       "      <th>prob_relevant</th>\n",
       "      <th>topic</th>\n",
       "    </tr>\n",
       "  </thead>\n",
       "  <tbody>\n",
       "    <tr>\n",
       "      <th>0</th>\n",
       "      <td>CN-107945066-A</td>\n",
       "      <td>0.4</td>\n",
       "      <td>0.669977</td>\n",
       "      <td>ai2</td>\n",
       "    </tr>\n",
       "    <tr>\n",
       "      <th>1</th>\n",
       "      <td>WO-2015164890-A2</td>\n",
       "      <td>0.0</td>\n",
       "      <td>0.126087</td>\n",
       "      <td>ai2</td>\n",
       "    </tr>\n",
       "    <tr>\n",
       "      <th>2</th>\n",
       "      <td>KR-101597453-B1</td>\n",
       "      <td>0.4</td>\n",
       "      <td>0.415074</td>\n",
       "      <td>ai2</td>\n",
       "    </tr>\n",
       "    <tr>\n",
       "      <th>3</th>\n",
       "      <td>EP-3787584-A1</td>\n",
       "      <td>1.0</td>\n",
       "      <td>0.757996</td>\n",
       "      <td>ai2</td>\n",
       "    </tr>\n",
       "    <tr>\n",
       "      <th>4</th>\n",
       "      <td>US-11844731-B2</td>\n",
       "      <td>0.0</td>\n",
       "      <td>0.387965</td>\n",
       "      <td>ai2</td>\n",
       "    </tr>\n",
       "    <tr>\n",
       "      <th>...</th>\n",
       "      <td>...</td>\n",
       "      <td>...</td>\n",
       "      <td>...</td>\n",
       "      <td>...</td>\n",
       "    </tr>\n",
       "    <tr>\n",
       "      <th>256165</th>\n",
       "      <td>W4380048305</td>\n",
       "      <td>1.0</td>\n",
       "      <td>0.850703</td>\n",
       "      <td>parenting</td>\n",
       "    </tr>\n",
       "    <tr>\n",
       "      <th>256166</th>\n",
       "      <td>W4385650553</td>\n",
       "      <td>0.0</td>\n",
       "      <td>0.234314</td>\n",
       "      <td>parenting</td>\n",
       "    </tr>\n",
       "    <tr>\n",
       "      <th>256167</th>\n",
       "      <td>W4367694030</td>\n",
       "      <td>1.0</td>\n",
       "      <td>0.873525</td>\n",
       "      <td>parenting</td>\n",
       "    </tr>\n",
       "    <tr>\n",
       "      <th>256168</th>\n",
       "      <td>W4380886404</td>\n",
       "      <td>0.2</td>\n",
       "      <td>0.446462</td>\n",
       "      <td>parenting</td>\n",
       "    </tr>\n",
       "    <tr>\n",
       "      <th>256169</th>\n",
       "      <td>W4386132309</td>\n",
       "      <td>1.0</td>\n",
       "      <td>0.789594</td>\n",
       "      <td>parenting</td>\n",
       "    </tr>\n",
       "  </tbody>\n",
       "</table>\n",
       "<p>256170 rows × 4 columns</p>\n",
       "</div>"
      ],
      "text/plain": [
       "                      id  prediction  prob_relevant      topic\n",
       "0         CN-107945066-A         0.4       0.669977        ai2\n",
       "1       WO-2015164890-A2         0.0       0.126087        ai2\n",
       "2        KR-101597453-B1         0.4       0.415074        ai2\n",
       "3          EP-3787584-A1         1.0       0.757996        ai2\n",
       "4         US-11844731-B2         0.0       0.387965        ai2\n",
       "...                  ...         ...            ...        ...\n",
       "256165       W4380048305         1.0       0.850703  parenting\n",
       "256166       W4385650553         0.0       0.234314  parenting\n",
       "256167       W4367694030         1.0       0.873525  parenting\n",
       "256168       W4380886404         0.2       0.446462  parenting\n",
       "256169       W4386132309         1.0       0.789594  parenting\n",
       "\n",
       "[256170 rows x 4 columns]"
      ]
     },
     "execution_count": 31,
     "metadata": {},
     "output_type": "execute_result"
    }
   ],
   "source": [
    "labelled_df"
   ]
  },
  {
   "cell_type": "code",
   "execution_count": 32,
   "metadata": {},
   "outputs": [],
   "source": [
    "labelled_df.to_csv(ENRICHED_DATA_DIR / 'taxonomy_cat/taxonomy_cat_predictions_all.csv', index=False)"
   ]
  }
 ],
 "metadata": {
  "kernelspec": {
   "display_name": "discovery_child_development",
   "language": "python",
   "name": "python3"
  },
  "language_info": {
   "codemirror_mode": {
    "name": "ipython",
    "version": 3
   },
   "file_extension": ".py",
   "mimetype": "text/x-python",
   "name": "python",
   "nbconvert_exporter": "python",
   "pygments_lexer": "ipython3",
   "version": "3.10.13"
  }
 },
 "nbformat": 4,
 "nbformat_minor": 2
}
