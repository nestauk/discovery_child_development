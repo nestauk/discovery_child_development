{
 "cells": [
  {
   "cell_type": "markdown",
   "metadata": {},
   "source": [
    "# Inference Pipeline"
   ]
  },
  {
   "cell_type": "markdown",
   "metadata": {},
   "source": [
    "The goal of this notebook is to evaluate the simple models (\"log_regression\", \"knn\", \"random_forest\", \"sgd\", \"svm\") and the distilbert-base-uncased models on the new data (unlabelled data not involved in the training process). \n",
    "\n",
    "This notebook contains the process in \n",
    "`pipeline/models/binary_classifier/05_inference_pipeline.py` for the chosen model distilbert-base-uncased.\n",
    "\n",
    "This notebook also contains the process for the simple models for exploration of the data.\n"
   ]
  },
  {
   "cell_type": "markdown",
   "metadata": {},
   "source": [
    "# 1. Import Packages"
   ]
  },
  {
   "cell_type": "code",
   "execution_count": null,
   "metadata": {},
   "outputs": [],
   "source": [
    "import pandas as pd\n",
    "import numpy as np\n",
    "from discovery_child_development import PROJECT_DIR, binary_config, config, S3_BUCKET, labelling_config, logging\n",
    "from nesta_ds_utils.loading_saving import S3\n",
    "from discovery_child_development.utils.huggingface_pipeline import (\n",
    "    load_model,\n",
    "    load_training_args,\n",
    "    load_trained_model)\n",
    "from discovery_child_development.getters.binary_classifier.binary_classifier_model import get_binary_classifier_models\n",
    "from discovery_child_development.utils.huggingface_pipeline import predictions_huggingface\n",
    "from discovery_child_development.getters.unlabelled_data import get_data_for_relevance_classifier\n",
    "from discovery_child_development.utils.classification_utils import prediction_simple"
   ]
  },
  {
   "cell_type": "markdown",
   "metadata": {},
   "source": [
    "# 2. Setting Parameters"
   ]
  },
  {
   "cell_type": "code",
   "execution_count": null,
   "metadata": {},
   "outputs": [],
   "source": [
    "# Model vars\n",
    "production = True\n",
    "\n",
    "# Set the seed\n",
    "SEED = config[\"seed\"]\n",
    "np.random.seed(SEED)\n",
    "\n",
    "#Paths\n",
    "S3_PATH = \"models/binary_classifier/\"\n",
    "PATH_TO = f\"{PROJECT_DIR}/outputs/data/models/\"\n",
    "MODEL_FILENAME = f\"gpt_labelled_binary_classifier_distilbert_production_{production}.tar.gz\"\n",
    "OUTPUT_FILENAME = labelling_config[\"OUTPUT_FILENAME\"]"
   ]
  },
  {
   "cell_type": "markdown",
   "metadata": {},
   "source": [
    "# 3 Loading simple models"
   ]
  },
  {
   "cell_type": "code",
   "execution_count": null,
   "metadata": {},
   "outputs": [],
   "source": [
    "models_simple = [\"log_regression\", \"knn\", \"random_forest\", \"sgd\", \"svm\"]\n",
    "models_all = {}\n",
    "for model in models_simple:\n",
    "    # Save model to S3\n",
    "    models_all[model]=S3.download_obj(\n",
    "    bucket=S3_BUCKET,\n",
    "    path_from=f\"{S3_PATH}gpt_labelled_binary_classifier_{model}.pkl\",\n",
    "    )"
   ]
  },
  {
   "cell_type": "markdown",
   "metadata": {},
   "source": [
    "# 4. Loading Distilbert model"
   ]
  },
  {
   "cell_type": "code",
   "execution_count": null,
   "metadata": {},
   "outputs": [],
   "source": [
    "get_binary_classifier_models(filename=MODEL_FILENAME, s3_path=S3_PATH, path_to=PATH_TO)"
   ]
  },
  {
   "cell_type": "code",
   "execution_count": null,
   "metadata": {},
   "outputs": [],
   "source": [
    "model_folder = f\"{PATH_TO}gpt_labelled_binary_classifier_distilbert_production_{production}\"\n",
    "# Load the model\n",
    "model = load_model(model_path=model_folder,config=binary_config, num_labels=2)\n",
    "\n",
    "# Train model with early stopping\n",
    "training_args = load_training_args(**binary_config[\"training_args\"])\n",
    "trainer = load_trained_model(\n",
    "    model=model,\n",
    "    args=training_args,\n",
    "    config=binary_config,\n",
    ")"
   ]
  },
  {
   "cell_type": "markdown",
   "metadata": {},
   "source": [
    "# 5. Loading Data"
   ]
  },
  {
   "cell_type": "code",
   "execution_count": null,
   "metadata": {},
   "outputs": [],
   "source": [
    "data_for_labelling = get_data_for_relevance_classifier(config=labelling_config)"
   ]
  },
  {
   "cell_type": "markdown",
   "metadata": {},
   "source": [
    "# 5. Simple classifiers"
   ]
  },
  {
   "cell_type": "code",
   "execution_count": null,
   "metadata": {},
   "outputs": [],
   "source": [
    "results_dict  = {}\n",
    "for model in models_all:\n",
    "    temp_df = prediction_simple(models_all[model], data_for_labelling[\"text\"])\n",
    "    results_dict[model] = temp_df"
   ]
  },
  {
   "cell_type": "code",
   "execution_count": null,
   "metadata": {},
   "outputs": [],
   "source": [
    "results_dict[\"log_regression\"].head()"
   ]
  },
  {
   "cell_type": "markdown",
   "metadata": {},
   "source": [
    "# 6. Distilbert-base-uncased model"
   ]
  },
  {
   "cell_type": "code",
   "execution_count": null,
   "metadata": {},
   "outputs": [],
   "source": [
    "predictions = predictions_huggingface(trainer=trainer, text_data=data_for_labelling, config=binary_config)"
   ]
  },
  {
   "cell_type": "code",
   "execution_count": null,
   "metadata": {},
   "outputs": [],
   "source": [
    "predictions.head()"
   ]
  },
  {
   "cell_type": "code",
   "execution_count": null,
   "metadata": {},
   "outputs": [],
   "source": []
  }
 ],
 "metadata": {
  "kernelspec": {
   "display_name": "discovery_child_development",
   "language": "python",
   "name": "python3"
  },
  "language_info": {
   "codemirror_mode": {
    "name": "ipython",
    "version": 3
   },
   "file_extension": ".py",
   "mimetype": "text/x-python",
   "name": "python",
   "nbconvert_exporter": "python",
   "pygments_lexer": "ipython3",
   "version": "3.10.13"
  }
 },
 "nbformat": 4,
 "nbformat_minor": 2
}
