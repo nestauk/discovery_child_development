{
 "cells": [
  {
   "cell_type": "markdown",
   "metadata": {},
   "source": [
    "# 1. Import Packages"
   ]
  },
  {
   "cell_type": "code",
   "execution_count": 1,
   "metadata": {},
   "outputs": [
    {
     "name": "stderr",
     "output_type": "stream",
     "text": [
      "/opt/homebrew/Caskroom/miniconda/base/envs/discovery_child_development/lib/python3.10/site-packages/tqdm/auto.py:21: TqdmWarning: IProgress not found. Please update jupyter and ipywidgets. See https://ipywidgets.readthedocs.io/en/stable/user_install.html\n",
      "  from .autonotebook import tqdm as notebook_tqdm\n"
     ]
    },
    {
     "name": "stdout",
     "output_type": "stream",
     "text": [
      "2023-12-18 11:59:00,310 - botocore.credentials - INFO - Found credentials in shared credentials file: ~/.aws/credentials\n"
     ]
    }
   ],
   "source": [
    "import pandas as pd\n",
    "import numpy as np\n",
    "from discovery_child_development.utils.huggingface_pipeline import (\n",
    "    load_model,\n",
    "    load_training_args,\n",
    "    load_trained_model)\n",
    "from discovery_child_development import PROJECT_DIR, binary_config, config\n",
    "from discovery_child_development.getters.binary_classifier.binary_classifier_model import get_binary_classifier_models\n",
    "from discovery_child_development.getters.openalex import get_abstracts\n",
    "from discovery_child_development.getters.openalex_broad_concepts import get_abstracts_broad\n",
    "from discovery_child_development.getters.binary_classifier.gpt_labelled_datasets import get_labelled_data_for_classifier"
   ]
  },
  {
   "cell_type": "markdown",
   "metadata": {},
   "source": [
    "# 2. Setting Parameters"
   ]
  },
  {
   "cell_type": "code",
   "execution_count": 2,
   "metadata": {},
   "outputs": [],
   "source": [
    "# Model vars\n",
    "production = True\n",
    "\n",
    "# Set the seed\n",
    "SEED = config[\"seed\"]\n",
    "np.random.seed(SEED)\n",
    "\n",
    "#Paths\n",
    "S3_PATH = \"models/binary_classifier/\"\n",
    "PATH_TO = f\"{PROJECT_DIR}/outputs/data/models/\"\n",
    "OUTPUT_FILENAME = f\"gpt_labelled_binary_classifier_distilbert_production_{production}.tar.gz\""
   ]
  },
  {
   "cell_type": "markdown",
   "metadata": {},
   "source": [
    "# 3.1 Loading model"
   ]
  },
  {
   "cell_type": "code",
   "execution_count": 3,
   "metadata": {},
   "outputs": [],
   "source": [
    "get_binary_classifier_models(filename=OUTPUT_FILENAME, s3_path=S3_PATH, path_to=PATH_TO)"
   ]
  },
  {
   "cell_type": "code",
   "execution_count": 4,
   "metadata": {},
   "outputs": [],
   "source": [
    "model_folder = f\"{PATH_TO}gpt_labelled_binary_classifier_distilbert_production_{production}\"\n",
    "# Load the model\n",
    "model = load_model(model_path=model_folder,config=binary_config, num_labels=2)\n",
    "\n",
    "# Train model with early stopping\n",
    "training_args = load_training_args(output_dir=S3_PATH, config=binary_config)\n",
    "trainer = load_trained_model(\n",
    "    model=model,\n",
    "    args=training_args,\n",
    "    config=binary_config,\n",
    ")"
   ]
  },
  {
   "cell_type": "markdown",
   "metadata": {},
   "source": [
    "# 4. Testing edge cases"
   ]
  },
  {
   "cell_type": "code",
   "execution_count": 5,
   "metadata": {},
   "outputs": [],
   "source": [
    "from discovery_child_development.getters.binary_classifier.prompts_edge_cases import get_examples\n",
    "from discovery_child_development.utils.testing_examples_utils import testing_examples_huggingface\n",
    "examples = get_examples()"
   ]
  },
  {
   "cell_type": "code",
   "execution_count": null,
   "metadata": {},
   "outputs": [],
   "source": [
    "# Removing Not-specified\n",
    "examples = examples.query(\"labels!='Not specified'\")\n",
    "examples.tail()"
   ]
  },
  {
   "cell_type": "code",
   "execution_count": null,
   "metadata": {},
   "outputs": [],
   "source": [
    "testing_examples_huggingface(trainer,examples, binary_config)"
   ]
  },
  {
   "cell_type": "markdown",
   "metadata": {},
   "source": [
    "# 5. Trialling the model on the openalex concepts"
   ]
  },
  {
   "cell_type": "code",
   "execution_count": 10,
   "metadata": {},
   "outputs": [],
   "source": [
    "# Get labelled training data\n",
    "labelled_data = get_labelled_data_for_classifier(set_type=\"train\")\n",
    "labelled_data_ids = labelled_data.id.unique()"
   ]
  },
  {
   "cell_type": "code",
   "execution_count": null,
   "metadata": {},
   "outputs": [],
   "source": [
    "# Get abstracts\n",
    "abstracts = get_abstracts().query(\"id not in @labelled_data_ids\")\n",
    "abstracts_broad = get_abstracts_broad().query(\"id not in @labelled_data_ids\")"
   ]
  },
  {
   "cell_type": "code",
   "execution_count": null,
   "metadata": {},
   "outputs": [],
   "source": [
    "# Collecting sample of results\n",
    "relevant = abstracts.sample(500,random_state=SEED).assign(labels=1)\n",
    "not_relevant = abstracts_broad.sample(500,random_state=SEED).assign(labels=0)\n",
    "test_set = pd.concat([relevant,not_relevant])"
   ]
  },
  {
   "cell_type": "code",
   "execution_count": null,
   "metadata": {},
   "outputs": [],
   "source": [
    "results = testing_examples_huggingface(trainer,test_set[['labels','text']], binary_config)"
   ]
  },
  {
   "cell_type": "code",
   "execution_count": null,
   "metadata": {},
   "outputs": [],
   "source": [
    "results[1]"
   ]
  },
  {
   "cell_type": "code",
   "execution_count": null,
   "metadata": {},
   "outputs": [],
   "source": [
    "results[0]"
   ]
  },
  {
   "cell_type": "code",
   "execution_count": null,
   "metadata": {},
   "outputs": [],
   "source": [
    "test_set['predictions'] = results[0]"
   ]
  },
  {
   "cell_type": "code",
   "execution_count": null,
   "metadata": {},
   "outputs": [],
   "source": [
    "test_set[test_set.predictions!=test_set.labels]"
   ]
  },
  {
   "cell_type": "markdown",
   "metadata": {},
   "source": [
    "# 6. Trialling the model on the crunchbase concepts"
   ]
  },
  {
   "cell_type": "code",
   "execution_count": 19,
   "metadata": {},
   "outputs": [],
   "source": [
    "from discovery_child_development.getters.labels import get_relevance_labels\n",
    "\n",
    "crunchbase_relevant = get_relevance_labels(\"relevant_crunchbase_investments_20230623\").reset_index().dropna()"
   ]
  },
  {
   "cell_type": "code",
   "execution_count": 20,
   "metadata": {},
   "outputs": [
    {
     "name": "stderr",
     "output_type": "stream",
     "text": [
      "/Users/jessgillam/Projects/discovery_child_development/discovery_child_development/utils/general_utils.py:32: SettingWithCopyWarning: \n",
      "A value is trying to be set on a copy of a slice from a DataFrame.\n",
      "Try using .loc[row_indexer,col_indexer] = value instead\n",
      "\n",
      "See the caveats in the documentation: https://pandas.pydata.org/pandas-docs/stable/user_guide/indexing.html#returning-a-view-versus-a-copy\n",
      "  df[label_col] = df[label_col].replace({replace_cat[0]: 1, replace_cat[1]: 0})\n",
      "Map: 100%|██████████| 1621/1621 [00:00<00:00, 7570.84 examples/s]\n",
      "You're using a DistilBertTokenizerFast tokenizer. Please note that with a fast tokenizer, using the `__call__` method is faster than using a method to encode the text followed by a call to the `pad` method to get a padded encoding.\n",
      "100%|██████████| 102/102 [01:31<00:00,  1.11it/s]\n"
     ]
    }
   ],
   "source": [
    "results_crunchbase = testing_examples_huggingface(trainer,crunchbase_relevant[['labels','text']], binary_config)"
   ]
  },
  {
   "cell_type": "code",
   "execution_count": 18,
   "metadata": {},
   "outputs": [
    {
     "data": {
      "text/html": [
       "<div>\n",
       "<style scoped>\n",
       "    .dataframe tbody tr th:only-of-type {\n",
       "        vertical-align: middle;\n",
       "    }\n",
       "\n",
       "    .dataframe tbody tr th {\n",
       "        vertical-align: top;\n",
       "    }\n",
       "\n",
       "    .dataframe thead th {\n",
       "        text-align: right;\n",
       "    }\n",
       "</style>\n",
       "<table border=\"1\" class=\"dataframe\">\n",
       "  <thead>\n",
       "    <tr style=\"text-align: right;\">\n",
       "      <th></th>\n",
       "      <th>labels</th>\n",
       "      <th>text</th>\n",
       "    </tr>\n",
       "  </thead>\n",
       "  <tbody>\n",
       "    <tr>\n",
       "      <th>0</th>\n",
       "      <td>1</td>\n",
       "      <td>Care.com improves the lives of families and ca...</td>\n",
       "    </tr>\n",
       "    <tr>\n",
       "      <th>1</th>\n",
       "      <td>1</td>\n",
       "      <td>Maya's Mom is a social network and advice site...</td>\n",
       "    </tr>\n",
       "    <tr>\n",
       "      <th>2</th>\n",
       "      <td>1</td>\n",
       "      <td>Maya's Mom is a social network and advice site...</td>\n",
       "    </tr>\n",
       "    <tr>\n",
       "      <th>3</th>\n",
       "      <td>1</td>\n",
       "      <td>BabyCenter, a subsidiary of Johnson &amp; Johnson,...</td>\n",
       "    </tr>\n",
       "    <tr>\n",
       "      <th>4</th>\n",
       "      <td>1</td>\n",
       "      <td>CafeMom is an online media company for moms, r...</td>\n",
       "    </tr>\n",
       "    <tr>\n",
       "      <th>...</th>\n",
       "      <td>...</td>\n",
       "      <td>...</td>\n",
       "    </tr>\n",
       "    <tr>\n",
       "      <th>1651</th>\n",
       "      <td>1</td>\n",
       "      <td>EdTech startup using AI to accomplish the comp...</td>\n",
       "    </tr>\n",
       "    <tr>\n",
       "      <th>1652</th>\n",
       "      <td>1</td>\n",
       "      <td>EdTech</td>\n",
       "    </tr>\n",
       "    <tr>\n",
       "      <th>1653</th>\n",
       "      <td>1</td>\n",
       "      <td>eTalk - Online English learning platform for a...</td>\n",
       "    </tr>\n",
       "    <tr>\n",
       "      <th>1654</th>\n",
       "      <td>1</td>\n",
       "      <td>Kingsley House offers nationally-accredited &amp; ...</td>\n",
       "    </tr>\n",
       "    <tr>\n",
       "      <th>1655</th>\n",
       "      <td>1</td>\n",
       "      <td>Grandnanny is a childcare service that uses ch...</td>\n",
       "    </tr>\n",
       "  </tbody>\n",
       "</table>\n",
       "<p>1656 rows × 2 columns</p>\n",
       "</div>"
      ],
      "text/plain": [
       "      labels                                               text\n",
       "0          1  Care.com improves the lives of families and ca...\n",
       "1          1  Maya's Mom is a social network and advice site...\n",
       "2          1  Maya's Mom is a social network and advice site...\n",
       "3          1  BabyCenter, a subsidiary of Johnson & Johnson,...\n",
       "4          1  CafeMom is an online media company for moms, r...\n",
       "...      ...                                                ...\n",
       "1651       1  EdTech startup using AI to accomplish the comp...\n",
       "1652       1                                             EdTech\n",
       "1653       1  eTalk - Online English learning platform for a...\n",
       "1654       1  Kingsley House offers nationally-accredited & ...\n",
       "1655       1  Grandnanny is a childcare service that uses ch...\n",
       "\n",
       "[1656 rows x 2 columns]"
      ]
     },
     "execution_count": 18,
     "metadata": {},
     "output_type": "execute_result"
    }
   ],
   "source": [
    "crunchbase_relevant[['labels','text']].dropna()"
   ]
  },
  {
   "cell_type": "code",
   "execution_count": null,
   "metadata": {},
   "outputs": [],
   "source": []
  }
 ],
 "metadata": {
  "kernelspec": {
   "display_name": "discovery_child_development",
   "language": "python",
   "name": "python3"
  },
  "language_info": {
   "codemirror_mode": {
    "name": "ipython",
    "version": 3
   },
   "file_extension": ".py",
   "mimetype": "text/x-python",
   "name": "python",
   "nbconvert_exporter": "python",
   "pygments_lexer": "ipython3",
   "version": "3.10.13"
  }
 },
 "nbformat": 4,
 "nbformat_minor": 2
}
