{
 "cells": [
  {
   "cell_type": "markdown",
   "metadata": {},
   "source": [
    "# Evaluating the Simple models"
   ]
  },
  {
   "cell_type": "markdown",
   "metadata": {},
   "source": [
    "The goal of this notebook is to evaluate the simple models (\"log_regression\", \"knn\", \"random_forest\", \"sgd\", \"svm\") on various datasets. The model is trained in pipeline/models/binary_classifier/04a_train_simple_classifiers.py. Or you can test it in 04a_train_simple_classifiers.ipynb. \n",
    "\n",
    "It also tests whether we can download the model from S3, save it locally, and then load it.\n",
    "\n",
    "The model is trained on the gpt-labelled openalex/patents dataset. The model is then tested on the following datasets:\n",
    "\n",
    "- A sample of interesting examples discussed by the team\n",
    "- A sample from the openalex dataset gathered in pipeline/openalex.\n",
    "- A sample of potentially relevant crunchbase descriptions.\n",
    "\n",
    "The equivalent refactored file for the openalex/crunchbase data resides in pipeline/models/binary_classifier (05 and 06). This notebook is for testing purposes only.\n"
   ]
  },
  {
   "cell_type": "markdown",
   "metadata": {},
   "source": [
    "# 1. Import Packages"
   ]
  },
  {
   "cell_type": "code",
   "execution_count": null,
   "metadata": {},
   "outputs": [],
   "source": [
    "import pandas as pd\n",
    "import numpy as np\n",
    "from discovery_child_development import PROJECT_DIR, binary_config, config, S3_BUCKET\n",
    "from nesta_ds_utils.loading_saving import S3\n",
    "from discovery_child_development.getters.openalex import get_abstracts\n",
    "from discovery_child_development.getters.openalex_broad_concepts import get_abstracts_broad\n",
    "from discovery_child_development.getters.binary_classifier.gpt_labelled_datasets import get_labelled_data_for_classifier"
   ]
  },
  {
   "cell_type": "markdown",
   "metadata": {},
   "source": [
    "# 2. Setting Parameters"
   ]
  },
  {
   "cell_type": "code",
   "execution_count": null,
   "metadata": {},
   "outputs": [],
   "source": [
    "# Model vars\n",
    "production = True\n",
    "\n",
    "# Set the seed\n",
    "SEED = config[\"seed\"]\n",
    "np.random.seed(SEED)\n",
    "\n",
    "#Paths\n",
    "S3_PATH = \"models/binary_classifier/\"\n",
    "PATH_TO = f\"{PROJECT_DIR}/outputs/data/models/\""
   ]
  },
  {
   "cell_type": "markdown",
   "metadata": {},
   "source": [
    "# 3.1 Loading model"
   ]
  },
  {
   "cell_type": "code",
   "execution_count": null,
   "metadata": {},
   "outputs": [],
   "source": [
    "models_simple = [\"log_regression\", \"knn\", \"random_forest\", \"sgd\", \"svm\"]\n",
    "models_all = {}\n",
    "for model in models_simple:\n",
    "    # Save model to S3\n",
    "    models_all[model]=S3.download_obj(\n",
    "    bucket=S3_BUCKET,\n",
    "    path_from=f\"{S3_PATH}gpt_labelled_binary_classifier_{model}.pkl\",\n",
    "    )"
   ]
  },
  {
   "cell_type": "markdown",
   "metadata": {},
   "source": [
    "# 4. Testing edge cases"
   ]
  },
  {
   "cell_type": "code",
   "execution_count": null,
   "metadata": {},
   "outputs": [],
   "source": [
    "from discovery_child_development.getters.binary_classifier.prompts_edge_cases import get_examples\n",
    "from discovery_child_development.utils.general_utils import replace_binary_labels\n",
    "from discovery_child_development.utils.testing_examples_utils import testing_examples_simple\n",
    "examples = get_examples()"
   ]
  },
  {
   "cell_type": "code",
   "execution_count": null,
   "metadata": {},
   "outputs": [],
   "source": [
    "# Removing Not-specified\n",
    "examples = examples.query(\"labels!='Not specified'\")\n",
    "examples = replace_binary_labels(examples, \"labels\", replace_cat=[\"Relevant\", \"Not relevant\"])\n",
    "examples.tail()"
   ]
  },
  {
   "cell_type": "code",
   "execution_count": null,
   "metadata": {},
   "outputs": [],
   "source": [
    "for model in models_all:\n",
    "    print(\n",
    "        testing_examples_simple(list(examples.text),list(examples.labels),models_all[model])\n",
    "    )"
   ]
  },
  {
   "cell_type": "markdown",
   "metadata": {},
   "source": [
    "# 5. Trialling the model on the openalex concepts"
   ]
  },
  {
   "cell_type": "code",
   "execution_count": null,
   "metadata": {},
   "outputs": [],
   "source": [
    "# Get labelled training data\n",
    "labelled_data = get_labelled_data_for_classifier(set_type=\"train\")\n",
    "labelled_data_ids = labelled_data.id.unique()"
   ]
  },
  {
   "cell_type": "code",
   "execution_count": null,
   "metadata": {},
   "outputs": [],
   "source": [
    "# Get abstracts\n",
    "abstracts = get_abstracts().query(\"id not in @labelled_data_ids\")\n",
    "abstracts_broad = get_abstracts_broad().query(\"id not in @labelled_data_ids\")"
   ]
  },
  {
   "cell_type": "code",
   "execution_count": null,
   "metadata": {},
   "outputs": [],
   "source": [
    "# Collecting sample of results\n",
    "relevant = abstracts.sample(500,random_state=SEED).assign(labels=1)\n",
    "not_relevant = abstracts_broad.sample(500,random_state=SEED).assign(labels=0)\n",
    "test_set = pd.concat([relevant,not_relevant])"
   ]
  },
  {
   "cell_type": "code",
   "execution_count": null,
   "metadata": {},
   "outputs": [],
   "source": [
    "test_set"
   ]
  },
  {
   "cell_type": "code",
   "execution_count": null,
   "metadata": {},
   "outputs": [],
   "source": [
    "for model in models_all:\n",
    "    print(\n",
    "        testing_examples_simple(list(test_set.text),list(test_set.labels),models_all[model])\n",
    "    )"
   ]
  },
  {
   "cell_type": "markdown",
   "metadata": {},
   "source": [
    "# 6. Trialling the model on the crunchbase concepts"
   ]
  },
  {
   "cell_type": "code",
   "execution_count": null,
   "metadata": {},
   "outputs": [],
   "source": [
    "from discovery_child_development.getters.labels import get_labelled_data\n",
    "\n",
    "crunchbase_relevant = get_labelled_data(\"relevant_crunchbase_investments_20230623\").reset_index().dropna()"
   ]
  },
  {
   "cell_type": "code",
   "execution_count": null,
   "metadata": {},
   "outputs": [],
   "source": [
    "for model in models_all:\n",
    "    print(\n",
    "        testing_examples_simple(list(crunchbase_relevant.text),list(crunchbase_relevant.labels), models_all[model])\n",
    "    )"
   ]
  }
 ],
 "metadata": {
  "kernelspec": {
   "display_name": "discovery_child_development",
   "language": "python",
   "name": "python3"
  },
  "language_info": {
   "codemirror_mode": {
    "name": "ipython",
    "version": 3
   },
   "file_extension": ".py",
   "mimetype": "text/x-python",
   "name": "python",
   "nbconvert_exporter": "python",
   "pygments_lexer": "ipython3",
   "version": "3.10.13"
  }
 },
 "nbformat": 4,
 "nbformat_minor": 2
}
