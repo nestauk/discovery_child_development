{
 "cells": [
  {
   "cell_type": "markdown",
   "metadata": {},
   "source": [
    "# Evaluating the Distilbert model"
   ]
  },
  {
   "cell_type": "markdown",
   "metadata": {},
   "source": [
    "The goal of this notebook is to evaluate the Distilbert model on various datasets. The model is trained in pipeline/models/binary_classifier/04b_train_distilbert_classifier.py. Or you can test it in 04b_train_distilbert_classifier.ipynb. \n",
    "\n",
    "It also tests whether we can download the model from S3, save it locally, and then load it.\n",
    "\n",
    "The model is trained on the gpt-labelled openalex/patents dataset. The model is then tested on the following datasets:\n",
    "\n",
    "- A sample of interesting examples discussed by the team\n",
    "- A sample from the openalex dataset gathered in pipeline/openalex.\n",
    "- A sample of potentially relevant crunchbase descriptions.\n",
    "\n",
    "The equivalent refactored file for the openalex/crunchbase data resides in pipeline/models/binary_classifier (05 and 06). This notebook is for testing purposes only.\n"
   ]
  },
  {
   "cell_type": "markdown",
   "metadata": {},
   "source": [
    "# 1. Import Packages"
   ]
  },
  {
   "cell_type": "code",
   "execution_count": null,
   "metadata": {},
   "outputs": [],
   "source": [
    "import pandas as pd\n",
    "import numpy as np\n",
    "from discovery_child_development.utils.huggingface_pipeline import (\n",
    "    load_model,\n",
    "    load_training_args,\n",
    "    load_trained_model)\n",
    "from discovery_child_development import PROJECT_DIR, binary_config, config\n",
    "from discovery_child_development.getters.binary_classifier.binary_classifier_model import get_binary_classifier_models\n",
    "from discovery_child_development.getters.openalex import get_abstracts\n",
    "from discovery_child_development.getters.openalex_broad_concepts import get_abstracts_broad\n",
    "from discovery_child_development.getters.binary_classifier.gpt_labelled_datasets import get_labelled_data_for_classifier"
   ]
  },
  {
   "cell_type": "markdown",
   "metadata": {},
   "source": [
    "# 2. Setting Parameters"
   ]
  },
  {
   "cell_type": "code",
   "execution_count": null,
   "metadata": {},
   "outputs": [],
   "source": [
    "# Model vars\n",
    "production = True\n",
    "\n",
    "# Set the seed\n",
    "SEED = config[\"seed\"]\n",
    "np.random.seed(SEED)\n",
    "\n",
    "#Paths\n",
    "S3_PATH = \"models/binary_classifier/\"\n",
    "PATH_TO = f\"{PROJECT_DIR}/outputs/data/models/\"\n",
    "MODEL_FILENAME = f\"gpt_labelled_binary_classifier_distilbert_production_{production}.tar.gz\""
   ]
  },
  {
   "cell_type": "markdown",
   "metadata": {},
   "source": [
    "# 3.1 Loading model"
   ]
  },
  {
   "cell_type": "code",
   "execution_count": null,
   "metadata": {},
   "outputs": [],
   "source": [
    "get_binary_classifier_models(filename=MODEL_FILENAME, s3_path=S3_PATH, path_to=PATH_TO)"
   ]
  },
  {
   "cell_type": "code",
   "execution_count": null,
   "metadata": {},
   "outputs": [],
   "source": [
    "model_folder = f\"{PATH_TO}gpt_labelled_binary_classifier_distilbert_production_{production}\"\n",
    "# Load the model\n",
    "model = load_model(model_path=model_folder,config=binary_config, num_labels=2)\n",
    "\n",
    "# Train model with early stopping\n",
    "training_args = load_training_args(**binary_config[\"training_args\"])\n",
    "trainer = load_trained_model(\n",
    "    model=model,\n",
    "    args=training_args,\n",
    "    config=binary_config,\n",
    ")"
   ]
  },
  {
   "cell_type": "markdown",
   "metadata": {},
   "source": [
    "# 4. Testing edge cases"
   ]
  },
  {
   "cell_type": "code",
   "execution_count": null,
   "metadata": {},
   "outputs": [],
   "source": [
    "from discovery_child_development.getters.binary_classifier.prompts_edge_cases import get_examples\n",
    "from discovery_child_development.utils.testing_examples_utils import testing_examples_huggingface\n",
    "examples = get_examples()"
   ]
  },
  {
   "cell_type": "code",
   "execution_count": null,
   "metadata": {},
   "outputs": [],
   "source": [
    "# Removing Not-specified\n",
    "examples = examples.query(\"labels!='Not specified'\")\n",
    "examples.tail()"
   ]
  },
  {
   "cell_type": "code",
   "execution_count": null,
   "metadata": {},
   "outputs": [],
   "source": [
    "from discovery_child_development.utils.huggingface_pipeline import predictions_huggingface"
   ]
  },
  {
   "cell_type": "code",
   "execution_count": null,
   "metadata": {},
   "outputs": [],
   "source": [
    "predictions_huggingface(trainer,examples[[\"text\"]],binary_config)"
   ]
  },
  {
   "cell_type": "code",
   "execution_count": null,
   "metadata": {},
   "outputs": [],
   "source": [
    "testing_examples_huggingface(trainer,examples, binary_config)"
   ]
  },
  {
   "cell_type": "markdown",
   "metadata": {},
   "source": [
    "# 5. Trialling the model on the openalex concepts"
   ]
  },
  {
   "cell_type": "code",
   "execution_count": null,
   "metadata": {},
   "outputs": [],
   "source": [
    "# Get labelled training data\n",
    "labelled_data = get_labelled_data_for_classifier(set_type=\"train\")\n",
    "labelled_data_ids = labelled_data.id.unique()"
   ]
  },
  {
   "cell_type": "code",
   "execution_count": null,
   "metadata": {},
   "outputs": [],
   "source": [
    "# Get abstracts\n",
    "abstracts = get_abstracts().query(\"id not in @labelled_data_ids\")\n",
    "abstracts_broad = get_abstracts_broad().query(\"id not in @labelled_data_ids\")"
   ]
  },
  {
   "cell_type": "code",
   "execution_count": null,
   "metadata": {},
   "outputs": [],
   "source": [
    "# Collecting sample of results\n",
    "relevant = abstracts.sample(500,random_state=SEED).assign(labels=1)\n",
    "not_relevant = abstracts_broad.sample(500,random_state=SEED).assign(labels=0)\n",
    "test_set = pd.concat([relevant,not_relevant])"
   ]
  },
  {
   "cell_type": "code",
   "execution_count": null,
   "metadata": {},
   "outputs": [],
   "source": [
    "results = testing_examples_huggingface(trainer,test_set[['text']], binary_config)"
   ]
  },
  {
   "cell_type": "code",
   "execution_count": null,
   "metadata": {},
   "outputs": [],
   "source": [
    "results[1]"
   ]
  },
  {
   "cell_type": "code",
   "execution_count": null,
   "metadata": {},
   "outputs": [],
   "source": [
    "results[0]"
   ]
  },
  {
   "cell_type": "code",
   "execution_count": null,
   "metadata": {},
   "outputs": [],
   "source": [
    "test_set['predictions'] = results[0]"
   ]
  },
  {
   "cell_type": "code",
   "execution_count": null,
   "metadata": {},
   "outputs": [],
   "source": [
    "test_set[test_set.predictions!=test_set.labels]"
   ]
  },
  {
   "cell_type": "markdown",
   "metadata": {},
   "source": [
    "# 6. Trialling the model on the crunchbase concepts"
   ]
  },
  {
   "cell_type": "code",
   "execution_count": null,
   "metadata": {},
   "outputs": [],
   "source": [
    "from discovery_child_development.getters.labels import get_labelled_data\n",
    "\n",
    "crunchbase_relevant = get_labelled_data(\"relevant_crunchbase_investments_20230623\").reset_index().dropna()"
   ]
  },
  {
   "cell_type": "code",
   "execution_count": null,
   "metadata": {},
   "outputs": [],
   "source": [
    "results_crunchbase = testing_examples_huggingface(trainer,crunchbase_relevant[['labels','text']], binary_config)"
   ]
  },
  {
   "cell_type": "code",
   "execution_count": null,
   "metadata": {},
   "outputs": [],
   "source": [
    "crunchbase_relevant[['labels','text']].dropna()"
   ]
  }
 ],
 "metadata": {
  "kernelspec": {
   "display_name": "discovery_child_development",
   "language": "python",
   "name": "python3"
  },
  "language_info": {
   "codemirror_mode": {
    "name": "ipython",
    "version": 3
   },
   "file_extension": ".py",
   "mimetype": "text/x-python",
   "name": "python",
   "nbconvert_exporter": "python",
   "pygments_lexer": "ipython3",
   "version": "3.10.13"
  }
 },
 "nbformat": 4,
 "nbformat_minor": 2
}
